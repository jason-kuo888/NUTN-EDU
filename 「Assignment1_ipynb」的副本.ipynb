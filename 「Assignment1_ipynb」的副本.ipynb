{
  "nbformat": 4,
  "nbformat_minor": 0,
  "metadata": {
    "colab": {
      "name": "「Assignment1.ipynb」的副本",
      "provenance": [],
      "collapsed_sections": [],
      "include_colab_link": true
    },
    "kernelspec": {
      "name": "ir",
      "display_name": "R"
    }
  },
  "cells": [
    {
      "cell_type": "markdown",
      "metadata": {
        "id": "view-in-github",
        "colab_type": "text"
      },
      "source": [
        "<a href=\"https://colab.research.google.com/github/jason-kuo888/NUTN-EDU/blob/master/%E3%80%8CAssignment1_ipynb%E3%80%8D%E7%9A%84%E5%89%AF%E6%9C%AC.ipynb\" target=\"_parent\"><img src=\"https://colab.research.google.com/assets/colab-badge.svg\" alt=\"Open In Colab\"/></a>"
      ]
    },
    {
      "cell_type": "code",
      "metadata": {
        "id": "dzeHIuT7WfZ7",
        "colab_type": "code",
        "colab": {
          "base_uri": "https://localhost:8080/",
          "height": 33
        },
        "outputId": "2fc88038-0aff-4b03-b2f5-e099abffeb9f"
      },
      "source": [
        "class(6)"
      ],
      "execution_count": null,
      "outputs": [
        {
          "output_type": "display_data",
          "data": {
            "text/plain": [
              "[1] \"numeric\""
            ],
            "text/latex": "'numeric'",
            "text/markdown": "'numeric'",
            "text/html": [
              "'numeric'"
            ]
          },
          "metadata": {
            "tags": []
          }
        }
      ]
    },
    {
      "cell_type": "code",
      "metadata": {
        "id": "Y27PxXrxXOLm",
        "colab_type": "code",
        "colab": {
          "base_uri": "https://localhost:8080/",
          "height": 33
        },
        "outputId": "93ef8c96-2161-47db-cccf-b7dbbc26ac42"
      },
      "source": [
        "class(\"hi\")"
      ],
      "execution_count": null,
      "outputs": [
        {
          "output_type": "display_data",
          "data": {
            "text/plain": [
              "[1] \"character\""
            ],
            "text/latex": "'character'",
            "text/markdown": "'character'",
            "text/html": [
              "'character'"
            ]
          },
          "metadata": {
            "tags": []
          }
        }
      ]
    },
    {
      "cell_type": "code",
      "metadata": {
        "id": "HWEfFii6XrU7",
        "colab_type": "code",
        "colab": {
          "base_uri": "https://localhost:8080/",
          "height": 33
        },
        "outputId": "6b601bd5-d906-416d-a101-bf2cc2b2d14d"
      },
      "source": [
        "8 > 7"
      ],
      "execution_count": null,
      "outputs": [
        {
          "output_type": "display_data",
          "data": {
            "text/plain": [
              "[1] TRUE"
            ],
            "text/latex": "TRUE",
            "text/markdown": "TRUE",
            "text/html": [
              "TRUE"
            ]
          },
          "metadata": {
            "tags": []
          }
        }
      ]
    },
    {
      "cell_type": "code",
      "metadata": {
        "id": "9eSpibgYX6F0",
        "colab_type": "code",
        "colab": {
          "base_uri": "https://localhost:8080/",
          "height": 33
        },
        "outputId": "0f486207-d7ab-4025-cba3-c666c0f14f71"
      },
      "source": [
        "9 + 6"
      ],
      "execution_count": null,
      "outputs": [
        {
          "output_type": "display_data",
          "data": {
            "text/plain": [
              "[1] 15"
            ],
            "text/latex": "15",
            "text/markdown": "15",
            "text/html": [
              "15"
            ]
          },
          "metadata": {
            "tags": []
          }
        }
      ]
    },
    {
      "cell_type": "code",
      "metadata": {
        "id": "p5AUshXNYQg_",
        "colab_type": "code",
        "colab": {}
      },
      "source": [
        "My_H <- 167"
      ],
      "execution_count": null,
      "outputs": []
    },
    {
      "cell_type": "code",
      "metadata": {
        "id": "-BLpPP6kYpXd",
        "colab_type": "code",
        "colab": {}
      },
      "source": [
        "My_W <- 70"
      ],
      "execution_count": null,
      "outputs": []
    },
    {
      "cell_type": "code",
      "metadata": {
        "id": "cj9EQIkYZDDy",
        "colab_type": "code",
        "colab": {}
      },
      "source": [
        "BMI = My_W/(My_H/100)/(My_H/100)"
      ],
      "execution_count": null,
      "outputs": []
    },
    {
      "cell_type": "code",
      "metadata": {
        "id": "5Jpvmbb0ZFXR",
        "colab_type": "code",
        "colab": {}
      },
      "source": [
        "first_name<- \"jason kuo\""
      ],
      "execution_count": null,
      "outputs": []
    },
    {
      "cell_type": "code",
      "metadata": {
        "id": "-e7PAUdgZcsH",
        "colab_type": "code",
        "colab": {
          "base_uri": "https://localhost:8080/",
          "height": 33
        },
        "outputId": "99c72d73-8225-4d4f-8afe-e8d4c3344930"
      },
      "source": [
        "first_name"
      ],
      "execution_count": null,
      "outputs": [
        {
          "output_type": "display_data",
          "data": {
            "text/plain": [
              "[1] \"jason kuo\""
            ],
            "text/latex": "'jason kuo'",
            "text/markdown": "'jason kuo'",
            "text/html": [
              "'jason kuo'"
            ]
          },
          "metadata": {
            "tags": []
          }
        }
      ]
    },
    {
      "cell_type": "code",
      "metadata": {
        "id": "YgluUZdPbQDB",
        "colab_type": "code",
        "colab": {
          "base_uri": "https://localhost:8080/",
          "height": 33
        },
        "outputId": "aafd5cab-eaaf-4a97-932d-f7138b7fbaf8"
      },
      "source": [
        "paste0(\"我的身高\",My_H)"
      ],
      "execution_count": null,
      "outputs": [
        {
          "output_type": "display_data",
          "data": {
            "text/plain": [
              "[1] \"我的身高167\""
            ],
            "text/latex": "'我的身高167'",
            "text/markdown": "'我的身高167'",
            "text/html": [
              "'我的身高167'"
            ]
          },
          "metadata": {
            "tags": []
          }
        }
      ]
    },
    {
      "cell_type": "code",
      "metadata": {
        "id": "j1a0X4Z1cRhP",
        "colab_type": "code",
        "colab": {
          "base_uri": "https://localhost:8080/",
          "height": 33
        },
        "outputId": "caecdd09-bee3-44d2-85d3-94893a84d5fb"
      },
      "source": [
        "paste0(\"我的體重\",My_W)"
      ],
      "execution_count": null,
      "outputs": [
        {
          "output_type": "display_data",
          "data": {
            "text/plain": [
              "[1] \"我的體重70\""
            ],
            "text/latex": "'我的體重70'",
            "text/markdown": "'我的體重70'",
            "text/html": [
              "'我的體重70'"
            ]
          },
          "metadata": {
            "tags": []
          }
        }
      ]
    },
    {
      "cell_type": "code",
      "metadata": {
        "id": "9Tq3X_EXcszG",
        "colab_type": "code",
        "colab": {
          "base_uri": "https://localhost:8080/",
          "height": 33
        },
        "outputId": "0c883659-3eeb-467c-b440-7baa1dd3b0df"
      },
      "source": [
        "paste0(\"我的BMI\",BMI)"
      ],
      "execution_count": null,
      "outputs": [
        {
          "output_type": "display_data",
          "data": {
            "text/plain": [
              "[1] \"我的BMI25.0995015956112\""
            ],
            "text/latex": "'我的BMI25.0995015956112'",
            "text/markdown": "'我的BMI25.0995015956112'",
            "text/html": [
              "'我的BMI25.0995015956112'"
            ]
          },
          "metadata": {
            "tags": []
          }
        }
      ]
    },
    {
      "cell_type": "code",
      "metadata": {
        "id": "iMW2Y9LMdcR0",
        "colab_type": "code",
        "colab": {
          "base_uri": "https://localhost:8080/",
          "height": 33
        },
        "outputId": "85038a04-608d-4772-8499-fbe2126a6026"
      },
      "source": [
        "paste0(\"我的名字\",first_name)"
      ],
      "execution_count": null,
      "outputs": [
        {
          "output_type": "display_data",
          "data": {
            "text/plain": [
              "[1] \"我的名字jason kuo\""
            ],
            "text/latex": "'我的名字jason kuo'",
            "text/markdown": "'我的名字jason kuo'",
            "text/html": [
              "'我的名字jason kuo'"
            ]
          },
          "metadata": {
            "tags": []
          }
        }
      ]
    }
  ]
}