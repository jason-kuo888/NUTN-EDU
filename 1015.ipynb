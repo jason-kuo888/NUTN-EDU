{
  "nbformat": 4,
  "nbformat_minor": 0,
  "metadata": {
    "colab": {
      "name": "1015.ipynb",
      "provenance": [],
      "authorship_tag": "ABX9TyPHEKAq0KXtbVsGqheFuKss",
      "include_colab_link": true
    },
    "kernelspec": {
      "name": "ir",
      "display_name": "R"
    }
  },
  "cells": [
    {
      "cell_type": "markdown",
      "metadata": {
        "id": "view-in-github",
        "colab_type": "text"
      },
      "source": [
        "<a href=\"https://colab.research.google.com/github/jason-kuo888/NUTN-EDU/blob/master/1015.ipynb\" target=\"_parent\"><img src=\"https://colab.research.google.com/assets/colab-badge.svg\" alt=\"Open In Colab\"/></a>"
      ]
    },
    {
      "cell_type": "code",
      "metadata": {
        "id": "zxRw5JsvWAuY",
        "outputId": "f919f5cb-becf-4d7a-8751-69aa901daa1a",
        "colab": {
          "base_uri": "https://localhost:8080/",
          "height": 68
        }
      },
      "source": [
        "a<- 5\n",
        "b<- 3.8\n",
        "c<- -1\n",
        "\n",
        "str(a)\n",
        "str(b)\n",
        "str(c)"
      ],
      "execution_count": 2,
      "outputs": [
        {
          "output_type": "stream",
          "text": [
            " num 5\n",
            " num 3.8\n",
            " num -1\n"
          ],
          "name": "stdout"
        }
      ]
    },
    {
      "cell_type": "code",
      "metadata": {
        "id": "6UfTbpHzW8QN",
        "outputId": "e584bbf6-6704-44b4-aab6-2a63f2e3fde4",
        "colab": {
          "base_uri": "https://localhost:8080/",
          "height": 85
        }
      },
      "source": [
        "is.numeric(a)\n",
        "is.numeric(b)\n",
        "is.integer(a)\n",
        "is.integer(b)\n"
      ],
      "execution_count": 3,
      "outputs": [
        {
          "output_type": "display_data",
          "data": {
            "text/plain": [
              "[1] TRUE"
            ],
            "text/latex": "TRUE",
            "text/markdown": "TRUE",
            "text/html": [
              "TRUE"
            ]
          },
          "metadata": {
            "tags": []
          }
        },
        {
          "output_type": "display_data",
          "data": {
            "text/plain": [
              "[1] TRUE"
            ],
            "text/latex": "TRUE",
            "text/markdown": "TRUE",
            "text/html": [
              "TRUE"
            ]
          },
          "metadata": {
            "tags": []
          }
        },
        {
          "output_type": "display_data",
          "data": {
            "text/plain": [
              "[1] FALSE"
            ],
            "text/latex": "FALSE",
            "text/markdown": "FALSE",
            "text/html": [
              "FALSE"
            ]
          },
          "metadata": {
            "tags": []
          }
        },
        {
          "output_type": "display_data",
          "data": {
            "text/plain": [
              "[1] FALSE"
            ],
            "text/latex": "FALSE",
            "text/markdown": "FALSE",
            "text/html": [
              "FALSE"
            ]
          },
          "metadata": {
            "tags": []
          }
        }
      ]
    },
    {
      "cell_type": "code",
      "metadata": {
        "id": "tieg_70xXx_x",
        "outputId": "b2f50285-f29d-4dfc-945b-a87de8a39e5b",
        "colab": {
          "base_uri": "https://localhost:8080/",
          "height": 51
        }
      },
      "source": [
        "d<-\"Hello\"\n",
        "e<-\"Hi\"\n",
        "str(d)\n",
        "str(e)"
      ],
      "execution_count": 4,
      "outputs": [
        {
          "output_type": "stream",
          "text": [
            " chr \"Hello\"\n",
            " chr \"Hi\"\n"
          ],
          "name": "stdout"
        }
      ]
    },
    {
      "cell_type": "code",
      "metadata": {
        "id": "7NQJWuHNYHdd",
        "outputId": "52804a2f-5c6a-42ac-be65-e45f1402d33d",
        "colab": {
          "base_uri": "https://localhost:8080/",
          "height": 85
        }
      },
      "source": [
        "f<-c(5,4,3,2,1)\n",
        "g<-c(\"蔡英文\",\"賴清德\",\"蘇貞昌\")\n",
        "f[2]\n",
        "g[3]\n",
        "g[c(1,2)]\n",
        "g[c(1,3)]"
      ],
      "execution_count": 9,
      "outputs": [
        {
          "output_type": "display_data",
          "data": {
            "text/plain": [
              "[1] 4"
            ],
            "text/latex": "4",
            "text/markdown": "4",
            "text/html": [
              "4"
            ]
          },
          "metadata": {
            "tags": []
          }
        },
        {
          "output_type": "display_data",
          "data": {
            "text/plain": [
              "[1] \"蘇貞昌\""
            ],
            "text/latex": "'蘇貞昌'",
            "text/markdown": "'蘇貞昌'",
            "text/html": [
              "'蘇貞昌'"
            ]
          },
          "metadata": {
            "tags": []
          }
        },
        {
          "output_type": "display_data",
          "data": {
            "text/plain": [
              "[1] \"蔡英文\" \"賴清德\""
            ],
            "text/latex": "\\begin{enumerate*}\n\\item '蔡英文'\n\\item '賴清德'\n\\end{enumerate*}\n",
            "text/markdown": "1. '蔡英文'\n2. '賴清德'\n\n\n",
            "text/html": [
              "<style>\n",
              ".list-inline {list-style: none; margin:0; padding: 0}\n",
              ".list-inline>li {display: inline-block}\n",
              ".list-inline>li:not(:last-child)::after {content: \"\\00b7\"; padding: 0 .5ex}\n",
              "</style>\n",
              "<ol class=list-inline><li>'蔡英文'</li><li>'賴清德'</li></ol>\n"
            ]
          },
          "metadata": {
            "tags": []
          }
        },
        {
          "output_type": "display_data",
          "data": {
            "text/plain": [
              "[1] \"蔡英文\" \"蘇貞昌\""
            ],
            "text/latex": "\\begin{enumerate*}\n\\item '蔡英文'\n\\item '蘇貞昌'\n\\end{enumerate*}\n",
            "text/markdown": "1. '蔡英文'\n2. '蘇貞昌'\n\n\n",
            "text/html": [
              "<style>\n",
              ".list-inline {list-style: none; margin:0; padding: 0}\n",
              ".list-inline>li {display: inline-block}\n",
              ".list-inline>li:not(:last-child)::after {content: \"\\00b7\"; padding: 0 .5ex}\n",
              "</style>\n",
              "<ol class=list-inline><li>'蔡英文'</li><li>'蘇貞昌'</li></ol>\n"
            ]
          },
          "metadata": {
            "tags": []
          }
        }
      ]
    },
    {
      "cell_type": "code",
      "metadata": {
        "id": "5MJQG8fMZNZA",
        "outputId": "087df865-413d-43f6-f87e-9b81eebece06",
        "colab": {
          "base_uri": "https://localhost:8080/",
          "height": 68
        }
      },
      "source": [
        "h<-c(1,2,3,4,5,6,7,8,9)\n",
        "i<-c(2,3,4,5,6,7,8,9,10)\n",
        "h*t\n",
        "h^3\n",
        "i>5"
      ],
      "execution_count": 8,
      "outputs": [
        {
          "output_type": "display_data",
          "data": {
            "text/plain": [
              "[1]  2  6 12 20 30 42 56 72 90"
            ],
            "text/latex": "\\begin{enumerate*}\n\\item 2\n\\item 6\n\\item 12\n\\item 20\n\\item 30\n\\item 42\n\\item 56\n\\item 72\n\\item 90\n\\end{enumerate*}\n",
            "text/markdown": "1. 2\n2. 6\n3. 12\n4. 20\n5. 30\n6. 42\n7. 56\n8. 72\n9. 90\n\n\n",
            "text/html": [
              "<style>\n",
              ".list-inline {list-style: none; margin:0; padding: 0}\n",
              ".list-inline>li {display: inline-block}\n",
              ".list-inline>li:not(:last-child)::after {content: \"\\00b7\"; padding: 0 .5ex}\n",
              "</style>\n",
              "<ol class=list-inline><li>2</li><li>6</li><li>12</li><li>20</li><li>30</li><li>42</li><li>56</li><li>72</li><li>90</li></ol>\n"
            ]
          },
          "metadata": {
            "tags": []
          }
        },
        {
          "output_type": "display_data",
          "data": {
            "text/plain": [
              "[1]   1   8  27  64 125 216 343 512 729"
            ],
            "text/latex": "\\begin{enumerate*}\n\\item 1\n\\item 8\n\\item 27\n\\item 64\n\\item 125\n\\item 216\n\\item 343\n\\item 512\n\\item 729\n\\end{enumerate*}\n",
            "text/markdown": "1. 1\n2. 8\n3. 27\n4. 64\n5. 125\n6. 216\n7. 343\n8. 512\n9. 729\n\n\n",
            "text/html": [
              "<style>\n",
              ".list-inline {list-style: none; margin:0; padding: 0}\n",
              ".list-inline>li {display: inline-block}\n",
              ".list-inline>li:not(:last-child)::after {content: \"\\00b7\"; padding: 0 .5ex}\n",
              "</style>\n",
              "<ol class=list-inline><li>1</li><li>8</li><li>27</li><li>64</li><li>125</li><li>216</li><li>343</li><li>512</li><li>729</li></ol>\n"
            ]
          },
          "metadata": {
            "tags": []
          }
        },
        {
          "output_type": "display_data",
          "data": {
            "text/plain": [
              "[1] FALSE FALSE FALSE FALSE  TRUE  TRUE  TRUE  TRUE  TRUE"
            ],
            "text/latex": "\\begin{enumerate*}\n\\item FALSE\n\\item FALSE\n\\item FALSE\n\\item FALSE\n\\item TRUE\n\\item TRUE\n\\item TRUE\n\\item TRUE\n\\item TRUE\n\\end{enumerate*}\n",
            "text/markdown": "1. FALSE\n2. FALSE\n3. FALSE\n4. FALSE\n5. TRUE\n6. TRUE\n7. TRUE\n8. TRUE\n9. TRUE\n\n\n",
            "text/html": [
              "<style>\n",
              ".list-inline {list-style: none; margin:0; padding: 0}\n",
              ".list-inline>li {display: inline-block}\n",
              ".list-inline>li:not(:last-child)::after {content: \"\\00b7\"; padding: 0 .5ex}\n",
              "</style>\n",
              "<ol class=list-inline><li>FALSE</li><li>FALSE</li><li>FALSE</li><li>FALSE</li><li>TRUE</li><li>TRUE</li><li>TRUE</li><li>TRUE</li><li>TRUE</li></ol>\n"
            ]
          },
          "metadata": {
            "tags": []
          }
        }
      ]
    },
    {
      "cell_type": "code",
      "metadata": {
        "id": "5i9njZgHaWKI",
        "outputId": "11cc7971-2bbd-48e5-8504-d4cda882334a",
        "colab": {
          "base_uri": "https://localhost:8080/",
          "height": 68
        }
      },
      "source": [
        "gender<-c(\"男\",\"女\",\"男\",\"男\",\"女\",\"中\")\n",
        "gender<- factor(gender)\n",
        "gender\n",
        "levels(gender)"
      ],
      "execution_count": 10,
      "outputs": [
        {
          "output_type": "display_data",
          "data": {
            "text/plain": [
              "[1] 男 女 男 男 女 中\n",
              "Levels: 中 女 男"
            ],
            "text/latex": "\\begin{enumerate*}\n\\item 男\n\\item 女\n\\item 男\n\\item 男\n\\item 女\n\\item 中\n\\end{enumerate*}\n\n\\emph{Levels}: \\begin{enumerate*}\n\\item '中'\n\\item '女'\n\\item '男'\n\\end{enumerate*}\n",
            "text/markdown": "1. 男\n2. 女\n3. 男\n4. 男\n5. 女\n6. 中\n\n\n\n**Levels**: 1. '中'\n2. '女'\n3. '男'\n\n\n",
            "text/html": [
              "<style>\n",
              ".list-inline {list-style: none; margin:0; padding: 0}\n",
              ".list-inline>li {display: inline-block}\n",
              ".list-inline>li:not(:last-child)::after {content: \"\\00b7\"; padding: 0 .5ex}\n",
              "</style>\n",
              "<ol class=list-inline><li>男</li><li>女</li><li>男</li><li>男</li><li>女</li><li>中</li></ol>\n",
              "\n",
              "<details>\n",
              "\t<summary style=display:list-item;cursor:pointer>\n",
              "\t\t<strong>Levels</strong>:\n",
              "\t</summary>\n",
              "\t<style>\n",
              "\t.list-inline {list-style: none; margin:0; padding: 0}\n",
              "\t.list-inline>li {display: inline-block}\n",
              "\t.list-inline>li:not(:last-child)::after {content: \"\\00b7\"; padding: 0 .5ex}\n",
              "\t</style>\n",
              "\t<ol class=list-inline><li>'中'</li><li>'女'</li><li>'男'</li></ol>\n",
              "</details>"
            ]
          },
          "metadata": {
            "tags": []
          }
        },
        {
          "output_type": "display_data",
          "data": {
            "text/plain": [
              "[1] \"中\" \"女\" \"男\""
            ],
            "text/latex": "\\begin{enumerate*}\n\\item '中'\n\\item '女'\n\\item '男'\n\\end{enumerate*}\n",
            "text/markdown": "1. '中'\n2. '女'\n3. '男'\n\n\n",
            "text/html": [
              "<style>\n",
              ".list-inline {list-style: none; margin:0; padding: 0}\n",
              ".list-inline>li {display: inline-block}\n",
              ".list-inline>li:not(:last-child)::after {content: \"\\00b7\"; padding: 0 .5ex}\n",
              "</style>\n",
              "<ol class=list-inline><li>'中'</li><li>'女'</li><li>'男'</li></ol>\n"
            ]
          },
          "metadata": {
            "tags": []
          }
        }
      ]
    },
    {
      "cell_type": "code",
      "metadata": {
        "id": "8_G7_V9Bbx_n",
        "outputId": "eadc68a3-8526-4b5f-c2ce-6bdfda216d58",
        "colab": {
          "base_uri": "https://localhost:8080/",
          "height": 296
        }
      },
      "source": [
        "j<-matrix(c(1:6),nrow=3,ncol=2)\n",
        "j\n",
        "k<-matrix(c(7:12),nrow=2,ncol=3)\n",
        "k"
      ],
      "execution_count": 11,
      "outputs": [
        {
          "output_type": "display_data",
          "data": {
            "text/plain": [
              "     [,1] [,2]\n",
              "[1,] 1    4   \n",
              "[2,] 2    5   \n",
              "[3,] 3    6   "
            ],
            "text/latex": "A matrix: 3 × 2 of type int\n\\begin{tabular}{ll}\n\t 1 & 4\\\\\n\t 2 & 5\\\\\n\t 3 & 6\\\\\n\\end{tabular}\n",
            "text/markdown": "\nA matrix: 3 × 2 of type int\n\n| 1 | 4 |\n| 2 | 5 |\n| 3 | 6 |\n\n",
            "text/html": [
              "<table>\n",
              "<caption>A matrix: 3 × 2 of type int</caption>\n",
              "<tbody>\n",
              "\t<tr><td>1</td><td>4</td></tr>\n",
              "\t<tr><td>2</td><td>5</td></tr>\n",
              "\t<tr><td>3</td><td>6</td></tr>\n",
              "</tbody>\n",
              "</table>\n"
            ]
          },
          "metadata": {
            "tags": []
          }
        },
        {
          "output_type": "display_data",
          "data": {
            "text/plain": [
              "     [,1] [,2] [,3]\n",
              "[1,] 7     9   11  \n",
              "[2,] 8    10   12  "
            ],
            "text/latex": "A matrix: 2 × 3 of type int\n\\begin{tabular}{lll}\n\t 7 &  9 & 11\\\\\n\t 8 & 10 & 12\\\\\n\\end{tabular}\n",
            "text/markdown": "\nA matrix: 2 × 3 of type int\n\n| 7 |  9 | 11 |\n| 8 | 10 | 12 |\n\n",
            "text/html": [
              "<table>\n",
              "<caption>A matrix: 2 × 3 of type int</caption>\n",
              "<tbody>\n",
              "\t<tr><td>7</td><td> 9</td><td>11</td></tr>\n",
              "\t<tr><td>8</td><td>10</td><td>12</td></tr>\n",
              "</tbody>\n",
              "</table>\n"
            ]
          },
          "metadata": {
            "tags": []
          }
        }
      ]
    },
    {
      "cell_type": "code",
      "metadata": {
        "id": "E5UvV-qydAnr",
        "outputId": "c80bef07-f2a4-4c72-c2fb-5b72752d2831",
        "colab": {
          "base_uri": "https://localhost:8080/",
          "height": 68
        }
      },
      "source": [
        "j[2,2]\n",
        "j[2,]\n",
        "j[,2]"
      ],
      "execution_count": 12,
      "outputs": [
        {
          "output_type": "display_data",
          "data": {
            "text/plain": [
              "[1] 5"
            ],
            "text/latex": "5",
            "text/markdown": "5",
            "text/html": [
              "5"
            ]
          },
          "metadata": {
            "tags": []
          }
        },
        {
          "output_type": "display_data",
          "data": {
            "text/plain": [
              "[1] 2 5"
            ],
            "text/latex": "\\begin{enumerate*}\n\\item 2\n\\item 5\n\\end{enumerate*}\n",
            "text/markdown": "1. 2\n2. 5\n\n\n",
            "text/html": [
              "<style>\n",
              ".list-inline {list-style: none; margin:0; padding: 0}\n",
              ".list-inline>li {display: inline-block}\n",
              ".list-inline>li:not(:last-child)::after {content: \"\\00b7\"; padding: 0 .5ex}\n",
              "</style>\n",
              "<ol class=list-inline><li>2</li><li>5</li></ol>\n"
            ]
          },
          "metadata": {
            "tags": []
          }
        },
        {
          "output_type": "display_data",
          "data": {
            "text/plain": [
              "[1] 4 5 6"
            ],
            "text/latex": "\\begin{enumerate*}\n\\item 4\n\\item 5\n\\item 6\n\\end{enumerate*}\n",
            "text/markdown": "1. 4\n2. 5\n3. 6\n\n\n",
            "text/html": [
              "<style>\n",
              ".list-inline {list-style: none; margin:0; padding: 0}\n",
              ".list-inline>li {display: inline-block}\n",
              ".list-inline>li:not(:last-child)::after {content: \"\\00b7\"; padding: 0 .5ex}\n",
              "</style>\n",
              "<ol class=list-inline><li>4</li><li>5</li><li>6</li></ol>\n"
            ]
          },
          "metadata": {
            "tags": []
          }
        }
      ]
    },
    {
      "cell_type": "code",
      "metadata": {
        "id": "fQUPWq4Yf3PI",
        "outputId": "29b59513-983c-433d-c4f7-0dca350b39db",
        "colab": {
          "base_uri": "https://localhost:8080/",
          "height": 68
        }
      },
      "source": [
        "k[2,2]\n",
        "k[2,]\n",
        "k[,2]"
      ],
      "execution_count": 13,
      "outputs": [
        {
          "output_type": "display_data",
          "data": {
            "text/plain": [
              "[1] 10"
            ],
            "text/latex": "10",
            "text/markdown": "10",
            "text/html": [
              "10"
            ]
          },
          "metadata": {
            "tags": []
          }
        },
        {
          "output_type": "display_data",
          "data": {
            "text/plain": [
              "[1]  8 10 12"
            ],
            "text/latex": "\\begin{enumerate*}\n\\item 8\n\\item 10\n\\item 12\n\\end{enumerate*}\n",
            "text/markdown": "1. 8\n2. 10\n3. 12\n\n\n",
            "text/html": [
              "<style>\n",
              ".list-inline {list-style: none; margin:0; padding: 0}\n",
              ".list-inline>li {display: inline-block}\n",
              ".list-inline>li:not(:last-child)::after {content: \"\\00b7\"; padding: 0 .5ex}\n",
              "</style>\n",
              "<ol class=list-inline><li>8</li><li>10</li><li>12</li></ol>\n"
            ]
          },
          "metadata": {
            "tags": []
          }
        },
        {
          "output_type": "display_data",
          "data": {
            "text/plain": [
              "[1]  9 10"
            ],
            "text/latex": "\\begin{enumerate*}\n\\item 9\n\\item 10\n\\end{enumerate*}\n",
            "text/markdown": "1. 9\n2. 10\n\n\n",
            "text/html": [
              "<style>\n",
              ".list-inline {list-style: none; margin:0; padding: 0}\n",
              ".list-inline>li {display: inline-block}\n",
              ".list-inline>li:not(:last-child)::after {content: \"\\00b7\"; padding: 0 .5ex}\n",
              "</style>\n",
              "<ol class=list-inline><li>9</li><li>10</li></ol>\n"
            ]
          },
          "metadata": {
            "tags": []
          }
        }
      ]
    },
    {
      "cell_type": "code",
      "metadata": {
        "id": "gCm5KUl5gMiJ",
        "outputId": "c9bca950-8ac5-4c7d-cee8-6b328ed82e20",
        "colab": {
          "base_uri": "https://localhost:8080/",
          "height": 183
        }
      },
      "source": [
        "tmp<-data.frame(student_ID=c(1,2,3,4,5),name=c(\"Helen\",\"Lion\",\"Leon\",\"Kevin\",\"Tommy\"),score=c(80,36,88.9,97.5,60))\n",
        "\n",
        "tmp\n",
        "        "
      ],
      "execution_count": 14,
      "outputs": [
        {
          "output_type": "display_data",
          "data": {
            "text/plain": [
              "  student_ID name  score\n",
              "1 1          Helen 80.0 \n",
              "2 2          Lion  36.0 \n",
              "3 3          Leon  88.9 \n",
              "4 4          Kevin 97.5 \n",
              "5 5          Tommy 60.0 "
            ],
            "text/latex": "A data.frame: 5 × 3\n\\begin{tabular}{lll}\n student\\_ID & name & score\\\\\n <dbl> & <chr> & <dbl>\\\\\n\\hline\n\t 1 & Helen & 80.0\\\\\n\t 2 & Lion  & 36.0\\\\\n\t 3 & Leon  & 88.9\\\\\n\t 4 & Kevin & 97.5\\\\\n\t 5 & Tommy & 60.0\\\\\n\\end{tabular}\n",
            "text/markdown": "\nA data.frame: 5 × 3\n\n| student_ID &lt;dbl&gt; | name &lt;chr&gt; | score &lt;dbl&gt; |\n|---|---|---|\n| 1 | Helen | 80.0 |\n| 2 | Lion  | 36.0 |\n| 3 | Leon  | 88.9 |\n| 4 | Kevin | 97.5 |\n| 5 | Tommy | 60.0 |\n\n",
            "text/html": [
              "<table>\n",
              "<caption>A data.frame: 5 × 3</caption>\n",
              "<thead>\n",
              "\t<tr><th scope=col>student_ID</th><th scope=col>name</th><th scope=col>score</th></tr>\n",
              "\t<tr><th scope=col>&lt;dbl&gt;</th><th scope=col>&lt;chr&gt;</th><th scope=col>&lt;dbl&gt;</th></tr>\n",
              "</thead>\n",
              "<tbody>\n",
              "\t<tr><td>1</td><td>Helen</td><td>80.0</td></tr>\n",
              "\t<tr><td>2</td><td>Lion </td><td>36.0</td></tr>\n",
              "\t<tr><td>3</td><td>Leon </td><td>88.9</td></tr>\n",
              "\t<tr><td>4</td><td>Kevin</td><td>97.5</td></tr>\n",
              "\t<tr><td>5</td><td>Tommy</td><td>60.0</td></tr>\n",
              "</tbody>\n",
              "</table>\n"
            ]
          },
          "metadata": {
            "tags": []
          }
        }
      ]
    },
    {
      "cell_type": "code",
      "metadata": {
        "id": "fJD4D3O_iS4L",
        "outputId": "e4c63bd6-0644-4aa8-9905-24a1702ebfb9",
        "colab": {
          "base_uri": "https://localhost:8080/",
          "height": 211
        }
      },
      "source": [
        "tmp[2,3]\n",
        "tmp[,2]\n",
        "tmp$name==\"Kevin\"\n",
        "tmp[tmp$name==\"Lun\",]\n",
        "tmp[tmp$name==\"Tommy\",]"
      ],
      "execution_count": 16,
      "outputs": [
        {
          "output_type": "display_data",
          "data": {
            "text/plain": [
              "[1] 36"
            ],
            "text/latex": "36",
            "text/markdown": "36",
            "text/html": [
              "36"
            ]
          },
          "metadata": {
            "tags": []
          }
        },
        {
          "output_type": "display_data",
          "data": {
            "text/plain": [
              "[1] \"Helen\" \"Lion\"  \"Leon\"  \"Kevin\" \"Tommy\""
            ],
            "text/latex": "\\begin{enumerate*}\n\\item 'Helen'\n\\item 'Lion'\n\\item 'Leon'\n\\item 'Kevin'\n\\item 'Tommy'\n\\end{enumerate*}\n",
            "text/markdown": "1. 'Helen'\n2. 'Lion'\n3. 'Leon'\n4. 'Kevin'\n5. 'Tommy'\n\n\n",
            "text/html": [
              "<style>\n",
              ".list-inline {list-style: none; margin:0; padding: 0}\n",
              ".list-inline>li {display: inline-block}\n",
              ".list-inline>li:not(:last-child)::after {content: \"\\00b7\"; padding: 0 .5ex}\n",
              "</style>\n",
              "<ol class=list-inline><li>'Helen'</li><li>'Lion'</li><li>'Leon'</li><li>'Kevin'</li><li>'Tommy'</li></ol>\n"
            ]
          },
          "metadata": {
            "tags": []
          }
        },
        {
          "output_type": "display_data",
          "data": {
            "text/plain": [
              "[1] FALSE FALSE FALSE  TRUE FALSE"
            ],
            "text/latex": "\\begin{enumerate*}\n\\item FALSE\n\\item FALSE\n\\item FALSE\n\\item TRUE\n\\item FALSE\n\\end{enumerate*}\n",
            "text/markdown": "1. FALSE\n2. FALSE\n3. FALSE\n4. TRUE\n5. FALSE\n\n\n",
            "text/html": [
              "<style>\n",
              ".list-inline {list-style: none; margin:0; padding: 0}\n",
              ".list-inline>li {display: inline-block}\n",
              ".list-inline>li:not(:last-child)::after {content: \"\\00b7\"; padding: 0 .5ex}\n",
              "</style>\n",
              "<ol class=list-inline><li>FALSE</li><li>FALSE</li><li>FALSE</li><li>TRUE</li><li>FALSE</li></ol>\n"
            ]
          },
          "metadata": {
            "tags": []
          }
        },
        {
          "output_type": "display_data",
          "data": {
            "text/plain": [
              "     student_ID name score"
            ],
            "text/latex": "A data.frame: 0 × 3\n\\begin{tabular}{lll}\n student\\_ID & name & score\\\\\n <dbl> & <chr> & <dbl>\\\\\n\\hline\n\\end{tabular}\n",
            "text/markdown": "\nA data.frame: 0 × 3\n\n| student_ID &lt;dbl&gt; | name &lt;chr&gt; | score &lt;dbl&gt; |\n|---|---|---|\n\n",
            "text/html": [
              "<table>\n",
              "<caption>A data.frame: 0 × 3</caption>\n",
              "<thead>\n",
              "\t<tr><th scope=col>student_ID</th><th scope=col>name</th><th scope=col>score</th></tr>\n",
              "\t<tr><th scope=col>&lt;dbl&gt;</th><th scope=col>&lt;chr&gt;</th><th scope=col>&lt;dbl&gt;</th></tr>\n",
              "</thead>\n",
              "<tbody>\n",
              "</tbody>\n",
              "</table>\n"
            ]
          },
          "metadata": {
            "tags": []
          }
        },
        {
          "output_type": "display_data",
          "data": {
            "text/plain": [
              "  student_ID name  score\n",
              "5 5          Tommy 60   "
            ],
            "text/latex": "A data.frame: 1 × 3\n\\begin{tabular}{r|lll}\n  & student\\_ID & name & score\\\\\n  & <dbl> & <chr> & <dbl>\\\\\n\\hline\n\t5 & 5 & Tommy & 60\\\\\n\\end{tabular}\n",
            "text/markdown": "\nA data.frame: 1 × 3\n\n| <!--/--> | student_ID &lt;dbl&gt; | name &lt;chr&gt; | score &lt;dbl&gt; |\n|---|---|---|---|\n| 5 | 5 | Tommy | 60 |\n\n",
            "text/html": [
              "<table>\n",
              "<caption>A data.frame: 1 × 3</caption>\n",
              "<thead>\n",
              "\t<tr><th></th><th scope=col>student_ID</th><th scope=col>name</th><th scope=col>score</th></tr>\n",
              "\t<tr><th></th><th scope=col>&lt;dbl&gt;</th><th scope=col>&lt;chr&gt;</th><th scope=col>&lt;dbl&gt;</th></tr>\n",
              "</thead>\n",
              "<tbody>\n",
              "\t<tr><th scope=row>5</th><td>5</td><td>Tommy</td><td>60</td></tr>\n",
              "</tbody>\n",
              "</table>\n"
            ]
          },
          "metadata": {
            "tags": []
          }
        }
      ]
    },
    {
      "cell_type": "code",
      "metadata": {
        "id": "_DY7D188jQ2Z",
        "outputId": "25154da2-2cdf-46a1-9054-a4e8c649b277",
        "colab": {
          "base_uri": "https://localhost:8080/",
          "height": 68
        }
      },
      "source": [
        "install.packages(\"SportsAnalytics\")\n",
        "library(\"SportsAnalytics\")\n",
        "NBA1516<-fetch_NBAPlayerStatistics(\"15-16\")"
      ],
      "execution_count": 19,
      "outputs": [
        {
          "output_type": "stream",
          "text": [
            "Installing package into ‘/usr/local/lib/R/site-library’\n",
            "(as ‘lib’ is unspecified)\n",
            "\n"
          ],
          "name": "stderr"
        }
      ]
    },
    {
      "cell_type": "code",
      "metadata": {
        "id": "UMEbUawrkahS",
        "outputId": "f3ae9b46-2308-4c83-9162-d7305f354933",
        "colab": {
          "base_uri": "https://localhost:8080/",
          "height": 1000
        }
      },
      "source": [
        "NBA15160rder<-NBA1516[order(NBA1516$GamesPlayed,decreasing=T),]\n",
        "NBA15160rder[1:20]"
      ],
      "execution_count": 20,
      "outputs": [
        {
          "output_type": "display_data",
          "data": {
            "text/plain": [
              "    League Name             Team Position GamesPlayed TotalMinutesPlayed\n",
              "11  NBA    Al-farouq Aminu  POR  SF       82          2342              \n",
              "37  NBA    Will Barton      DEN  SG       82          2355              \n",
              "48  NBA    Bismack Biyombo  TOR  PF       82          1810              \n",
              "62  NBA    Corey Brewer     HOU  SG       82          1670              \n",
              "118 NBA    Gorgui Dieng     MIN  C        82          2222              \n",
              "148 NBA    Langsto Galloway NYK  PG       82          2032              \n",
              "178 NBA    James Harden     HOU  SG       82          3121              \n",
              "208 NBA    Al Horford       ATL  PF       82          2638              \n",
              "246 NBA    Enes Kanter      OKL  C        82          1721              \n",
              "259 NBA    Zach Lavine      MIN  PG       82          2295              \n",
              "272 NBA    Robin Lopez      NYK  C        82          2213              \n",
              "320 NBA    Shabazz Muhammad MIN  SF       82          1678              \n",
              "357 NBA    Mason Plumlee    POR  PF       82          2087              \n",
              "394 NBA    Ramon Sessions   WAS  PG       82          1667              \n",
              "422 NBA    Isaiah Thomas    BOS  PG       82          2647              \n",
              "427 NBA    Tristan Thompson CLE  C        82          2269              \n",
              "431 NBA    Karl-antho Towns MIN  C        82          2621              \n",
              "432 NBA    P.j. Tucker      PHO  SF       82          2540              \n",
              "24  NBA    Trevor Ariza     HOU  SF       81          2860              \n",
              "41  NBA    Aron Baynes      DET  PF       81          1241              \n",
              "100 NBA    Allen Crabbe     POR  SF       81          2111              \n",
              "109 NBA    Ed Davis         POR  PF       81          1684              \n",
              "122 NBA    Andre Drummond   DET  C        81          2664              \n",
              "123 NBA    Jared Dudley     WAS  SG       81          2098              \n",
              "131 NBA    Monta Ellis      IND  PG       81          2733              \n",
              "143 NBA    Randy Foye       OKC  SG       81          1640              \n",
              "154 NBA    Paul George      IND  SF       81          2828              \n",
              "167 NBA    Draymond Green   GSW  SF       81          2807              \n",
              "194 NBA    Roy Hibbert      LAL  C        81          1881              \n",
              "217 NBA    Joe Ingles       UTA  SF       81          1241              \n",
              "⋮   ⋮      ⋮                ⋮    ⋮        ⋮           ⋮                 \n",
              "163 NBA    Andre Goudelock  HOU  PG       8            51               \n",
              "224 NBA    Cory Jefferson   PHO  PF       8            52               \n",
              "412 NBA    Alex Stepheson   MEM  SF       8            72               \n",
              "470 NBA    Tony Wroten      PHI  SG       8           145               \n",
              "233 NBA    Orlando Johnson  NOR  SG       7           102               \n",
              "250 NBA    M Kidd-gilchrist CHA  SF       7           205               \n",
              "413 NBA    Jarnell Stokes   NOR  C        7            18               \n",
              "450 NBA    Briante Weber    MIA  PG       7           170               \n",
              "455 NBA    Shay Whittington IND  PF       7            41               \n",
              "75  NBA    Bruno Caboclo    TOR  SF       6            43               \n",
              "110 NBA    Branden Dawson   LAC  SF       6            28               \n",
              "145 NBA    Jimmer Fredette  NYK  PG       6            17               \n",
              "23  NBA    Keith Appling    ORL  PG       5            27               \n",
              "180 NBA    Justin Harper    DET  PF       5            35               \n",
              "184 NBA    Joe Harris       CLE  SG       5            15               \n",
              "211 NBA    Josh Huestis     OKL  SF       5            55               \n",
              "270 NBA    Kevon Looney     GSW  SF       5            21               \n",
              "309 NBA    Nazr Mohammed    OKL  C        5            20               \n",
              "461 NBA    Elliot Williams  MEM  SG       5            46               \n",
              "89  NBA    Coty Clarke      BOS  NA       4             8               \n",
              "20  NBA    Th Antetokounmpo NYK  SF       3             7               \n",
              "113 NBA    Sam Dekker       HOU  SF       3             7               \n",
              "298 NBA    Jodie Meeks      DET  SG       3            44               \n",
              "2   NBA    Jordan Adams     MEM  SG       2            15               \n",
              "189 NBA    Chuck Hayes      HOU  PF       2            24               \n",
              "377 NBA    Nate Robinson    NOR  PG       2            23               \n",
              "87  NBA    Rakeem Christmas IND  PF       1             6               \n",
              "124 NBA    Duje Dukan       SAC  PF       1            24               \n",
              "238 NBA    Dahntay Jones    CLE  SG       1            42               \n",
              "335 NBA    J.j. O'brien     UTA  SF       1             2               \n",
              "    FieldGoalsMade FieldGoalsAttempted ThreesMade ThreesAttempted\n",
              "11  299             719                126        349            \n",
              "37  426             984                112        324            \n",
              "48  156             288                  0          1            \n",
              "62  212             552                 61        225            \n",
              "118 308             578                  6         20            \n",
              "148 231             588                 77        224            \n",
              "178 710            1617                236        656            \n",
              "208 529            1049                 88        257            \n",
              "246 415             720                 10         21            \n",
              "259 433             960                123        316            \n",
              "272 357             662                  0          1            \n",
              "320 317             681                 44        152            \n",
              "357 267             517                  0          4            \n",
              "394 280             592                 36        111            \n",
              "422 591            1382                167        465            \n",
              "427 247             420                  0          0            \n",
              "431 625            1152                 30         88            \n",
              "432 239             582                 68        206            \n",
              "24  357             858                185        497            \n",
              "41  194             384                  0          2            \n",
              "100 312             678                112        284            \n",
              "109 206             337                  0          0            \n",
              "122 552            1061                  2          6            \n",
              "123 233             487                100        239            \n",
              "131 436            1021                 87        281            \n",
              "143 168             481                 75        250            \n",
              "154 605            1448                210        565            \n",
              "167 401             819                100        258            \n",
              "194 182             411                  0          2            \n",
              "217 124             291                 81        210            \n",
              "⋮   ⋮              ⋮                   ⋮          ⋮              \n",
              "163  9             20                  1           9             \n",
              "224  9             22                  0           1             \n",
              "412  9             27                  0           0             \n",
              "470 22             65                  3          17             \n",
              "233  9             35                  2          11             \n",
              "250 33             61                  3           7             \n",
              "413  3              5                  0           0             \n",
              "450 14             39                  0           5             \n",
              "455  5             11                  0           2             \n",
              "75   1             12                  1           7             \n",
              "110  2              5                  0           0             \n",
              "145  2              5                  1           2             \n",
              "23   2              8                  0           3             \n",
              "180  4             10                  4           9             \n",
              "184  1              4                  1           4             \n",
              "211  5             12                  4           6             \n",
              "270  4              7                  1           2             \n",
              "309  3              5                  0           0             \n",
              "461  2             10                  1           4             \n",
              "89   2              4                  2           2             \n",
              "20   3              4                  0           1             \n",
              "113  0              0                  0           0             \n",
              "298  7             20                  4           9             \n",
              "2    2              6                  0           1             \n",
              "189  1              2                  0           0             \n",
              "377  0              1                  0           1             \n",
              "87   2              2                  0           0             \n",
              "124  2             10                  2           5             \n",
              "238  6             14                  1           2             \n",
              "335  0              1                  0           0             \n",
              "    FreeThrowsMade FreeThrowsAttempted OffensiveRebounds TotalRebounds Assists\n",
              "11  115            156                  98                498          138    \n",
              "37  216            268                  60                477          204    \n",
              "48  142            226                 182                655           29    \n",
              "62  105            140                  42                199          109    \n",
              "118 205            248                 156                584          143    \n",
              "148  86            114                  43                288          207    \n",
              "178 720            837                  63                502          612    \n",
              "208 103            129                 148                597          263    \n",
              "246 200            251                 250                665           33    \n",
              "259 161            203                  28                229          252    \n",
              "272 128            161                 268                602          114    \n",
              "320 185            242                 100                267           52    \n",
              "357 215            335                 201                628          226    \n",
              "394 214            283                  26                204          240    \n",
              "422 474            544                  46                243          509    \n",
              "427 149            242                 268                738           63    \n",
              "431 223            275                 226                854          161    \n",
              "432 106            142                 165                512          177    \n",
              "24  126            161                  67                366          188    \n",
              "41  126            165                 140                384           51    \n",
              "100  98            113                  27                216           99    \n",
              "109 114            204                 224                599           88    \n",
              "122 208            586                 395               1198           67    \n",
              "123  72             98                  54                286          170    \n",
              "131 162            206                  42                272          382    \n",
              "143  61             74                  24                156          160    \n",
              "154 454            528                  79                563          329    \n",
              "167 229            329                 130                765          597    \n",
              "194 117            145                 131                398           95    \n",
              "217  13             18                  19                151           96    \n",
              "⋮   ⋮              ⋮                   ⋮                 ⋮             ⋮      \n",
              "163  3              4                   1                 2             4     \n",
              "224  4              6                   6                16             0     \n",
              "412  4             12                  19                28             2     \n",
              "470 20             37                   2                21            20     \n",
              "233  6              8                   4                15             2     \n",
              "250 20             29                  12                45             9     \n",
              "413  1              2                   1                 4             1     \n",
              "450  3              4                   8                25            21     \n",
              "455  1              2                   5                12             3     \n",
              "75   0              0                   1                 2             1     \n",
              "110  1              1                   2                 4             0     \n",
              "145  4              5                   0                 0             0     \n",
              "23   2              2                   0                 1             1     \n",
              "180  1              2                   0                 1             0     \n",
              "184  0              0                   0                 3             2     \n",
              "211  0              4                   2                10             0     \n",
              "270  0              0                   4                10             0     \n",
              "309  2              2                   1                 4             0     \n",
              "461  3              4                   1                 4             4     \n",
              "89   0              0                   0                 1             0     \n",
              "20   0              0                   0                 1             0     \n",
              "113  0              0                   0                 1             0     \n",
              "298  4              4                   1                 5             3     \n",
              "2    3              5                   0                 2             3     \n",
              "189  2              2                   0                 8             2     \n",
              "377  0              0                   0                 0             4     \n",
              "87   0              0                   1                 1             0     \n",
              "124  0              0                   2                 4             1     \n",
              "238  0              0                   1                 5             2     \n",
              "335  0              0                   0                 0             0     \n",
              "    Steals Turnovers Blocks PersonalFouls Disqualifications\n",
              "11   72    120        53    171           0                \n",
              "37   71    139        39    147           0                \n",
              "48   19     71       133    225           2                \n",
              "62   84     78        19    168           1                \n",
              "118  94    140        96    219           0                \n",
              "148  77     61        22    177           2                \n",
              "178 138    374        51    229           1                \n",
              "208  67    107       122    163           0                \n",
              "246  26    115        33    166           1                \n",
              "259  69    155        17    193           1                \n",
              "272  16    133       129    182           2                \n",
              "320  24     70         7     94           0                \n",
              "357  68    154        82    253           4                \n",
              "394  47    115         5    102           0                \n",
              "422  91    220         9    167           1                \n",
              "427  38     61        51    202           0                \n",
              "431  58    183       138    245           1                \n",
              "432 106    111        20    202           3                \n",
              "24  161    113        26    177           0                \n",
              "41   21     67        52    151           0                \n",
              "100  63     64        16    192           2                \n",
              "109  57     64        72    202           2                \n",
              "122 119    154       112    245           2                \n",
              "123  75     80        18    190           1                \n",
              "131 149    203        38    174           0                \n",
              "143  39     86        29    131           0                \n",
              "154 152    265        29    230           1                \n",
              "167 118    259       111    240           2                \n",
              "194  32     76       110    252           3                \n",
              "217  55     65         4     98           0                \n",
              "⋮   ⋮      ⋮         ⋮      ⋮             ⋮                \n",
              "163 6       7        2       4            0                \n",
              "224 0       0        1       8            0                \n",
              "412 1       0        5      12            1                \n",
              "470 3      29        0      11            0                \n",
              "233 3       4        3       9            0                \n",
              "250 3       8        3       9            0                \n",
              "413 1       0        0       1            0                \n",
              "450 9       9        3      12            0                \n",
              "455 1       5        1       7            0                \n",
              "75  2       4        1       2            0                \n",
              "110 0       0        1       2            0                \n",
              "145 1       2        0       2            0                \n",
              "23  1       3        0       5            0                \n",
              "180 1       2        0       3            0                \n",
              "184 0       1        0       1            0                \n",
              "211 1       3        2       3            0                \n",
              "270 0       1        0       2            0                \n",
              "309 0       3        0       4            0                \n",
              "461 1       1        0       2            0                \n",
              "89  0       1        0       0            0                \n",
              "20  0       0        0       2            0                \n",
              "113 1       0        0       0            0                \n",
              "298 0       1        0       2            0                \n",
              "2   3       2        0       2            0                \n",
              "189 0       3        0       6            0                \n",
              "377 1       0        0       5            0                \n",
              "87  0       0        0       1            0                \n",
              "124 1       0        0       2            0                \n",
              "238 1       0        2       6            1                \n",
              "335 0       0        0       0            0                "
            ],
            "text/latex": "A data.frame: 476 × 20\n\\begin{tabular}{r|llllllllllllllllllll}\n  & League & Name & Team & Position & GamesPlayed & TotalMinutesPlayed & FieldGoalsMade & FieldGoalsAttempted & ThreesMade & ThreesAttempted & FreeThrowsMade & FreeThrowsAttempted & OffensiveRebounds & TotalRebounds & Assists & Steals & Turnovers & Blocks & PersonalFouls & Disqualifications\\\\\n  & <fct> & <chr> & <fct> & <fct> & <int> & <int> & <int> & <int> & <int> & <int> & <int> & <int> & <int> & <int> & <int> & <int> & <int> & <int> & <int> & <int>\\\\\n\\hline\n\t11 & NBA & Al-farouq Aminu  & POR & SF & 82 & 2342 & 299 &  719 & 126 & 349 & 115 & 156 &  98 &  498 & 138 &  72 & 120 &  53 & 171 & 0\\\\\n\t37 & NBA & Will Barton      & DEN & SG & 82 & 2355 & 426 &  984 & 112 & 324 & 216 & 268 &  60 &  477 & 204 &  71 & 139 &  39 & 147 & 0\\\\\n\t48 & NBA & Bismack Biyombo  & TOR & PF & 82 & 1810 & 156 &  288 &   0 &   1 & 142 & 226 & 182 &  655 &  29 &  19 &  71 & 133 & 225 & 2\\\\\n\t62 & NBA & Corey Brewer     & HOU & SG & 82 & 1670 & 212 &  552 &  61 & 225 & 105 & 140 &  42 &  199 & 109 &  84 &  78 &  19 & 168 & 1\\\\\n\t118 & NBA & Gorgui Dieng     & MIN & C  & 82 & 2222 & 308 &  578 &   6 &  20 & 205 & 248 & 156 &  584 & 143 &  94 & 140 &  96 & 219 & 0\\\\\n\t148 & NBA & Langsto Galloway & NYK & PG & 82 & 2032 & 231 &  588 &  77 & 224 &  86 & 114 &  43 &  288 & 207 &  77 &  61 &  22 & 177 & 2\\\\\n\t178 & NBA & James Harden     & HOU & SG & 82 & 3121 & 710 & 1617 & 236 & 656 & 720 & 837 &  63 &  502 & 612 & 138 & 374 &  51 & 229 & 1\\\\\n\t208 & NBA & Al Horford       & ATL & PF & 82 & 2638 & 529 & 1049 &  88 & 257 & 103 & 129 & 148 &  597 & 263 &  67 & 107 & 122 & 163 & 0\\\\\n\t246 & NBA & Enes Kanter      & OKL & C  & 82 & 1721 & 415 &  720 &  10 &  21 & 200 & 251 & 250 &  665 &  33 &  26 & 115 &  33 & 166 & 1\\\\\n\t259 & NBA & Zach Lavine      & MIN & PG & 82 & 2295 & 433 &  960 & 123 & 316 & 161 & 203 &  28 &  229 & 252 &  69 & 155 &  17 & 193 & 1\\\\\n\t272 & NBA & Robin Lopez      & NYK & C  & 82 & 2213 & 357 &  662 &   0 &   1 & 128 & 161 & 268 &  602 & 114 &  16 & 133 & 129 & 182 & 2\\\\\n\t320 & NBA & Shabazz Muhammad & MIN & SF & 82 & 1678 & 317 &  681 &  44 & 152 & 185 & 242 & 100 &  267 &  52 &  24 &  70 &   7 &  94 & 0\\\\\n\t357 & NBA & Mason Plumlee    & POR & PF & 82 & 2087 & 267 &  517 &   0 &   4 & 215 & 335 & 201 &  628 & 226 &  68 & 154 &  82 & 253 & 4\\\\\n\t394 & NBA & Ramon Sessions   & WAS & PG & 82 & 1667 & 280 &  592 &  36 & 111 & 214 & 283 &  26 &  204 & 240 &  47 & 115 &   5 & 102 & 0\\\\\n\t422 & NBA & Isaiah Thomas    & BOS & PG & 82 & 2647 & 591 & 1382 & 167 & 465 & 474 & 544 &  46 &  243 & 509 &  91 & 220 &   9 & 167 & 1\\\\\n\t427 & NBA & Tristan Thompson & CLE & C  & 82 & 2269 & 247 &  420 &   0 &   0 & 149 & 242 & 268 &  738 &  63 &  38 &  61 &  51 & 202 & 0\\\\\n\t431 & NBA & Karl-antho Towns & MIN & C  & 82 & 2621 & 625 & 1152 &  30 &  88 & 223 & 275 & 226 &  854 & 161 &  58 & 183 & 138 & 245 & 1\\\\\n\t432 & NBA & P.j. Tucker      & PHO & SF & 82 & 2540 & 239 &  582 &  68 & 206 & 106 & 142 & 165 &  512 & 177 & 106 & 111 &  20 & 202 & 3\\\\\n\t24 & NBA & Trevor Ariza     & HOU & SF & 81 & 2860 & 357 &  858 & 185 & 497 & 126 & 161 &  67 &  366 & 188 & 161 & 113 &  26 & 177 & 0\\\\\n\t41 & NBA & Aron Baynes      & DET & PF & 81 & 1241 & 194 &  384 &   0 &   2 & 126 & 165 & 140 &  384 &  51 &  21 &  67 &  52 & 151 & 0\\\\\n\t100 & NBA & Allen Crabbe     & POR & SF & 81 & 2111 & 312 &  678 & 112 & 284 &  98 & 113 &  27 &  216 &  99 &  63 &  64 &  16 & 192 & 2\\\\\n\t109 & NBA & Ed Davis         & POR & PF & 81 & 1684 & 206 &  337 &   0 &   0 & 114 & 204 & 224 &  599 &  88 &  57 &  64 &  72 & 202 & 2\\\\\n\t122 & NBA & Andre Drummond   & DET & C  & 81 & 2664 & 552 & 1061 &   2 &   6 & 208 & 586 & 395 & 1198 &  67 & 119 & 154 & 112 & 245 & 2\\\\\n\t123 & NBA & Jared Dudley     & WAS & SG & 81 & 2098 & 233 &  487 & 100 & 239 &  72 &  98 &  54 &  286 & 170 &  75 &  80 &  18 & 190 & 1\\\\\n\t131 & NBA & Monta Ellis      & IND & PG & 81 & 2733 & 436 & 1021 &  87 & 281 & 162 & 206 &  42 &  272 & 382 & 149 & 203 &  38 & 174 & 0\\\\\n\t143 & NBA & Randy Foye       & OKC & SG & 81 & 1640 & 168 &  481 &  75 & 250 &  61 &  74 &  24 &  156 & 160 &  39 &  86 &  29 & 131 & 0\\\\\n\t154 & NBA & Paul George      & IND & SF & 81 & 2828 & 605 & 1448 & 210 & 565 & 454 & 528 &  79 &  563 & 329 & 152 & 265 &  29 & 230 & 1\\\\\n\t167 & NBA & Draymond Green   & GSW & SF & 81 & 2807 & 401 &  819 & 100 & 258 & 229 & 329 & 130 &  765 & 597 & 118 & 259 & 111 & 240 & 2\\\\\n\t194 & NBA & Roy Hibbert      & LAL & C  & 81 & 1881 & 182 &  411 &   0 &   2 & 117 & 145 & 131 &  398 &  95 &  32 &  76 & 110 & 252 & 3\\\\\n\t217 & NBA & Joe Ingles       & UTA & SF & 81 & 1241 & 124 &  291 &  81 & 210 &  13 &  18 &  19 &  151 &  96 &  55 &  65 &   4 &  98 & 0\\\\\n\t⋮ & ⋮ & ⋮ & ⋮ & ⋮ & ⋮ & ⋮ & ⋮ & ⋮ & ⋮ & ⋮ & ⋮ & ⋮ & ⋮ & ⋮ & ⋮ & ⋮ & ⋮ & ⋮ & ⋮ & ⋮\\\\\n\t163 & NBA & Andre Goudelock  & HOU & PG & 8 &  51 &  9 & 20 & 1 &  9 &  3 &  4 &  1 &  2 &  4 & 6 &  7 & 2 &  4 & 0\\\\\n\t224 & NBA & Cory Jefferson   & PHO & PF & 8 &  52 &  9 & 22 & 0 &  1 &  4 &  6 &  6 & 16 &  0 & 0 &  0 & 1 &  8 & 0\\\\\n\t412 & NBA & Alex Stepheson   & MEM & SF & 8 &  72 &  9 & 27 & 0 &  0 &  4 & 12 & 19 & 28 &  2 & 1 &  0 & 5 & 12 & 1\\\\\n\t470 & NBA & Tony Wroten      & PHI & SG & 8 & 145 & 22 & 65 & 3 & 17 & 20 & 37 &  2 & 21 & 20 & 3 & 29 & 0 & 11 & 0\\\\\n\t233 & NBA & Orlando Johnson  & NOR & SG & 7 & 102 &  9 & 35 & 2 & 11 &  6 &  8 &  4 & 15 &  2 & 3 &  4 & 3 &  9 & 0\\\\\n\t250 & NBA & M Kidd-gilchrist & CHA & SF & 7 & 205 & 33 & 61 & 3 &  7 & 20 & 29 & 12 & 45 &  9 & 3 &  8 & 3 &  9 & 0\\\\\n\t413 & NBA & Jarnell Stokes   & NOR & C  & 7 &  18 &  3 &  5 & 0 &  0 &  1 &  2 &  1 &  4 &  1 & 1 &  0 & 0 &  1 & 0\\\\\n\t450 & NBA & Briante Weber    & MIA & PG & 7 & 170 & 14 & 39 & 0 &  5 &  3 &  4 &  8 & 25 & 21 & 9 &  9 & 3 & 12 & 0\\\\\n\t455 & NBA & Shay Whittington & IND & PF & 7 &  41 &  5 & 11 & 0 &  2 &  1 &  2 &  5 & 12 &  3 & 1 &  5 & 1 &  7 & 0\\\\\n\t75 & NBA & Bruno Caboclo    & TOR & SF & 6 &  43 &  1 & 12 & 1 &  7 &  0 &  0 &  1 &  2 &  1 & 2 &  4 & 1 &  2 & 0\\\\\n\t110 & NBA & Branden Dawson   & LAC & SF & 6 &  28 &  2 &  5 & 0 &  0 &  1 &  1 &  2 &  4 &  0 & 0 &  0 & 1 &  2 & 0\\\\\n\t145 & NBA & Jimmer Fredette  & NYK & PG & 6 &  17 &  2 &  5 & 1 &  2 &  4 &  5 &  0 &  0 &  0 & 1 &  2 & 0 &  2 & 0\\\\\n\t23 & NBA & Keith Appling    & ORL & PG & 5 &  27 &  2 &  8 & 0 &  3 &  2 &  2 &  0 &  1 &  1 & 1 &  3 & 0 &  5 & 0\\\\\n\t180 & NBA & Justin Harper    & DET & PF & 5 &  35 &  4 & 10 & 4 &  9 &  1 &  2 &  0 &  1 &  0 & 1 &  2 & 0 &  3 & 0\\\\\n\t184 & NBA & Joe Harris       & CLE & SG & 5 &  15 &  1 &  4 & 1 &  4 &  0 &  0 &  0 &  3 &  2 & 0 &  1 & 0 &  1 & 0\\\\\n\t211 & NBA & Josh Huestis     & OKL & SF & 5 &  55 &  5 & 12 & 4 &  6 &  0 &  4 &  2 & 10 &  0 & 1 &  3 & 2 &  3 & 0\\\\\n\t270 & NBA & Kevon Looney     & GSW & SF & 5 &  21 &  4 &  7 & 1 &  2 &  0 &  0 &  4 & 10 &  0 & 0 &  1 & 0 &  2 & 0\\\\\n\t309 & NBA & Nazr Mohammed    & OKL & C  & 5 &  20 &  3 &  5 & 0 &  0 &  2 &  2 &  1 &  4 &  0 & 0 &  3 & 0 &  4 & 0\\\\\n\t461 & NBA & Elliot Williams  & MEM & SG & 5 &  46 &  2 & 10 & 1 &  4 &  3 &  4 &  1 &  4 &  4 & 1 &  1 & 0 &  2 & 0\\\\\n\t89 & NBA & Coty Clarke      & BOS & NA & 4 &   8 &  2 &  4 & 2 &  2 &  0 &  0 &  0 &  1 &  0 & 0 &  1 & 0 &  0 & 0\\\\\n\t20 & NBA & Th Antetokounmpo & NYK & SF & 3 &   7 &  3 &  4 & 0 &  1 &  0 &  0 &  0 &  1 &  0 & 0 &  0 & 0 &  2 & 0\\\\\n\t113 & NBA & Sam Dekker       & HOU & SF & 3 &   7 &  0 &  0 & 0 &  0 &  0 &  0 &  0 &  1 &  0 & 1 &  0 & 0 &  0 & 0\\\\\n\t298 & NBA & Jodie Meeks      & DET & SG & 3 &  44 &  7 & 20 & 4 &  9 &  4 &  4 &  1 &  5 &  3 & 0 &  1 & 0 &  2 & 0\\\\\n\t2 & NBA & Jordan Adams     & MEM & SG & 2 &  15 &  2 &  6 & 0 &  1 &  3 &  5 &  0 &  2 &  3 & 3 &  2 & 0 &  2 & 0\\\\\n\t189 & NBA & Chuck Hayes      & HOU & PF & 2 &  24 &  1 &  2 & 0 &  0 &  2 &  2 &  0 &  8 &  2 & 0 &  3 & 0 &  6 & 0\\\\\n\t377 & NBA & Nate Robinson    & NOR & PG & 2 &  23 &  0 &  1 & 0 &  1 &  0 &  0 &  0 &  0 &  4 & 1 &  0 & 0 &  5 & 0\\\\\n\t87 & NBA & Rakeem Christmas & IND & PF & 1 &   6 &  2 &  2 & 0 &  0 &  0 &  0 &  1 &  1 &  0 & 0 &  0 & 0 &  1 & 0\\\\\n\t124 & NBA & Duje Dukan       & SAC & PF & 1 &  24 &  2 & 10 & 2 &  5 &  0 &  0 &  2 &  4 &  1 & 1 &  0 & 0 &  2 & 0\\\\\n\t238 & NBA & Dahntay Jones    & CLE & SG & 1 &  42 &  6 & 14 & 1 &  2 &  0 &  0 &  1 &  5 &  2 & 1 &  0 & 2 &  6 & 1\\\\\n\t335 & NBA & J.j. O'brien     & UTA & SF & 1 &   2 &  0 &  1 & 0 &  0 &  0 &  0 &  0 &  0 &  0 & 0 &  0 & 0 &  0 & 0\\\\\n\\end{tabular}\n",
            "text/markdown": "\nA data.frame: 476 × 20\n\n| <!--/--> | League &lt;fct&gt; | Name &lt;chr&gt; | Team &lt;fct&gt; | Position &lt;fct&gt; | GamesPlayed &lt;int&gt; | TotalMinutesPlayed &lt;int&gt; | FieldGoalsMade &lt;int&gt; | FieldGoalsAttempted &lt;int&gt; | ThreesMade &lt;int&gt; | ThreesAttempted &lt;int&gt; | FreeThrowsMade &lt;int&gt; | FreeThrowsAttempted &lt;int&gt; | OffensiveRebounds &lt;int&gt; | TotalRebounds &lt;int&gt; | Assists &lt;int&gt; | Steals &lt;int&gt; | Turnovers &lt;int&gt; | Blocks &lt;int&gt; | PersonalFouls &lt;int&gt; | Disqualifications &lt;int&gt; |\n|---|---|---|---|---|---|---|---|---|---|---|---|---|---|---|---|---|---|---|---|---|\n| 11 | NBA | Al-farouq Aminu  | POR | SF | 82 | 2342 | 299 |  719 | 126 | 349 | 115 | 156 |  98 |  498 | 138 |  72 | 120 |  53 | 171 | 0 |\n| 37 | NBA | Will Barton      | DEN | SG | 82 | 2355 | 426 |  984 | 112 | 324 | 216 | 268 |  60 |  477 | 204 |  71 | 139 |  39 | 147 | 0 |\n| 48 | NBA | Bismack Biyombo  | TOR | PF | 82 | 1810 | 156 |  288 |   0 |   1 | 142 | 226 | 182 |  655 |  29 |  19 |  71 | 133 | 225 | 2 |\n| 62 | NBA | Corey Brewer     | HOU | SG | 82 | 1670 | 212 |  552 |  61 | 225 | 105 | 140 |  42 |  199 | 109 |  84 |  78 |  19 | 168 | 1 |\n| 118 | NBA | Gorgui Dieng     | MIN | C  | 82 | 2222 | 308 |  578 |   6 |  20 | 205 | 248 | 156 |  584 | 143 |  94 | 140 |  96 | 219 | 0 |\n| 148 | NBA | Langsto Galloway | NYK | PG | 82 | 2032 | 231 |  588 |  77 | 224 |  86 | 114 |  43 |  288 | 207 |  77 |  61 |  22 | 177 | 2 |\n| 178 | NBA | James Harden     | HOU | SG | 82 | 3121 | 710 | 1617 | 236 | 656 | 720 | 837 |  63 |  502 | 612 | 138 | 374 |  51 | 229 | 1 |\n| 208 | NBA | Al Horford       | ATL | PF | 82 | 2638 | 529 | 1049 |  88 | 257 | 103 | 129 | 148 |  597 | 263 |  67 | 107 | 122 | 163 | 0 |\n| 246 | NBA | Enes Kanter      | OKL | C  | 82 | 1721 | 415 |  720 |  10 |  21 | 200 | 251 | 250 |  665 |  33 |  26 | 115 |  33 | 166 | 1 |\n| 259 | NBA | Zach Lavine      | MIN | PG | 82 | 2295 | 433 |  960 | 123 | 316 | 161 | 203 |  28 |  229 | 252 |  69 | 155 |  17 | 193 | 1 |\n| 272 | NBA | Robin Lopez      | NYK | C  | 82 | 2213 | 357 |  662 |   0 |   1 | 128 | 161 | 268 |  602 | 114 |  16 | 133 | 129 | 182 | 2 |\n| 320 | NBA | Shabazz Muhammad | MIN | SF | 82 | 1678 | 317 |  681 |  44 | 152 | 185 | 242 | 100 |  267 |  52 |  24 |  70 |   7 |  94 | 0 |\n| 357 | NBA | Mason Plumlee    | POR | PF | 82 | 2087 | 267 |  517 |   0 |   4 | 215 | 335 | 201 |  628 | 226 |  68 | 154 |  82 | 253 | 4 |\n| 394 | NBA | Ramon Sessions   | WAS | PG | 82 | 1667 | 280 |  592 |  36 | 111 | 214 | 283 |  26 |  204 | 240 |  47 | 115 |   5 | 102 | 0 |\n| 422 | NBA | Isaiah Thomas    | BOS | PG | 82 | 2647 | 591 | 1382 | 167 | 465 | 474 | 544 |  46 |  243 | 509 |  91 | 220 |   9 | 167 | 1 |\n| 427 | NBA | Tristan Thompson | CLE | C  | 82 | 2269 | 247 |  420 |   0 |   0 | 149 | 242 | 268 |  738 |  63 |  38 |  61 |  51 | 202 | 0 |\n| 431 | NBA | Karl-antho Towns | MIN | C  | 82 | 2621 | 625 | 1152 |  30 |  88 | 223 | 275 | 226 |  854 | 161 |  58 | 183 | 138 | 245 | 1 |\n| 432 | NBA | P.j. Tucker      | PHO | SF | 82 | 2540 | 239 |  582 |  68 | 206 | 106 | 142 | 165 |  512 | 177 | 106 | 111 |  20 | 202 | 3 |\n| 24 | NBA | Trevor Ariza     | HOU | SF | 81 | 2860 | 357 |  858 | 185 | 497 | 126 | 161 |  67 |  366 | 188 | 161 | 113 |  26 | 177 | 0 |\n| 41 | NBA | Aron Baynes      | DET | PF | 81 | 1241 | 194 |  384 |   0 |   2 | 126 | 165 | 140 |  384 |  51 |  21 |  67 |  52 | 151 | 0 |\n| 100 | NBA | Allen Crabbe     | POR | SF | 81 | 2111 | 312 |  678 | 112 | 284 |  98 | 113 |  27 |  216 |  99 |  63 |  64 |  16 | 192 | 2 |\n| 109 | NBA | Ed Davis         | POR | PF | 81 | 1684 | 206 |  337 |   0 |   0 | 114 | 204 | 224 |  599 |  88 |  57 |  64 |  72 | 202 | 2 |\n| 122 | NBA | Andre Drummond   | DET | C  | 81 | 2664 | 552 | 1061 |   2 |   6 | 208 | 586 | 395 | 1198 |  67 | 119 | 154 | 112 | 245 | 2 |\n| 123 | NBA | Jared Dudley     | WAS | SG | 81 | 2098 | 233 |  487 | 100 | 239 |  72 |  98 |  54 |  286 | 170 |  75 |  80 |  18 | 190 | 1 |\n| 131 | NBA | Monta Ellis      | IND | PG | 81 | 2733 | 436 | 1021 |  87 | 281 | 162 | 206 |  42 |  272 | 382 | 149 | 203 |  38 | 174 | 0 |\n| 143 | NBA | Randy Foye       | OKC | SG | 81 | 1640 | 168 |  481 |  75 | 250 |  61 |  74 |  24 |  156 | 160 |  39 |  86 |  29 | 131 | 0 |\n| 154 | NBA | Paul George      | IND | SF | 81 | 2828 | 605 | 1448 | 210 | 565 | 454 | 528 |  79 |  563 | 329 | 152 | 265 |  29 | 230 | 1 |\n| 167 | NBA | Draymond Green   | GSW | SF | 81 | 2807 | 401 |  819 | 100 | 258 | 229 | 329 | 130 |  765 | 597 | 118 | 259 | 111 | 240 | 2 |\n| 194 | NBA | Roy Hibbert      | LAL | C  | 81 | 1881 | 182 |  411 |   0 |   2 | 117 | 145 | 131 |  398 |  95 |  32 |  76 | 110 | 252 | 3 |\n| 217 | NBA | Joe Ingles       | UTA | SF | 81 | 1241 | 124 |  291 |  81 | 210 |  13 |  18 |  19 |  151 |  96 |  55 |  65 |   4 |  98 | 0 |\n| ⋮ | ⋮ | ⋮ | ⋮ | ⋮ | ⋮ | ⋮ | ⋮ | ⋮ | ⋮ | ⋮ | ⋮ | ⋮ | ⋮ | ⋮ | ⋮ | ⋮ | ⋮ | ⋮ | ⋮ | ⋮ |\n| 163 | NBA | Andre Goudelock  | HOU | PG | 8 |  51 |  9 | 20 | 1 |  9 |  3 |  4 |  1 |  2 |  4 | 6 |  7 | 2 |  4 | 0 |\n| 224 | NBA | Cory Jefferson   | PHO | PF | 8 |  52 |  9 | 22 | 0 |  1 |  4 |  6 |  6 | 16 |  0 | 0 |  0 | 1 |  8 | 0 |\n| 412 | NBA | Alex Stepheson   | MEM | SF | 8 |  72 |  9 | 27 | 0 |  0 |  4 | 12 | 19 | 28 |  2 | 1 |  0 | 5 | 12 | 1 |\n| 470 | NBA | Tony Wroten      | PHI | SG | 8 | 145 | 22 | 65 | 3 | 17 | 20 | 37 |  2 | 21 | 20 | 3 | 29 | 0 | 11 | 0 |\n| 233 | NBA | Orlando Johnson  | NOR | SG | 7 | 102 |  9 | 35 | 2 | 11 |  6 |  8 |  4 | 15 |  2 | 3 |  4 | 3 |  9 | 0 |\n| 250 | NBA | M Kidd-gilchrist | CHA | SF | 7 | 205 | 33 | 61 | 3 |  7 | 20 | 29 | 12 | 45 |  9 | 3 |  8 | 3 |  9 | 0 |\n| 413 | NBA | Jarnell Stokes   | NOR | C  | 7 |  18 |  3 |  5 | 0 |  0 |  1 |  2 |  1 |  4 |  1 | 1 |  0 | 0 |  1 | 0 |\n| 450 | NBA | Briante Weber    | MIA | PG | 7 | 170 | 14 | 39 | 0 |  5 |  3 |  4 |  8 | 25 | 21 | 9 |  9 | 3 | 12 | 0 |\n| 455 | NBA | Shay Whittington | IND | PF | 7 |  41 |  5 | 11 | 0 |  2 |  1 |  2 |  5 | 12 |  3 | 1 |  5 | 1 |  7 | 0 |\n| 75 | NBA | Bruno Caboclo    | TOR | SF | 6 |  43 |  1 | 12 | 1 |  7 |  0 |  0 |  1 |  2 |  1 | 2 |  4 | 1 |  2 | 0 |\n| 110 | NBA | Branden Dawson   | LAC | SF | 6 |  28 |  2 |  5 | 0 |  0 |  1 |  1 |  2 |  4 |  0 | 0 |  0 | 1 |  2 | 0 |\n| 145 | NBA | Jimmer Fredette  | NYK | PG | 6 |  17 |  2 |  5 | 1 |  2 |  4 |  5 |  0 |  0 |  0 | 1 |  2 | 0 |  2 | 0 |\n| 23 | NBA | Keith Appling    | ORL | PG | 5 |  27 |  2 |  8 | 0 |  3 |  2 |  2 |  0 |  1 |  1 | 1 |  3 | 0 |  5 | 0 |\n| 180 | NBA | Justin Harper    | DET | PF | 5 |  35 |  4 | 10 | 4 |  9 |  1 |  2 |  0 |  1 |  0 | 1 |  2 | 0 |  3 | 0 |\n| 184 | NBA | Joe Harris       | CLE | SG | 5 |  15 |  1 |  4 | 1 |  4 |  0 |  0 |  0 |  3 |  2 | 0 |  1 | 0 |  1 | 0 |\n| 211 | NBA | Josh Huestis     | OKL | SF | 5 |  55 |  5 | 12 | 4 |  6 |  0 |  4 |  2 | 10 |  0 | 1 |  3 | 2 |  3 | 0 |\n| 270 | NBA | Kevon Looney     | GSW | SF | 5 |  21 |  4 |  7 | 1 |  2 |  0 |  0 |  4 | 10 |  0 | 0 |  1 | 0 |  2 | 0 |\n| 309 | NBA | Nazr Mohammed    | OKL | C  | 5 |  20 |  3 |  5 | 0 |  0 |  2 |  2 |  1 |  4 |  0 | 0 |  3 | 0 |  4 | 0 |\n| 461 | NBA | Elliot Williams  | MEM | SG | 5 |  46 |  2 | 10 | 1 |  4 |  3 |  4 |  1 |  4 |  4 | 1 |  1 | 0 |  2 | 0 |\n| 89 | NBA | Coty Clarke      | BOS | NA | 4 |   8 |  2 |  4 | 2 |  2 |  0 |  0 |  0 |  1 |  0 | 0 |  1 | 0 |  0 | 0 |\n| 20 | NBA | Th Antetokounmpo | NYK | SF | 3 |   7 |  3 |  4 | 0 |  1 |  0 |  0 |  0 |  1 |  0 | 0 |  0 | 0 |  2 | 0 |\n| 113 | NBA | Sam Dekker       | HOU | SF | 3 |   7 |  0 |  0 | 0 |  0 |  0 |  0 |  0 |  1 |  0 | 1 |  0 | 0 |  0 | 0 |\n| 298 | NBA | Jodie Meeks      | DET | SG | 3 |  44 |  7 | 20 | 4 |  9 |  4 |  4 |  1 |  5 |  3 | 0 |  1 | 0 |  2 | 0 |\n| 2 | NBA | Jordan Adams     | MEM | SG | 2 |  15 |  2 |  6 | 0 |  1 |  3 |  5 |  0 |  2 |  3 | 3 |  2 | 0 |  2 | 0 |\n| 189 | NBA | Chuck Hayes      | HOU | PF | 2 |  24 |  1 |  2 | 0 |  0 |  2 |  2 |  0 |  8 |  2 | 0 |  3 | 0 |  6 | 0 |\n| 377 | NBA | Nate Robinson    | NOR | PG | 2 |  23 |  0 |  1 | 0 |  1 |  0 |  0 |  0 |  0 |  4 | 1 |  0 | 0 |  5 | 0 |\n| 87 | NBA | Rakeem Christmas | IND | PF | 1 |   6 |  2 |  2 | 0 |  0 |  0 |  0 |  1 |  1 |  0 | 0 |  0 | 0 |  1 | 0 |\n| 124 | NBA | Duje Dukan       | SAC | PF | 1 |  24 |  2 | 10 | 2 |  5 |  0 |  0 |  2 |  4 |  1 | 1 |  0 | 0 |  2 | 0 |\n| 238 | NBA | Dahntay Jones    | CLE | SG | 1 |  42 |  6 | 14 | 1 |  2 |  0 |  0 |  1 |  5 |  2 | 1 |  0 | 2 |  6 | 1 |\n| 335 | NBA | J.j. O'brien     | UTA | SF | 1 |   2 |  0 |  1 | 0 |  0 |  0 |  0 |  0 |  0 |  0 | 0 |  0 | 0 |  0 | 0 |\n\n",
            "text/html": [
              "<table>\n",
              "<caption>A data.frame: 476 × 20</caption>\n",
              "<thead>\n",
              "\t<tr><th></th><th scope=col>League</th><th scope=col>Name</th><th scope=col>Team</th><th scope=col>Position</th><th scope=col>GamesPlayed</th><th scope=col>TotalMinutesPlayed</th><th scope=col>FieldGoalsMade</th><th scope=col>FieldGoalsAttempted</th><th scope=col>ThreesMade</th><th scope=col>ThreesAttempted</th><th scope=col>FreeThrowsMade</th><th scope=col>FreeThrowsAttempted</th><th scope=col>OffensiveRebounds</th><th scope=col>TotalRebounds</th><th scope=col>Assists</th><th scope=col>Steals</th><th scope=col>Turnovers</th><th scope=col>Blocks</th><th scope=col>PersonalFouls</th><th scope=col>Disqualifications</th></tr>\n",
              "\t<tr><th></th><th scope=col>&lt;fct&gt;</th><th scope=col>&lt;chr&gt;</th><th scope=col>&lt;fct&gt;</th><th scope=col>&lt;fct&gt;</th><th scope=col>&lt;int&gt;</th><th scope=col>&lt;int&gt;</th><th scope=col>&lt;int&gt;</th><th scope=col>&lt;int&gt;</th><th scope=col>&lt;int&gt;</th><th scope=col>&lt;int&gt;</th><th scope=col>&lt;int&gt;</th><th scope=col>&lt;int&gt;</th><th scope=col>&lt;int&gt;</th><th scope=col>&lt;int&gt;</th><th scope=col>&lt;int&gt;</th><th scope=col>&lt;int&gt;</th><th scope=col>&lt;int&gt;</th><th scope=col>&lt;int&gt;</th><th scope=col>&lt;int&gt;</th><th scope=col>&lt;int&gt;</th></tr>\n",
              "</thead>\n",
              "<tbody>\n",
              "\t<tr><th scope=row>11</th><td>NBA</td><td>Al-farouq Aminu </td><td>POR</td><td>SF</td><td>82</td><td>2342</td><td>299</td><td> 719</td><td>126</td><td>349</td><td>115</td><td>156</td><td> 98</td><td> 498</td><td>138</td><td> 72</td><td>120</td><td> 53</td><td>171</td><td>0</td></tr>\n",
              "\t<tr><th scope=row>37</th><td>NBA</td><td>Will Barton     </td><td>DEN</td><td>SG</td><td>82</td><td>2355</td><td>426</td><td> 984</td><td>112</td><td>324</td><td>216</td><td>268</td><td> 60</td><td> 477</td><td>204</td><td> 71</td><td>139</td><td> 39</td><td>147</td><td>0</td></tr>\n",
              "\t<tr><th scope=row>48</th><td>NBA</td><td>Bismack Biyombo </td><td>TOR</td><td>PF</td><td>82</td><td>1810</td><td>156</td><td> 288</td><td>  0</td><td>  1</td><td>142</td><td>226</td><td>182</td><td> 655</td><td> 29</td><td> 19</td><td> 71</td><td>133</td><td>225</td><td>2</td></tr>\n",
              "\t<tr><th scope=row>62</th><td>NBA</td><td>Corey Brewer    </td><td>HOU</td><td>SG</td><td>82</td><td>1670</td><td>212</td><td> 552</td><td> 61</td><td>225</td><td>105</td><td>140</td><td> 42</td><td> 199</td><td>109</td><td> 84</td><td> 78</td><td> 19</td><td>168</td><td>1</td></tr>\n",
              "\t<tr><th scope=row>118</th><td>NBA</td><td>Gorgui Dieng    </td><td>MIN</td><td>C </td><td>82</td><td>2222</td><td>308</td><td> 578</td><td>  6</td><td> 20</td><td>205</td><td>248</td><td>156</td><td> 584</td><td>143</td><td> 94</td><td>140</td><td> 96</td><td>219</td><td>0</td></tr>\n",
              "\t<tr><th scope=row>148</th><td>NBA</td><td>Langsto Galloway</td><td>NYK</td><td>PG</td><td>82</td><td>2032</td><td>231</td><td> 588</td><td> 77</td><td>224</td><td> 86</td><td>114</td><td> 43</td><td> 288</td><td>207</td><td> 77</td><td> 61</td><td> 22</td><td>177</td><td>2</td></tr>\n",
              "\t<tr><th scope=row>178</th><td>NBA</td><td>James Harden    </td><td>HOU</td><td>SG</td><td>82</td><td>3121</td><td>710</td><td>1617</td><td>236</td><td>656</td><td>720</td><td>837</td><td> 63</td><td> 502</td><td>612</td><td>138</td><td>374</td><td> 51</td><td>229</td><td>1</td></tr>\n",
              "\t<tr><th scope=row>208</th><td>NBA</td><td>Al Horford      </td><td>ATL</td><td>PF</td><td>82</td><td>2638</td><td>529</td><td>1049</td><td> 88</td><td>257</td><td>103</td><td>129</td><td>148</td><td> 597</td><td>263</td><td> 67</td><td>107</td><td>122</td><td>163</td><td>0</td></tr>\n",
              "\t<tr><th scope=row>246</th><td>NBA</td><td>Enes Kanter     </td><td>OKL</td><td>C </td><td>82</td><td>1721</td><td>415</td><td> 720</td><td> 10</td><td> 21</td><td>200</td><td>251</td><td>250</td><td> 665</td><td> 33</td><td> 26</td><td>115</td><td> 33</td><td>166</td><td>1</td></tr>\n",
              "\t<tr><th scope=row>259</th><td>NBA</td><td>Zach Lavine     </td><td>MIN</td><td>PG</td><td>82</td><td>2295</td><td>433</td><td> 960</td><td>123</td><td>316</td><td>161</td><td>203</td><td> 28</td><td> 229</td><td>252</td><td> 69</td><td>155</td><td> 17</td><td>193</td><td>1</td></tr>\n",
              "\t<tr><th scope=row>272</th><td>NBA</td><td>Robin Lopez     </td><td>NYK</td><td>C </td><td>82</td><td>2213</td><td>357</td><td> 662</td><td>  0</td><td>  1</td><td>128</td><td>161</td><td>268</td><td> 602</td><td>114</td><td> 16</td><td>133</td><td>129</td><td>182</td><td>2</td></tr>\n",
              "\t<tr><th scope=row>320</th><td>NBA</td><td>Shabazz Muhammad</td><td>MIN</td><td>SF</td><td>82</td><td>1678</td><td>317</td><td> 681</td><td> 44</td><td>152</td><td>185</td><td>242</td><td>100</td><td> 267</td><td> 52</td><td> 24</td><td> 70</td><td>  7</td><td> 94</td><td>0</td></tr>\n",
              "\t<tr><th scope=row>357</th><td>NBA</td><td>Mason Plumlee   </td><td>POR</td><td>PF</td><td>82</td><td>2087</td><td>267</td><td> 517</td><td>  0</td><td>  4</td><td>215</td><td>335</td><td>201</td><td> 628</td><td>226</td><td> 68</td><td>154</td><td> 82</td><td>253</td><td>4</td></tr>\n",
              "\t<tr><th scope=row>394</th><td>NBA</td><td>Ramon Sessions  </td><td>WAS</td><td>PG</td><td>82</td><td>1667</td><td>280</td><td> 592</td><td> 36</td><td>111</td><td>214</td><td>283</td><td> 26</td><td> 204</td><td>240</td><td> 47</td><td>115</td><td>  5</td><td>102</td><td>0</td></tr>\n",
              "\t<tr><th scope=row>422</th><td>NBA</td><td>Isaiah Thomas   </td><td>BOS</td><td>PG</td><td>82</td><td>2647</td><td>591</td><td>1382</td><td>167</td><td>465</td><td>474</td><td>544</td><td> 46</td><td> 243</td><td>509</td><td> 91</td><td>220</td><td>  9</td><td>167</td><td>1</td></tr>\n",
              "\t<tr><th scope=row>427</th><td>NBA</td><td>Tristan Thompson</td><td>CLE</td><td>C </td><td>82</td><td>2269</td><td>247</td><td> 420</td><td>  0</td><td>  0</td><td>149</td><td>242</td><td>268</td><td> 738</td><td> 63</td><td> 38</td><td> 61</td><td> 51</td><td>202</td><td>0</td></tr>\n",
              "\t<tr><th scope=row>431</th><td>NBA</td><td>Karl-antho Towns</td><td>MIN</td><td>C </td><td>82</td><td>2621</td><td>625</td><td>1152</td><td> 30</td><td> 88</td><td>223</td><td>275</td><td>226</td><td> 854</td><td>161</td><td> 58</td><td>183</td><td>138</td><td>245</td><td>1</td></tr>\n",
              "\t<tr><th scope=row>432</th><td>NBA</td><td>P.j. Tucker     </td><td>PHO</td><td>SF</td><td>82</td><td>2540</td><td>239</td><td> 582</td><td> 68</td><td>206</td><td>106</td><td>142</td><td>165</td><td> 512</td><td>177</td><td>106</td><td>111</td><td> 20</td><td>202</td><td>3</td></tr>\n",
              "\t<tr><th scope=row>24</th><td>NBA</td><td>Trevor Ariza    </td><td>HOU</td><td>SF</td><td>81</td><td>2860</td><td>357</td><td> 858</td><td>185</td><td>497</td><td>126</td><td>161</td><td> 67</td><td> 366</td><td>188</td><td>161</td><td>113</td><td> 26</td><td>177</td><td>0</td></tr>\n",
              "\t<tr><th scope=row>41</th><td>NBA</td><td>Aron Baynes     </td><td>DET</td><td>PF</td><td>81</td><td>1241</td><td>194</td><td> 384</td><td>  0</td><td>  2</td><td>126</td><td>165</td><td>140</td><td> 384</td><td> 51</td><td> 21</td><td> 67</td><td> 52</td><td>151</td><td>0</td></tr>\n",
              "\t<tr><th scope=row>100</th><td>NBA</td><td>Allen Crabbe    </td><td>POR</td><td>SF</td><td>81</td><td>2111</td><td>312</td><td> 678</td><td>112</td><td>284</td><td> 98</td><td>113</td><td> 27</td><td> 216</td><td> 99</td><td> 63</td><td> 64</td><td> 16</td><td>192</td><td>2</td></tr>\n",
              "\t<tr><th scope=row>109</th><td>NBA</td><td>Ed Davis        </td><td>POR</td><td>PF</td><td>81</td><td>1684</td><td>206</td><td> 337</td><td>  0</td><td>  0</td><td>114</td><td>204</td><td>224</td><td> 599</td><td> 88</td><td> 57</td><td> 64</td><td> 72</td><td>202</td><td>2</td></tr>\n",
              "\t<tr><th scope=row>122</th><td>NBA</td><td>Andre Drummond  </td><td>DET</td><td>C </td><td>81</td><td>2664</td><td>552</td><td>1061</td><td>  2</td><td>  6</td><td>208</td><td>586</td><td>395</td><td>1198</td><td> 67</td><td>119</td><td>154</td><td>112</td><td>245</td><td>2</td></tr>\n",
              "\t<tr><th scope=row>123</th><td>NBA</td><td>Jared Dudley    </td><td>WAS</td><td>SG</td><td>81</td><td>2098</td><td>233</td><td> 487</td><td>100</td><td>239</td><td> 72</td><td> 98</td><td> 54</td><td> 286</td><td>170</td><td> 75</td><td> 80</td><td> 18</td><td>190</td><td>1</td></tr>\n",
              "\t<tr><th scope=row>131</th><td>NBA</td><td>Monta Ellis     </td><td>IND</td><td>PG</td><td>81</td><td>2733</td><td>436</td><td>1021</td><td> 87</td><td>281</td><td>162</td><td>206</td><td> 42</td><td> 272</td><td>382</td><td>149</td><td>203</td><td> 38</td><td>174</td><td>0</td></tr>\n",
              "\t<tr><th scope=row>143</th><td>NBA</td><td>Randy Foye      </td><td>OKC</td><td>SG</td><td>81</td><td>1640</td><td>168</td><td> 481</td><td> 75</td><td>250</td><td> 61</td><td> 74</td><td> 24</td><td> 156</td><td>160</td><td> 39</td><td> 86</td><td> 29</td><td>131</td><td>0</td></tr>\n",
              "\t<tr><th scope=row>154</th><td>NBA</td><td>Paul George     </td><td>IND</td><td>SF</td><td>81</td><td>2828</td><td>605</td><td>1448</td><td>210</td><td>565</td><td>454</td><td>528</td><td> 79</td><td> 563</td><td>329</td><td>152</td><td>265</td><td> 29</td><td>230</td><td>1</td></tr>\n",
              "\t<tr><th scope=row>167</th><td>NBA</td><td>Draymond Green  </td><td>GSW</td><td>SF</td><td>81</td><td>2807</td><td>401</td><td> 819</td><td>100</td><td>258</td><td>229</td><td>329</td><td>130</td><td> 765</td><td>597</td><td>118</td><td>259</td><td>111</td><td>240</td><td>2</td></tr>\n",
              "\t<tr><th scope=row>194</th><td>NBA</td><td>Roy Hibbert     </td><td>LAL</td><td>C </td><td>81</td><td>1881</td><td>182</td><td> 411</td><td>  0</td><td>  2</td><td>117</td><td>145</td><td>131</td><td> 398</td><td> 95</td><td> 32</td><td> 76</td><td>110</td><td>252</td><td>3</td></tr>\n",
              "\t<tr><th scope=row>217</th><td>NBA</td><td>Joe Ingles      </td><td>UTA</td><td>SF</td><td>81</td><td>1241</td><td>124</td><td> 291</td><td> 81</td><td>210</td><td> 13</td><td> 18</td><td> 19</td><td> 151</td><td> 96</td><td> 55</td><td> 65</td><td>  4</td><td> 98</td><td>0</td></tr>\n",
              "\t<tr><th scope=row>⋮</th><td>⋮</td><td>⋮</td><td>⋮</td><td>⋮</td><td>⋮</td><td>⋮</td><td>⋮</td><td>⋮</td><td>⋮</td><td>⋮</td><td>⋮</td><td>⋮</td><td>⋮</td><td>⋮</td><td>⋮</td><td>⋮</td><td>⋮</td><td>⋮</td><td>⋮</td><td>⋮</td></tr>\n",
              "\t<tr><th scope=row>163</th><td>NBA</td><td>Andre Goudelock </td><td>HOU</td><td>PG</td><td>8</td><td> 51</td><td> 9</td><td>20</td><td>1</td><td> 9</td><td> 3</td><td> 4</td><td> 1</td><td> 2</td><td> 4</td><td>6</td><td> 7</td><td>2</td><td> 4</td><td>0</td></tr>\n",
              "\t<tr><th scope=row>224</th><td>NBA</td><td>Cory Jefferson  </td><td>PHO</td><td>PF</td><td>8</td><td> 52</td><td> 9</td><td>22</td><td>0</td><td> 1</td><td> 4</td><td> 6</td><td> 6</td><td>16</td><td> 0</td><td>0</td><td> 0</td><td>1</td><td> 8</td><td>0</td></tr>\n",
              "\t<tr><th scope=row>412</th><td>NBA</td><td>Alex Stepheson  </td><td>MEM</td><td>SF</td><td>8</td><td> 72</td><td> 9</td><td>27</td><td>0</td><td> 0</td><td> 4</td><td>12</td><td>19</td><td>28</td><td> 2</td><td>1</td><td> 0</td><td>5</td><td>12</td><td>1</td></tr>\n",
              "\t<tr><th scope=row>470</th><td>NBA</td><td>Tony Wroten     </td><td>PHI</td><td>SG</td><td>8</td><td>145</td><td>22</td><td>65</td><td>3</td><td>17</td><td>20</td><td>37</td><td> 2</td><td>21</td><td>20</td><td>3</td><td>29</td><td>0</td><td>11</td><td>0</td></tr>\n",
              "\t<tr><th scope=row>233</th><td>NBA</td><td>Orlando Johnson </td><td>NOR</td><td>SG</td><td>7</td><td>102</td><td> 9</td><td>35</td><td>2</td><td>11</td><td> 6</td><td> 8</td><td> 4</td><td>15</td><td> 2</td><td>3</td><td> 4</td><td>3</td><td> 9</td><td>0</td></tr>\n",
              "\t<tr><th scope=row>250</th><td>NBA</td><td>M Kidd-gilchrist</td><td>CHA</td><td>SF</td><td>7</td><td>205</td><td>33</td><td>61</td><td>3</td><td> 7</td><td>20</td><td>29</td><td>12</td><td>45</td><td> 9</td><td>3</td><td> 8</td><td>3</td><td> 9</td><td>0</td></tr>\n",
              "\t<tr><th scope=row>413</th><td>NBA</td><td>Jarnell Stokes  </td><td>NOR</td><td>C </td><td>7</td><td> 18</td><td> 3</td><td> 5</td><td>0</td><td> 0</td><td> 1</td><td> 2</td><td> 1</td><td> 4</td><td> 1</td><td>1</td><td> 0</td><td>0</td><td> 1</td><td>0</td></tr>\n",
              "\t<tr><th scope=row>450</th><td>NBA</td><td>Briante Weber   </td><td>MIA</td><td>PG</td><td>7</td><td>170</td><td>14</td><td>39</td><td>0</td><td> 5</td><td> 3</td><td> 4</td><td> 8</td><td>25</td><td>21</td><td>9</td><td> 9</td><td>3</td><td>12</td><td>0</td></tr>\n",
              "\t<tr><th scope=row>455</th><td>NBA</td><td>Shay Whittington</td><td>IND</td><td>PF</td><td>7</td><td> 41</td><td> 5</td><td>11</td><td>0</td><td> 2</td><td> 1</td><td> 2</td><td> 5</td><td>12</td><td> 3</td><td>1</td><td> 5</td><td>1</td><td> 7</td><td>0</td></tr>\n",
              "\t<tr><th scope=row>75</th><td>NBA</td><td>Bruno Caboclo   </td><td>TOR</td><td>SF</td><td>6</td><td> 43</td><td> 1</td><td>12</td><td>1</td><td> 7</td><td> 0</td><td> 0</td><td> 1</td><td> 2</td><td> 1</td><td>2</td><td> 4</td><td>1</td><td> 2</td><td>0</td></tr>\n",
              "\t<tr><th scope=row>110</th><td>NBA</td><td>Branden Dawson  </td><td>LAC</td><td>SF</td><td>6</td><td> 28</td><td> 2</td><td> 5</td><td>0</td><td> 0</td><td> 1</td><td> 1</td><td> 2</td><td> 4</td><td> 0</td><td>0</td><td> 0</td><td>1</td><td> 2</td><td>0</td></tr>\n",
              "\t<tr><th scope=row>145</th><td>NBA</td><td>Jimmer Fredette </td><td>NYK</td><td>PG</td><td>6</td><td> 17</td><td> 2</td><td> 5</td><td>1</td><td> 2</td><td> 4</td><td> 5</td><td> 0</td><td> 0</td><td> 0</td><td>1</td><td> 2</td><td>0</td><td> 2</td><td>0</td></tr>\n",
              "\t<tr><th scope=row>23</th><td>NBA</td><td>Keith Appling   </td><td>ORL</td><td>PG</td><td>5</td><td> 27</td><td> 2</td><td> 8</td><td>0</td><td> 3</td><td> 2</td><td> 2</td><td> 0</td><td> 1</td><td> 1</td><td>1</td><td> 3</td><td>0</td><td> 5</td><td>0</td></tr>\n",
              "\t<tr><th scope=row>180</th><td>NBA</td><td>Justin Harper   </td><td>DET</td><td>PF</td><td>5</td><td> 35</td><td> 4</td><td>10</td><td>4</td><td> 9</td><td> 1</td><td> 2</td><td> 0</td><td> 1</td><td> 0</td><td>1</td><td> 2</td><td>0</td><td> 3</td><td>0</td></tr>\n",
              "\t<tr><th scope=row>184</th><td>NBA</td><td>Joe Harris      </td><td>CLE</td><td>SG</td><td>5</td><td> 15</td><td> 1</td><td> 4</td><td>1</td><td> 4</td><td> 0</td><td> 0</td><td> 0</td><td> 3</td><td> 2</td><td>0</td><td> 1</td><td>0</td><td> 1</td><td>0</td></tr>\n",
              "\t<tr><th scope=row>211</th><td>NBA</td><td>Josh Huestis    </td><td>OKL</td><td>SF</td><td>5</td><td> 55</td><td> 5</td><td>12</td><td>4</td><td> 6</td><td> 0</td><td> 4</td><td> 2</td><td>10</td><td> 0</td><td>1</td><td> 3</td><td>2</td><td> 3</td><td>0</td></tr>\n",
              "\t<tr><th scope=row>270</th><td>NBA</td><td>Kevon Looney    </td><td>GSW</td><td>SF</td><td>5</td><td> 21</td><td> 4</td><td> 7</td><td>1</td><td> 2</td><td> 0</td><td> 0</td><td> 4</td><td>10</td><td> 0</td><td>0</td><td> 1</td><td>0</td><td> 2</td><td>0</td></tr>\n",
              "\t<tr><th scope=row>309</th><td>NBA</td><td>Nazr Mohammed   </td><td>OKL</td><td>C </td><td>5</td><td> 20</td><td> 3</td><td> 5</td><td>0</td><td> 0</td><td> 2</td><td> 2</td><td> 1</td><td> 4</td><td> 0</td><td>0</td><td> 3</td><td>0</td><td> 4</td><td>0</td></tr>\n",
              "\t<tr><th scope=row>461</th><td>NBA</td><td>Elliot Williams </td><td>MEM</td><td>SG</td><td>5</td><td> 46</td><td> 2</td><td>10</td><td>1</td><td> 4</td><td> 3</td><td> 4</td><td> 1</td><td> 4</td><td> 4</td><td>1</td><td> 1</td><td>0</td><td> 2</td><td>0</td></tr>\n",
              "\t<tr><th scope=row>89</th><td>NBA</td><td>Coty Clarke     </td><td>BOS</td><td>NA</td><td>4</td><td>  8</td><td> 2</td><td> 4</td><td>2</td><td> 2</td><td> 0</td><td> 0</td><td> 0</td><td> 1</td><td> 0</td><td>0</td><td> 1</td><td>0</td><td> 0</td><td>0</td></tr>\n",
              "\t<tr><th scope=row>20</th><td>NBA</td><td>Th Antetokounmpo</td><td>NYK</td><td>SF</td><td>3</td><td>  7</td><td> 3</td><td> 4</td><td>0</td><td> 1</td><td> 0</td><td> 0</td><td> 0</td><td> 1</td><td> 0</td><td>0</td><td> 0</td><td>0</td><td> 2</td><td>0</td></tr>\n",
              "\t<tr><th scope=row>113</th><td>NBA</td><td>Sam Dekker      </td><td>HOU</td><td>SF</td><td>3</td><td>  7</td><td> 0</td><td> 0</td><td>0</td><td> 0</td><td> 0</td><td> 0</td><td> 0</td><td> 1</td><td> 0</td><td>1</td><td> 0</td><td>0</td><td> 0</td><td>0</td></tr>\n",
              "\t<tr><th scope=row>298</th><td>NBA</td><td>Jodie Meeks     </td><td>DET</td><td>SG</td><td>3</td><td> 44</td><td> 7</td><td>20</td><td>4</td><td> 9</td><td> 4</td><td> 4</td><td> 1</td><td> 5</td><td> 3</td><td>0</td><td> 1</td><td>0</td><td> 2</td><td>0</td></tr>\n",
              "\t<tr><th scope=row>2</th><td>NBA</td><td>Jordan Adams    </td><td>MEM</td><td>SG</td><td>2</td><td> 15</td><td> 2</td><td> 6</td><td>0</td><td> 1</td><td> 3</td><td> 5</td><td> 0</td><td> 2</td><td> 3</td><td>3</td><td> 2</td><td>0</td><td> 2</td><td>0</td></tr>\n",
              "\t<tr><th scope=row>189</th><td>NBA</td><td>Chuck Hayes     </td><td>HOU</td><td>PF</td><td>2</td><td> 24</td><td> 1</td><td> 2</td><td>0</td><td> 0</td><td> 2</td><td> 2</td><td> 0</td><td> 8</td><td> 2</td><td>0</td><td> 3</td><td>0</td><td> 6</td><td>0</td></tr>\n",
              "\t<tr><th scope=row>377</th><td>NBA</td><td>Nate Robinson   </td><td>NOR</td><td>PG</td><td>2</td><td> 23</td><td> 0</td><td> 1</td><td>0</td><td> 1</td><td> 0</td><td> 0</td><td> 0</td><td> 0</td><td> 4</td><td>1</td><td> 0</td><td>0</td><td> 5</td><td>0</td></tr>\n",
              "\t<tr><th scope=row>87</th><td>NBA</td><td>Rakeem Christmas</td><td>IND</td><td>PF</td><td>1</td><td>  6</td><td> 2</td><td> 2</td><td>0</td><td> 0</td><td> 0</td><td> 0</td><td> 1</td><td> 1</td><td> 0</td><td>0</td><td> 0</td><td>0</td><td> 1</td><td>0</td></tr>\n",
              "\t<tr><th scope=row>124</th><td>NBA</td><td>Duje Dukan      </td><td>SAC</td><td>PF</td><td>1</td><td> 24</td><td> 2</td><td>10</td><td>2</td><td> 5</td><td> 0</td><td> 0</td><td> 2</td><td> 4</td><td> 1</td><td>1</td><td> 0</td><td>0</td><td> 2</td><td>0</td></tr>\n",
              "\t<tr><th scope=row>238</th><td>NBA</td><td>Dahntay Jones   </td><td>CLE</td><td>SG</td><td>1</td><td> 42</td><td> 6</td><td>14</td><td>1</td><td> 2</td><td> 0</td><td> 0</td><td> 1</td><td> 5</td><td> 2</td><td>1</td><td> 0</td><td>2</td><td> 6</td><td>1</td></tr>\n",
              "\t<tr><th scope=row>335</th><td>NBA</td><td>J.j. O'brien    </td><td>UTA</td><td>SF</td><td>1</td><td>  2</td><td> 0</td><td> 1</td><td>0</td><td> 0</td><td> 0</td><td> 0</td><td> 0</td><td> 0</td><td> 0</td><td>0</td><td> 0</td><td>0</td><td> 0</td><td>0</td></tr>\n",
              "</tbody>\n",
              "</table>\n"
            ]
          },
          "metadata": {
            "tags": []
          }
        }
      ]
    },
    {
      "cell_type": "code",
      "metadata": {
        "id": "7qvspHxMlV07",
        "outputId": "66aaa9c2-9c7b-4592-9f97-c9f1e5ae3cf9",
        "colab": {
          "base_uri": "https://localhost:8080/",
          "height": 51
        }
      },
      "source": [
        "NBA15160rder<-NBA1516[order(NBA1516$GamesPlayed,decreasing=T),]\n",
        "NBA15160rder[1:20,\"Name\"]"
      ],
      "execution_count": 21,
      "outputs": [
        {
          "output_type": "display_data",
          "data": {
            "text/plain": [
              " [1] \"Al-farouq Aminu\"  \"Will Barton\"      \"Bismack Biyombo\"  \"Corey Brewer\"    \n",
              " [5] \"Gorgui Dieng\"     \"Langsto Galloway\" \"James Harden\"     \"Al Horford\"      \n",
              " [9] \"Enes Kanter\"      \"Zach Lavine\"      \"Robin Lopez\"      \"Shabazz Muhammad\"\n",
              "[13] \"Mason Plumlee\"    \"Ramon Sessions\"   \"Isaiah Thomas\"    \"Tristan Thompson\"\n",
              "[17] \"Karl-antho Towns\" \"P.j. Tucker\"      \"Trevor Ariza\"     \"Aron Baynes\"     "
            ],
            "text/latex": "\\begin{enumerate*}\n\\item 'Al-farouq Aminu'\n\\item 'Will Barton'\n\\item 'Bismack Biyombo'\n\\item 'Corey Brewer'\n\\item 'Gorgui Dieng'\n\\item 'Langsto Galloway'\n\\item 'James Harden'\n\\item 'Al Horford'\n\\item 'Enes Kanter'\n\\item 'Zach Lavine'\n\\item 'Robin Lopez'\n\\item 'Shabazz Muhammad'\n\\item 'Mason Plumlee'\n\\item 'Ramon Sessions'\n\\item 'Isaiah Thomas'\n\\item 'Tristan Thompson'\n\\item 'Karl-antho Towns'\n\\item 'P.j. Tucker'\n\\item 'Trevor Ariza'\n\\item 'Aron Baynes'\n\\end{enumerate*}\n",
            "text/markdown": "1. 'Al-farouq Aminu'\n2. 'Will Barton'\n3. 'Bismack Biyombo'\n4. 'Corey Brewer'\n5. 'Gorgui Dieng'\n6. 'Langsto Galloway'\n7. 'James Harden'\n8. 'Al Horford'\n9. 'Enes Kanter'\n10. 'Zach Lavine'\n11. 'Robin Lopez'\n12. 'Shabazz Muhammad'\n13. 'Mason Plumlee'\n14. 'Ramon Sessions'\n15. 'Isaiah Thomas'\n16. 'Tristan Thompson'\n17. 'Karl-antho Towns'\n18. 'P.j. Tucker'\n19. 'Trevor Ariza'\n20. 'Aron Baynes'\n\n\n",
            "text/html": [
              "<style>\n",
              ".list-inline {list-style: none; margin:0; padding: 0}\n",
              ".list-inline>li {display: inline-block}\n",
              ".list-inline>li:not(:last-child)::after {content: \"\\00b7\"; padding: 0 .5ex}\n",
              "</style>\n",
              "<ol class=list-inline><li>'Al-farouq Aminu'</li><li>'Will Barton'</li><li>'Bismack Biyombo'</li><li>'Corey Brewer'</li><li>'Gorgui Dieng'</li><li>'Langsto Galloway'</li><li>'James Harden'</li><li>'Al Horford'</li><li>'Enes Kanter'</li><li>'Zach Lavine'</li><li>'Robin Lopez'</li><li>'Shabazz Muhammad'</li><li>'Mason Plumlee'</li><li>'Ramon Sessions'</li><li>'Isaiah Thomas'</li><li>'Tristan Thompson'</li><li>'Karl-antho Towns'</li><li>'P.j. Tucker'</li><li>'Trevor Ariza'</li><li>'Aron Baynes'</li></ol>\n"
            ]
          },
          "metadata": {
            "tags": []
          }
        }
      ]
    },
    {
      "cell_type": "code",
      "metadata": {
        "id": "F50Fz0cZlpSy",
        "outputId": "46a525ed-6fd4-4dae-f44c-8f5ae4e8b733",
        "colab": {
          "base_uri": "https://localhost:8080/",
          "height": 1000
        }
      },
      "source": [
        "subset(NBA1516,TEAM=GSW)\n",
        "\n"
      ],
      "execution_count": 23,
      "outputs": [
        {
          "output_type": "display_data",
          "data": {
            "text/plain": [
              "    League Name             Team Position GamesPlayed TotalMinutesPlayed\n",
              "1   NBA    Quincy Acy       SAC  SF       59           877              \n",
              "2   NBA    Jordan Adams     MEM  SG        2            15              \n",
              "3   NBA    Steven Adams     OKL  C        80          2019              \n",
              "4   NBA    Arron Afflalo    NYK  SG       71          2359              \n",
              "5   NBA    Alexis Ajinca    NOR  C        59           863              \n",
              "6   NBA    Cole Aldrich     LAC  C        60           802              \n",
              "7   NBA    Lamarcu Aldridge SAN  PF       74          2260              \n",
              "8   NBA    Cliff Alexander  POR  PF        9            37              \n",
              "9   NBA    Lavoy Allen      IND  PF       79          1601              \n",
              "10  NBA    Tony Allen       MEM  SG       64          1622              \n",
              "11  NBA    Al-farouq Aminu  POR  SF       82          2342              \n",
              "12  NBA    Lou Amundson     NYK  PF       29           199              \n",
              "13  NBA    Chris Andersen   MEM  PF       27           404              \n",
              "14  NBA    Alan Anderson    WAS  SG       13           193              \n",
              "15  NBA    James Anderson   SAC  SG       51           721              \n",
              "16  NBA    Justin Anderson  DAL  SG       55           644              \n",
              "17  NBA    Kyle Anderson    SAN  SF       78          1247              \n",
              "18  NBA    Ryan Anderson    NOR  PF       66          2011              \n",
              "19  NBA    Gi Antetokounmpo MIL  SF       80          2825              \n",
              "20  NBA    Th Antetokounmpo NYK  SF        3             7              \n",
              "21  NBA    Carmelo Anthony  NYK  SF       72          2529              \n",
              "22  NBA    Joel Anthony     DET  C        19            95              \n",
              "23  NBA    Keith Appling    ORL  PG        5            27              \n",
              "24  NBA    Trevor Ariza     HOU  SF       81          2860              \n",
              "25  NBA    Ron Artest       LAL  SF       35           588              \n",
              "26  NBA    Darrell Arthur   DEN  PF       70          1517              \n",
              "27  NBA    Omer Asik        NOR  C        68          1181              \n",
              "28  NBA    D.j. Augustin    DEN  PG       62          1182              \n",
              "29  NBA    Jeff Ayres       LAC  PF       16            95              \n",
              "30  NBA    Luke Babbitt     NOR  SF       47           847              \n",
              "⋮   ⋮      ⋮                ⋮    ⋮        ⋮           ⋮                 \n",
              "447 NBA    John Wall        WAS  PG       77          2783              \n",
              "448 NBA    T.j. Warren      PHO  SF       47          1065              \n",
              "449 NBA    C.j. Watson      ORL  PG       33           655              \n",
              "450 NBA    Briante Weber    MIA  PG        7           170              \n",
              "451 NBA    Sonny Weems      PHI  SG       43           501              \n",
              "452 NBA    David West       SAN  PF       78          1408              \n",
              "453 NBA    Russel Westbrook OKL  PG       80          2749              \n",
              "454 NBA    Hassan Whiteside MIA  C        73          2122              \n",
              "455 NBA    Shay Whittington IND  PF        7            41              \n",
              "456 NBA    Andrew Wiggins   MIN  SF       81          2844              \n",
              "457 NBA    C.j. Wilcox      LAC  SG       23           168              \n",
              "458 NBA    Alan Williams    PHO  C        10            67              \n",
              "459 NBA    Deron Williams   DAL  PG       65          2107              \n",
              "460 NBA    Derrick Williams NYK  PF       80          1442              \n",
              "461 NBA    Elliot Williams  MEM  SG        5            46              \n",
              "462 NBA    Louis Williams   LAL  SG       67          1911              \n",
              "463 NBA    Marvin Williams  CHA  PF       81          2339              \n",
              "464 NBA    Mo Williams      CLE  PG       41           748              \n",
              "465 NBA    Justise Winslow  MIA  SF       78          2237              \n",
              "466 NBA    Jeff Withey      UTA  C        51           653              \n",
              "467 NBA    Christian Wood   PHI  PF       17           146              \n",
              "468 NBA    Brandan Wright   MEM  PF       12           213              \n",
              "469 NBA    Delon Wright     TOR  PG       27           231              \n",
              "470 NBA    Tony Wroten      PHI  SG        8           145              \n",
              "471 NBA    James Young      BOS  SG       29           200              \n",
              "472 NBA    Joseph Young     IND  PG       41           384              \n",
              "473 NBA    Nick Young       LAL  SF       54          1036              \n",
              "474 NBA    Thaddeus Young   BRO  SF       73          2413              \n",
              "475 NBA    Cody Zeller      CHA  PF       73          1773              \n",
              "476 NBA    Tyler Zeller     BOS  C        60           714              \n",
              "    FieldGoalsMade FieldGoalsAttempted ThreesMade ThreesAttempted ⋯ Steals\n",
              "1   119             214                 19         49             ⋯  29   \n",
              "2     2               6                  0          1             ⋯   3   \n",
              "3   261             426                  0          0             ⋯  42   \n",
              "4   354             799                 91        238             ⋯  25   \n",
              "5   150             314                  0          1             ⋯  19   \n",
              "6   134             225                  0          0             ⋯  47   \n",
              "7   536            1045                  0         16             ⋯  38   \n",
              "8     5              10                  0          0             ⋯   1   \n",
              "9   191             370                  0          0             ⋯  26   \n",
              "10  215             469                 15         42             ⋯ 109   \n",
              "11  299             719                126        349             ⋯  72   \n",
              "12   19              52                  0          0             ⋯   6   \n",
              "13   38              72                  4         14             ⋯  15   \n",
              "14   21              59                 12         37             ⋯   4   \n",
              "15   67             178                 23         86             ⋯  21   \n",
              "16   71             176                 22         83             ⋯  19   \n",
              "17  138             296                 12         37             ⋯  60   \n",
              "18  397             928                131        357             ⋯  38   \n",
              "19  513            1012                 28        110             ⋯  94   \n",
              "20    3               4                  0          1             ⋯   0   \n",
              "21  567            1307                105        310             ⋯  62   \n",
              "22    6              10                  0          0             ⋯   2   \n",
              "23    2               8                  0          3             ⋯   1   \n",
              "24  357             858                185        497             ⋯ 161   \n",
              "25   55             177                 26         84             ⋯  22   \n",
              "26  221             489                 45        117             ⋯  53   \n",
              "27  104             196                  0          0             ⋯  21   \n",
              "28  148             350                 68        169             ⋯  38   \n",
              "29   10              21                  0          1             ⋯   0   \n",
              "30  122             289                 44        109             ⋯  11   \n",
              "⋮   ⋮              ⋮                   ⋮          ⋮               ⋱ ⋮     \n",
              "447 572            1349                115        327             ⋯ 145   \n",
              "448 221             441                 28         70             ⋯  37   \n",
              "449  47             137                 14         48             ⋯  19   \n",
              "450  14              39                  0          5             ⋯   9   \n",
              "451  42             111                 15         42             ⋯  10   \n",
              "452 244             448                  3          7             ⋯  44   \n",
              "453 656            1444                101        341             ⋯ 163   \n",
              "454 412             681                  0          0             ⋯  44   \n",
              "455   5              11                  0          2             ⋯   1   \n",
              "456 594            1294                 57        190             ⋯  78   \n",
              "457  26              66                  9         23             ⋯  10   \n",
              "458  10              24                  0          0             ⋯   4   \n",
              "459 321             775                 97        282             ⋯  61   \n",
              "460 254             565                 44        150             ⋯  30   \n",
              "461   2              10                  1          4             ⋯   1   \n",
              "462 283             695                110        321             ⋯  62   \n",
              "463 338             747                152        379             ⋯  58   \n",
              "464 132             302                 36        102             ⋯  14   \n",
              "465 196             463                 32        116             ⋯  68   \n",
              "466  87             161                  0          2             ⋯  21   \n",
              "467  22              53                  4         11             ⋯   5   \n",
              "468  35              52                  0          0             ⋯   5   \n",
              "469  36              81                  5         13             ⋯   8   \n",
              "470  22              65                  3         17             ⋯   3   \n",
              "471  11              36                  6         26             ⋯   6   \n",
              "472  62             170                 10         46             ⋯  15   \n",
              "473 126             372                 77        237             ⋯  23   \n",
              "474 495             963                  7         30             ⋯ 112   \n",
              "475 231             437                  1         10             ⋯  57   \n",
              "476 138             290                  0          0             ⋯  10   \n",
              "    Turnovers Blocks PersonalFouls Disqualifications TotalPoints Technicals\n",
              "1    27        24    103           0                  307        3         \n",
              "2     2         0      2           0                    7        0         \n",
              "3    84        89    223           2                  636        2         \n",
              "4    82        10    142           1                  909        1         \n",
              "5    54        36    134           0                  352        2         \n",
              "6    64        68    139           1                  328        0         \n",
              "7    99        81    151           0                 1331        0         \n",
              "8     1         2      1           0                   10        0         \n",
              "9    69        42    147           1                  428        0         \n",
              "10   78        18    175           1                  535        1         \n",
              "11  120        53    171           0                  839        3         \n",
              "12   15         7     44           1                   52        1         \n",
              "13    9        13     29           0                  105        0         \n",
              "14    2         1     25           0                   65        0         \n",
              "15   42        14     54           0                  179        0         \n",
              "16   24        25     45           0                  208        0         \n",
              "17   59        29     97           0                  350        0         \n",
              "18   90        25    109           0                 1124        3         \n",
              "19  208       113    258           7                 1350        1         \n",
              "20    0         0      2           0                    6        0         \n",
              "21  176        38    180           1                 1573        4         \n",
              "22    2        12     15           0                   18        0         \n",
              "23    3         0      5           0                    6        0         \n",
              "24  113        26    177           0                 1025        2         \n",
              "25   15        11     67           1                  176        1         \n",
              "26   66        48    185           1                  527        2         \n",
              "27   60        23    124           0                  269        0         \n",
              "28   84         4     85           0                  467        0         \n",
              "29    5         0     16           0                   24        0         \n",
              "30   23         7     90           0                  327        1         \n",
              "⋮   ⋮         ⋮      ⋮             ⋮                 ⋮           ⋮         \n",
              "447 318        59    159           0                 1531        7         \n",
              "448  32        16     94           0                  515        0         \n",
              "449  25         5     49           0                  142        0         \n",
              "450   9         3     12           0                   31        0         \n",
              "451  41         1     47           0                  107        0         \n",
              "452  67        55    142           1                  554        2         \n",
              "453 342        20    200           2                 1878        6         \n",
              "454 137       269    201           2                 1038        2         \n",
              "455   5         1      7           0                   11        0         \n",
              "456 182        46    165           1                 1675        1         \n",
              "457   2         2     15           0                   70        0         \n",
              "458   6         5     15           0                   29        0         \n",
              "459 150        14    155           0                  918        0         \n",
              "460  61         9     69           0                  746        0         \n",
              "461   1         0      2           0                    8        0         \n",
              "462 107        19    107           1                 1028        1         \n",
              "463  62        77    133           1                  948        0         \n",
              "464  57         5     60           0                  338        1         \n",
              "465  95        26    184           0                  504        0         \n",
              "466  28        53     74           1                  217        0         \n",
              "467   2         7     11           0                   61        0         \n",
              "468  10        15     21           0                   83        0         \n",
              "469  16         3      7           0                  103        0         \n",
              "470  29         0     11           0                   67        0         \n",
              "471   5         1     17           0                   29        0         \n",
              "472  33         0     30           0                  154        0         \n",
              "473  30         7     50           0                  392        1         \n",
              "474 136        37    182           3                 1102        1         \n",
              "475  68        63    204           4                  638        0         \n",
              "476  46        22     97           1                  364        0         \n",
              "    Ejections FlagrantFouls GamesStarted\n",
              "1   0         0             29          \n",
              "2   0         0              0          \n",
              "3   0         0             80          \n",
              "4   0         0             57          \n",
              "5   0         0             17          \n",
              "6   0         0              5          \n",
              "7   0         0             74          \n",
              "8   0         0              0          \n",
              "9   0         0             28          \n",
              "10  0         0             56          \n",
              "11  0         0             82          \n",
              "12  0         0              0          \n",
              "13  0         0             15          \n",
              "14  0         0              0          \n",
              "15  0         0             15          \n",
              "16  0         0              9          \n",
              "17  0         0             11          \n",
              "18  0         0              7          \n",
              "19  0         0             79          \n",
              "20  0         0              0          \n",
              "21  0         0             72          \n",
              "22  0         0              0          \n",
              "23  0         0              0          \n",
              "24  0         0             81          \n",
              "25  0         0              5          \n",
              "26  0         0             16          \n",
              "27  0         0             64          \n",
              "28  0         0              0          \n",
              "29  0         0              0          \n",
              "30  0         0             13          \n",
              "⋮   ⋮         ⋮             ⋮           \n",
              "447 0         0             77          \n",
              "448 0         0              4          \n",
              "449 0         0              2          \n",
              "450 0         0              4          \n",
              "451 0         0              0          \n",
              "452 0         0             19          \n",
              "453 0         0             80          \n",
              "454 0         0             43          \n",
              "455 0         0              0          \n",
              "456 0         0             81          \n",
              "457 0         0              0          \n",
              "458 0         0              0          \n",
              "459 0         0             63          \n",
              "460 0         0              9          \n",
              "461 0         0              0          \n",
              "462 0         0             35          \n",
              "463 0         0             81          \n",
              "464 0         0             14          \n",
              "465 0         0              8          \n",
              "466 0         0             10          \n",
              "467 0         0              0          \n",
              "468 0         0              2          \n",
              "469 0         0              1          \n",
              "470 0         0              3          \n",
              "471 0         0              0          \n",
              "472 0         0              0          \n",
              "473 0         0              2          \n",
              "474 0         0             73          \n",
              "475 0         0             60          \n",
              "476 0         0              3          "
            ],
            "text/latex": "A data.frame: 476 × 25\n\\begin{tabular}{r|lllllllllllllllllllll}\n  & League & Name & Team & Position & GamesPlayed & TotalMinutesPlayed & FieldGoalsMade & FieldGoalsAttempted & ThreesMade & ThreesAttempted & ⋯ & Steals & Turnovers & Blocks & PersonalFouls & Disqualifications & TotalPoints & Technicals & Ejections & FlagrantFouls & GamesStarted\\\\\n  & <fct> & <chr> & <fct> & <fct> & <int> & <int> & <int> & <int> & <int> & <int> & ⋯ & <int> & <int> & <int> & <int> & <int> & <int> & <int> & <int> & <int> & <int>\\\\\n\\hline\n\t1 & NBA & Quincy Acy       & SAC & SF & 59 &  877 & 119 &  214 &  19 &  49 & ⋯ &  29 &  27 &  24 & 103 & 0 &  307 & 3 & 0 & 0 & 29\\\\\n\t2 & NBA & Jordan Adams     & MEM & SG &  2 &   15 &   2 &    6 &   0 &   1 & ⋯ &   3 &   2 &   0 &   2 & 0 &    7 & 0 & 0 & 0 &  0\\\\\n\t3 & NBA & Steven Adams     & OKL & C  & 80 & 2019 & 261 &  426 &   0 &   0 & ⋯ &  42 &  84 &  89 & 223 & 2 &  636 & 2 & 0 & 0 & 80\\\\\n\t4 & NBA & Arron Afflalo    & NYK & SG & 71 & 2359 & 354 &  799 &  91 & 238 & ⋯ &  25 &  82 &  10 & 142 & 1 &  909 & 1 & 0 & 0 & 57\\\\\n\t5 & NBA & Alexis Ajinca    & NOR & C  & 59 &  863 & 150 &  314 &   0 &   1 & ⋯ &  19 &  54 &  36 & 134 & 0 &  352 & 2 & 0 & 0 & 17\\\\\n\t6 & NBA & Cole Aldrich     & LAC & C  & 60 &  802 & 134 &  225 &   0 &   0 & ⋯ &  47 &  64 &  68 & 139 & 1 &  328 & 0 & 0 & 0 &  5\\\\\n\t7 & NBA & Lamarcu Aldridge & SAN & PF & 74 & 2260 & 536 & 1045 &   0 &  16 & ⋯ &  38 &  99 &  81 & 151 & 0 & 1331 & 0 & 0 & 0 & 74\\\\\n\t8 & NBA & Cliff Alexander  & POR & PF &  9 &   37 &   5 &   10 &   0 &   0 & ⋯ &   1 &   1 &   2 &   1 & 0 &   10 & 0 & 0 & 0 &  0\\\\\n\t9 & NBA & Lavoy Allen      & IND & PF & 79 & 1601 & 191 &  370 &   0 &   0 & ⋯ &  26 &  69 &  42 & 147 & 1 &  428 & 0 & 0 & 0 & 28\\\\\n\t10 & NBA & Tony Allen       & MEM & SG & 64 & 1622 & 215 &  469 &  15 &  42 & ⋯ & 109 &  78 &  18 & 175 & 1 &  535 & 1 & 0 & 0 & 56\\\\\n\t11 & NBA & Al-farouq Aminu  & POR & SF & 82 & 2342 & 299 &  719 & 126 & 349 & ⋯ &  72 & 120 &  53 & 171 & 0 &  839 & 3 & 0 & 0 & 82\\\\\n\t12 & NBA & Lou Amundson     & NYK & PF & 29 &  199 &  19 &   52 &   0 &   0 & ⋯ &   6 &  15 &   7 &  44 & 1 &   52 & 1 & 0 & 0 &  0\\\\\n\t13 & NBA & Chris Andersen   & MEM & PF & 27 &  404 &  38 &   72 &   4 &  14 & ⋯ &  15 &   9 &  13 &  29 & 0 &  105 & 0 & 0 & 0 & 15\\\\\n\t14 & NBA & Alan Anderson    & WAS & SG & 13 &  193 &  21 &   59 &  12 &  37 & ⋯ &   4 &   2 &   1 &  25 & 0 &   65 & 0 & 0 & 0 &  0\\\\\n\t15 & NBA & James Anderson   & SAC & SG & 51 &  721 &  67 &  178 &  23 &  86 & ⋯ &  21 &  42 &  14 &  54 & 0 &  179 & 0 & 0 & 0 & 15\\\\\n\t16 & NBA & Justin Anderson  & DAL & SG & 55 &  644 &  71 &  176 &  22 &  83 & ⋯ &  19 &  24 &  25 &  45 & 0 &  208 & 0 & 0 & 0 &  9\\\\\n\t17 & NBA & Kyle Anderson    & SAN & SF & 78 & 1247 & 138 &  296 &  12 &  37 & ⋯ &  60 &  59 &  29 &  97 & 0 &  350 & 0 & 0 & 0 & 11\\\\\n\t18 & NBA & Ryan Anderson    & NOR & PF & 66 & 2011 & 397 &  928 & 131 & 357 & ⋯ &  38 &  90 &  25 & 109 & 0 & 1124 & 3 & 0 & 0 &  7\\\\\n\t19 & NBA & Gi Antetokounmpo & MIL & SF & 80 & 2825 & 513 & 1012 &  28 & 110 & ⋯ &  94 & 208 & 113 & 258 & 7 & 1350 & 1 & 0 & 0 & 79\\\\\n\t20 & NBA & Th Antetokounmpo & NYK & SF &  3 &    7 &   3 &    4 &   0 &   1 & ⋯ &   0 &   0 &   0 &   2 & 0 &    6 & 0 & 0 & 0 &  0\\\\\n\t21 & NBA & Carmelo Anthony  & NYK & SF & 72 & 2529 & 567 & 1307 & 105 & 310 & ⋯ &  62 & 176 &  38 & 180 & 1 & 1573 & 4 & 0 & 0 & 72\\\\\n\t22 & NBA & Joel Anthony     & DET & C  & 19 &   95 &   6 &   10 &   0 &   0 & ⋯ &   2 &   2 &  12 &  15 & 0 &   18 & 0 & 0 & 0 &  0\\\\\n\t23 & NBA & Keith Appling    & ORL & PG &  5 &   27 &   2 &    8 &   0 &   3 & ⋯ &   1 &   3 &   0 &   5 & 0 &    6 & 0 & 0 & 0 &  0\\\\\n\t24 & NBA & Trevor Ariza     & HOU & SF & 81 & 2860 & 357 &  858 & 185 & 497 & ⋯ & 161 & 113 &  26 & 177 & 0 & 1025 & 2 & 0 & 0 & 81\\\\\n\t25 & NBA & Ron Artest       & LAL & SF & 35 &  588 &  55 &  177 &  26 &  84 & ⋯ &  22 &  15 &  11 &  67 & 1 &  176 & 1 & 0 & 0 &  5\\\\\n\t26 & NBA & Darrell Arthur   & DEN & PF & 70 & 1517 & 221 &  489 &  45 & 117 & ⋯ &  53 &  66 &  48 & 185 & 1 &  527 & 2 & 0 & 0 & 16\\\\\n\t27 & NBA & Omer Asik        & NOR & C  & 68 & 1181 & 104 &  196 &   0 &   0 & ⋯ &  21 &  60 &  23 & 124 & 0 &  269 & 0 & 0 & 0 & 64\\\\\n\t28 & NBA & D.j. Augustin    & DEN & PG & 62 & 1182 & 148 &  350 &  68 & 169 & ⋯ &  38 &  84 &   4 &  85 & 0 &  467 & 0 & 0 & 0 &  0\\\\\n\t29 & NBA & Jeff Ayres       & LAC & PF & 16 &   95 &  10 &   21 &   0 &   1 & ⋯ &   0 &   5 &   0 &  16 & 0 &   24 & 0 & 0 & 0 &  0\\\\\n\t30 & NBA & Luke Babbitt     & NOR & SF & 47 &  847 & 122 &  289 &  44 & 109 & ⋯ &  11 &  23 &   7 &  90 & 0 &  327 & 1 & 0 & 0 & 13\\\\\n\t⋮ & ⋮ & ⋮ & ⋮ & ⋮ & ⋮ & ⋮ & ⋮ & ⋮ & ⋮ & ⋮ & ⋱ & ⋮ & ⋮ & ⋮ & ⋮ & ⋮ & ⋮ & ⋮ & ⋮ & ⋮ & ⋮\\\\\n\t447 & NBA & John Wall        & WAS & PG & 77 & 2783 & 572 & 1349 & 115 & 327 & ⋯ & 145 & 318 &  59 & 159 & 0 & 1531 & 7 & 0 & 0 & 77\\\\\n\t448 & NBA & T.j. Warren      & PHO & SF & 47 & 1065 & 221 &  441 &  28 &  70 & ⋯ &  37 &  32 &  16 &  94 & 0 &  515 & 0 & 0 & 0 &  4\\\\\n\t449 & NBA & C.j. Watson      & ORL & PG & 33 &  655 &  47 &  137 &  14 &  48 & ⋯ &  19 &  25 &   5 &  49 & 0 &  142 & 0 & 0 & 0 &  2\\\\\n\t450 & NBA & Briante Weber    & MIA & PG &  7 &  170 &  14 &   39 &   0 &   5 & ⋯ &   9 &   9 &   3 &  12 & 0 &   31 & 0 & 0 & 0 &  4\\\\\n\t451 & NBA & Sonny Weems      & PHI & SG & 43 &  501 &  42 &  111 &  15 &  42 & ⋯ &  10 &  41 &   1 &  47 & 0 &  107 & 0 & 0 & 0 &  0\\\\\n\t452 & NBA & David West       & SAN & PF & 78 & 1408 & 244 &  448 &   3 &   7 & ⋯ &  44 &  67 &  55 & 142 & 1 &  554 & 2 & 0 & 0 & 19\\\\\n\t453 & NBA & Russel Westbrook & OKL & PG & 80 & 2749 & 656 & 1444 & 101 & 341 & ⋯ & 163 & 342 &  20 & 200 & 2 & 1878 & 6 & 0 & 0 & 80\\\\\n\t454 & NBA & Hassan Whiteside & MIA & C  & 73 & 2122 & 412 &  681 &   0 &   0 & ⋯ &  44 & 137 & 269 & 201 & 2 & 1038 & 2 & 0 & 0 & 43\\\\\n\t455 & NBA & Shay Whittington & IND & PF &  7 &   41 &   5 &   11 &   0 &   2 & ⋯ &   1 &   5 &   1 &   7 & 0 &   11 & 0 & 0 & 0 &  0\\\\\n\t456 & NBA & Andrew Wiggins   & MIN & SF & 81 & 2844 & 594 & 1294 &  57 & 190 & ⋯ &  78 & 182 &  46 & 165 & 1 & 1675 & 1 & 0 & 0 & 81\\\\\n\t457 & NBA & C.j. Wilcox      & LAC & SG & 23 &  168 &  26 &   66 &   9 &  23 & ⋯ &  10 &   2 &   2 &  15 & 0 &   70 & 0 & 0 & 0 &  0\\\\\n\t458 & NBA & Alan Williams    & PHO & C  & 10 &   67 &  10 &   24 &   0 &   0 & ⋯ &   4 &   6 &   5 &  15 & 0 &   29 & 0 & 0 & 0 &  0\\\\\n\t459 & NBA & Deron Williams   & DAL & PG & 65 & 2107 & 321 &  775 &  97 & 282 & ⋯ &  61 & 150 &  14 & 155 & 0 &  918 & 0 & 0 & 0 & 63\\\\\n\t460 & NBA & Derrick Williams & NYK & PF & 80 & 1442 & 254 &  565 &  44 & 150 & ⋯ &  30 &  61 &   9 &  69 & 0 &  746 & 0 & 0 & 0 &  9\\\\\n\t461 & NBA & Elliot Williams  & MEM & SG &  5 &   46 &   2 &   10 &   1 &   4 & ⋯ &   1 &   1 &   0 &   2 & 0 &    8 & 0 & 0 & 0 &  0\\\\\n\t462 & NBA & Louis Williams   & LAL & SG & 67 & 1911 & 283 &  695 & 110 & 321 & ⋯ &  62 & 107 &  19 & 107 & 1 & 1028 & 1 & 0 & 0 & 35\\\\\n\t463 & NBA & Marvin Williams  & CHA & PF & 81 & 2339 & 338 &  747 & 152 & 379 & ⋯ &  58 &  62 &  77 & 133 & 1 &  948 & 0 & 0 & 0 & 81\\\\\n\t464 & NBA & Mo Williams      & CLE & PG & 41 &  748 & 132 &  302 &  36 & 102 & ⋯ &  14 &  57 &   5 &  60 & 0 &  338 & 1 & 0 & 0 & 14\\\\\n\t465 & NBA & Justise Winslow  & MIA & SF & 78 & 2237 & 196 &  463 &  32 & 116 & ⋯ &  68 &  95 &  26 & 184 & 0 &  504 & 0 & 0 & 0 &  8\\\\\n\t466 & NBA & Jeff Withey      & UTA & C  & 51 &  653 &  87 &  161 &   0 &   2 & ⋯ &  21 &  28 &  53 &  74 & 1 &  217 & 0 & 0 & 0 & 10\\\\\n\t467 & NBA & Christian Wood   & PHI & PF & 17 &  146 &  22 &   53 &   4 &  11 & ⋯ &   5 &   2 &   7 &  11 & 0 &   61 & 0 & 0 & 0 &  0\\\\\n\t468 & NBA & Brandan Wright   & MEM & PF & 12 &  213 &  35 &   52 &   0 &   0 & ⋯ &   5 &  10 &  15 &  21 & 0 &   83 & 0 & 0 & 0 &  2\\\\\n\t469 & NBA & Delon Wright     & TOR & PG & 27 &  231 &  36 &   81 &   5 &  13 & ⋯ &   8 &  16 &   3 &   7 & 0 &  103 & 0 & 0 & 0 &  1\\\\\n\t470 & NBA & Tony Wroten      & PHI & SG &  8 &  145 &  22 &   65 &   3 &  17 & ⋯ &   3 &  29 &   0 &  11 & 0 &   67 & 0 & 0 & 0 &  3\\\\\n\t471 & NBA & James Young      & BOS & SG & 29 &  200 &  11 &   36 &   6 &  26 & ⋯ &   6 &   5 &   1 &  17 & 0 &   29 & 0 & 0 & 0 &  0\\\\\n\t472 & NBA & Joseph Young     & IND & PG & 41 &  384 &  62 &  170 &  10 &  46 & ⋯ &  15 &  33 &   0 &  30 & 0 &  154 & 0 & 0 & 0 &  0\\\\\n\t473 & NBA & Nick Young       & LAL & SF & 54 & 1036 & 126 &  372 &  77 & 237 & ⋯ &  23 &  30 &   7 &  50 & 0 &  392 & 1 & 0 & 0 &  2\\\\\n\t474 & NBA & Thaddeus Young   & BRO & SF & 73 & 2413 & 495 &  963 &   7 &  30 & ⋯ & 112 & 136 &  37 & 182 & 3 & 1102 & 1 & 0 & 0 & 73\\\\\n\t475 & NBA & Cody Zeller      & CHA & PF & 73 & 1773 & 231 &  437 &   1 &  10 & ⋯ &  57 &  68 &  63 & 204 & 4 &  638 & 0 & 0 & 0 & 60\\\\\n\t476 & NBA & Tyler Zeller     & BOS & C  & 60 &  714 & 138 &  290 &   0 &   0 & ⋯ &  10 &  46 &  22 &  97 & 1 &  364 & 0 & 0 & 0 &  3\\\\\n\\end{tabular}\n",
            "text/markdown": "\nA data.frame: 476 × 25\n\n| <!--/--> | League &lt;fct&gt; | Name &lt;chr&gt; | Team &lt;fct&gt; | Position &lt;fct&gt; | GamesPlayed &lt;int&gt; | TotalMinutesPlayed &lt;int&gt; | FieldGoalsMade &lt;int&gt; | FieldGoalsAttempted &lt;int&gt; | ThreesMade &lt;int&gt; | ThreesAttempted &lt;int&gt; | ⋯ ⋯ | Steals &lt;int&gt; | Turnovers &lt;int&gt; | Blocks &lt;int&gt; | PersonalFouls &lt;int&gt; | Disqualifications &lt;int&gt; | TotalPoints &lt;int&gt; | Technicals &lt;int&gt; | Ejections &lt;int&gt; | FlagrantFouls &lt;int&gt; | GamesStarted &lt;int&gt; |\n|---|---|---|---|---|---|---|---|---|---|---|---|---|---|---|---|---|---|---|---|---|---|\n| 1 | NBA | Quincy Acy       | SAC | SF | 59 |  877 | 119 |  214 |  19 |  49 | ⋯ |  29 |  27 |  24 | 103 | 0 |  307 | 3 | 0 | 0 | 29 |\n| 2 | NBA | Jordan Adams     | MEM | SG |  2 |   15 |   2 |    6 |   0 |   1 | ⋯ |   3 |   2 |   0 |   2 | 0 |    7 | 0 | 0 | 0 |  0 |\n| 3 | NBA | Steven Adams     | OKL | C  | 80 | 2019 | 261 |  426 |   0 |   0 | ⋯ |  42 |  84 |  89 | 223 | 2 |  636 | 2 | 0 | 0 | 80 |\n| 4 | NBA | Arron Afflalo    | NYK | SG | 71 | 2359 | 354 |  799 |  91 | 238 | ⋯ |  25 |  82 |  10 | 142 | 1 |  909 | 1 | 0 | 0 | 57 |\n| 5 | NBA | Alexis Ajinca    | NOR | C  | 59 |  863 | 150 |  314 |   0 |   1 | ⋯ |  19 |  54 |  36 | 134 | 0 |  352 | 2 | 0 | 0 | 17 |\n| 6 | NBA | Cole Aldrich     | LAC | C  | 60 |  802 | 134 |  225 |   0 |   0 | ⋯ |  47 |  64 |  68 | 139 | 1 |  328 | 0 | 0 | 0 |  5 |\n| 7 | NBA | Lamarcu Aldridge | SAN | PF | 74 | 2260 | 536 | 1045 |   0 |  16 | ⋯ |  38 |  99 |  81 | 151 | 0 | 1331 | 0 | 0 | 0 | 74 |\n| 8 | NBA | Cliff Alexander  | POR | PF |  9 |   37 |   5 |   10 |   0 |   0 | ⋯ |   1 |   1 |   2 |   1 | 0 |   10 | 0 | 0 | 0 |  0 |\n| 9 | NBA | Lavoy Allen      | IND | PF | 79 | 1601 | 191 |  370 |   0 |   0 | ⋯ |  26 |  69 |  42 | 147 | 1 |  428 | 0 | 0 | 0 | 28 |\n| 10 | NBA | Tony Allen       | MEM | SG | 64 | 1622 | 215 |  469 |  15 |  42 | ⋯ | 109 |  78 |  18 | 175 | 1 |  535 | 1 | 0 | 0 | 56 |\n| 11 | NBA | Al-farouq Aminu  | POR | SF | 82 | 2342 | 299 |  719 | 126 | 349 | ⋯ |  72 | 120 |  53 | 171 | 0 |  839 | 3 | 0 | 0 | 82 |\n| 12 | NBA | Lou Amundson     | NYK | PF | 29 |  199 |  19 |   52 |   0 |   0 | ⋯ |   6 |  15 |   7 |  44 | 1 |   52 | 1 | 0 | 0 |  0 |\n| 13 | NBA | Chris Andersen   | MEM | PF | 27 |  404 |  38 |   72 |   4 |  14 | ⋯ |  15 |   9 |  13 |  29 | 0 |  105 | 0 | 0 | 0 | 15 |\n| 14 | NBA | Alan Anderson    | WAS | SG | 13 |  193 |  21 |   59 |  12 |  37 | ⋯ |   4 |   2 |   1 |  25 | 0 |   65 | 0 | 0 | 0 |  0 |\n| 15 | NBA | James Anderson   | SAC | SG | 51 |  721 |  67 |  178 |  23 |  86 | ⋯ |  21 |  42 |  14 |  54 | 0 |  179 | 0 | 0 | 0 | 15 |\n| 16 | NBA | Justin Anderson  | DAL | SG | 55 |  644 |  71 |  176 |  22 |  83 | ⋯ |  19 |  24 |  25 |  45 | 0 |  208 | 0 | 0 | 0 |  9 |\n| 17 | NBA | Kyle Anderson    | SAN | SF | 78 | 1247 | 138 |  296 |  12 |  37 | ⋯ |  60 |  59 |  29 |  97 | 0 |  350 | 0 | 0 | 0 | 11 |\n| 18 | NBA | Ryan Anderson    | NOR | PF | 66 | 2011 | 397 |  928 | 131 | 357 | ⋯ |  38 |  90 |  25 | 109 | 0 | 1124 | 3 | 0 | 0 |  7 |\n| 19 | NBA | Gi Antetokounmpo | MIL | SF | 80 | 2825 | 513 | 1012 |  28 | 110 | ⋯ |  94 | 208 | 113 | 258 | 7 | 1350 | 1 | 0 | 0 | 79 |\n| 20 | NBA | Th Antetokounmpo | NYK | SF |  3 |    7 |   3 |    4 |   0 |   1 | ⋯ |   0 |   0 |   0 |   2 | 0 |    6 | 0 | 0 | 0 |  0 |\n| 21 | NBA | Carmelo Anthony  | NYK | SF | 72 | 2529 | 567 | 1307 | 105 | 310 | ⋯ |  62 | 176 |  38 | 180 | 1 | 1573 | 4 | 0 | 0 | 72 |\n| 22 | NBA | Joel Anthony     | DET | C  | 19 |   95 |   6 |   10 |   0 |   0 | ⋯ |   2 |   2 |  12 |  15 | 0 |   18 | 0 | 0 | 0 |  0 |\n| 23 | NBA | Keith Appling    | ORL | PG |  5 |   27 |   2 |    8 |   0 |   3 | ⋯ |   1 |   3 |   0 |   5 | 0 |    6 | 0 | 0 | 0 |  0 |\n| 24 | NBA | Trevor Ariza     | HOU | SF | 81 | 2860 | 357 |  858 | 185 | 497 | ⋯ | 161 | 113 |  26 | 177 | 0 | 1025 | 2 | 0 | 0 | 81 |\n| 25 | NBA | Ron Artest       | LAL | SF | 35 |  588 |  55 |  177 |  26 |  84 | ⋯ |  22 |  15 |  11 |  67 | 1 |  176 | 1 | 0 | 0 |  5 |\n| 26 | NBA | Darrell Arthur   | DEN | PF | 70 | 1517 | 221 |  489 |  45 | 117 | ⋯ |  53 |  66 |  48 | 185 | 1 |  527 | 2 | 0 | 0 | 16 |\n| 27 | NBA | Omer Asik        | NOR | C  | 68 | 1181 | 104 |  196 |   0 |   0 | ⋯ |  21 |  60 |  23 | 124 | 0 |  269 | 0 | 0 | 0 | 64 |\n| 28 | NBA | D.j. Augustin    | DEN | PG | 62 | 1182 | 148 |  350 |  68 | 169 | ⋯ |  38 |  84 |   4 |  85 | 0 |  467 | 0 | 0 | 0 |  0 |\n| 29 | NBA | Jeff Ayres       | LAC | PF | 16 |   95 |  10 |   21 |   0 |   1 | ⋯ |   0 |   5 |   0 |  16 | 0 |   24 | 0 | 0 | 0 |  0 |\n| 30 | NBA | Luke Babbitt     | NOR | SF | 47 |  847 | 122 |  289 |  44 | 109 | ⋯ |  11 |  23 |   7 |  90 | 0 |  327 | 1 | 0 | 0 | 13 |\n| ⋮ | ⋮ | ⋮ | ⋮ | ⋮ | ⋮ | ⋮ | ⋮ | ⋮ | ⋮ | ⋮ | ⋱ | ⋮ | ⋮ | ⋮ | ⋮ | ⋮ | ⋮ | ⋮ | ⋮ | ⋮ | ⋮ |\n| 447 | NBA | John Wall        | WAS | PG | 77 | 2783 | 572 | 1349 | 115 | 327 | ⋯ | 145 | 318 |  59 | 159 | 0 | 1531 | 7 | 0 | 0 | 77 |\n| 448 | NBA | T.j. Warren      | PHO | SF | 47 | 1065 | 221 |  441 |  28 |  70 | ⋯ |  37 |  32 |  16 |  94 | 0 |  515 | 0 | 0 | 0 |  4 |\n| 449 | NBA | C.j. Watson      | ORL | PG | 33 |  655 |  47 |  137 |  14 |  48 | ⋯ |  19 |  25 |   5 |  49 | 0 |  142 | 0 | 0 | 0 |  2 |\n| 450 | NBA | Briante Weber    | MIA | PG |  7 |  170 |  14 |   39 |   0 |   5 | ⋯ |   9 |   9 |   3 |  12 | 0 |   31 | 0 | 0 | 0 |  4 |\n| 451 | NBA | Sonny Weems      | PHI | SG | 43 |  501 |  42 |  111 |  15 |  42 | ⋯ |  10 |  41 |   1 |  47 | 0 |  107 | 0 | 0 | 0 |  0 |\n| 452 | NBA | David West       | SAN | PF | 78 | 1408 | 244 |  448 |   3 |   7 | ⋯ |  44 |  67 |  55 | 142 | 1 |  554 | 2 | 0 | 0 | 19 |\n| 453 | NBA | Russel Westbrook | OKL | PG | 80 | 2749 | 656 | 1444 | 101 | 341 | ⋯ | 163 | 342 |  20 | 200 | 2 | 1878 | 6 | 0 | 0 | 80 |\n| 454 | NBA | Hassan Whiteside | MIA | C  | 73 | 2122 | 412 |  681 |   0 |   0 | ⋯ |  44 | 137 | 269 | 201 | 2 | 1038 | 2 | 0 | 0 | 43 |\n| 455 | NBA | Shay Whittington | IND | PF |  7 |   41 |   5 |   11 |   0 |   2 | ⋯ |   1 |   5 |   1 |   7 | 0 |   11 | 0 | 0 | 0 |  0 |\n| 456 | NBA | Andrew Wiggins   | MIN | SF | 81 | 2844 | 594 | 1294 |  57 | 190 | ⋯ |  78 | 182 |  46 | 165 | 1 | 1675 | 1 | 0 | 0 | 81 |\n| 457 | NBA | C.j. Wilcox      | LAC | SG | 23 |  168 |  26 |   66 |   9 |  23 | ⋯ |  10 |   2 |   2 |  15 | 0 |   70 | 0 | 0 | 0 |  0 |\n| 458 | NBA | Alan Williams    | PHO | C  | 10 |   67 |  10 |   24 |   0 |   0 | ⋯ |   4 |   6 |   5 |  15 | 0 |   29 | 0 | 0 | 0 |  0 |\n| 459 | NBA | Deron Williams   | DAL | PG | 65 | 2107 | 321 |  775 |  97 | 282 | ⋯ |  61 | 150 |  14 | 155 | 0 |  918 | 0 | 0 | 0 | 63 |\n| 460 | NBA | Derrick Williams | NYK | PF | 80 | 1442 | 254 |  565 |  44 | 150 | ⋯ |  30 |  61 |   9 |  69 | 0 |  746 | 0 | 0 | 0 |  9 |\n| 461 | NBA | Elliot Williams  | MEM | SG |  5 |   46 |   2 |   10 |   1 |   4 | ⋯ |   1 |   1 |   0 |   2 | 0 |    8 | 0 | 0 | 0 |  0 |\n| 462 | NBA | Louis Williams   | LAL | SG | 67 | 1911 | 283 |  695 | 110 | 321 | ⋯ |  62 | 107 |  19 | 107 | 1 | 1028 | 1 | 0 | 0 | 35 |\n| 463 | NBA | Marvin Williams  | CHA | PF | 81 | 2339 | 338 |  747 | 152 | 379 | ⋯ |  58 |  62 |  77 | 133 | 1 |  948 | 0 | 0 | 0 | 81 |\n| 464 | NBA | Mo Williams      | CLE | PG | 41 |  748 | 132 |  302 |  36 | 102 | ⋯ |  14 |  57 |   5 |  60 | 0 |  338 | 1 | 0 | 0 | 14 |\n| 465 | NBA | Justise Winslow  | MIA | SF | 78 | 2237 | 196 |  463 |  32 | 116 | ⋯ |  68 |  95 |  26 | 184 | 0 |  504 | 0 | 0 | 0 |  8 |\n| 466 | NBA | Jeff Withey      | UTA | C  | 51 |  653 |  87 |  161 |   0 |   2 | ⋯ |  21 |  28 |  53 |  74 | 1 |  217 | 0 | 0 | 0 | 10 |\n| 467 | NBA | Christian Wood   | PHI | PF | 17 |  146 |  22 |   53 |   4 |  11 | ⋯ |   5 |   2 |   7 |  11 | 0 |   61 | 0 | 0 | 0 |  0 |\n| 468 | NBA | Brandan Wright   | MEM | PF | 12 |  213 |  35 |   52 |   0 |   0 | ⋯ |   5 |  10 |  15 |  21 | 0 |   83 | 0 | 0 | 0 |  2 |\n| 469 | NBA | Delon Wright     | TOR | PG | 27 |  231 |  36 |   81 |   5 |  13 | ⋯ |   8 |  16 |   3 |   7 | 0 |  103 | 0 | 0 | 0 |  1 |\n| 470 | NBA | Tony Wroten      | PHI | SG |  8 |  145 |  22 |   65 |   3 |  17 | ⋯ |   3 |  29 |   0 |  11 | 0 |   67 | 0 | 0 | 0 |  3 |\n| 471 | NBA | James Young      | BOS | SG | 29 |  200 |  11 |   36 |   6 |  26 | ⋯ |   6 |   5 |   1 |  17 | 0 |   29 | 0 | 0 | 0 |  0 |\n| 472 | NBA | Joseph Young     | IND | PG | 41 |  384 |  62 |  170 |  10 |  46 | ⋯ |  15 |  33 |   0 |  30 | 0 |  154 | 0 | 0 | 0 |  0 |\n| 473 | NBA | Nick Young       | LAL | SF | 54 | 1036 | 126 |  372 |  77 | 237 | ⋯ |  23 |  30 |   7 |  50 | 0 |  392 | 1 | 0 | 0 |  2 |\n| 474 | NBA | Thaddeus Young   | BRO | SF | 73 | 2413 | 495 |  963 |   7 |  30 | ⋯ | 112 | 136 |  37 | 182 | 3 | 1102 | 1 | 0 | 0 | 73 |\n| 475 | NBA | Cody Zeller      | CHA | PF | 73 | 1773 | 231 |  437 |   1 |  10 | ⋯ |  57 |  68 |  63 | 204 | 4 |  638 | 0 | 0 | 0 | 60 |\n| 476 | NBA | Tyler Zeller     | BOS | C  | 60 |  714 | 138 |  290 |   0 |   0 | ⋯ |  10 |  46 |  22 |  97 | 1 |  364 | 0 | 0 | 0 |  3 |\n\n",
            "text/html": [
              "<table>\n",
              "<caption>A data.frame: 476 × 25</caption>\n",
              "<thead>\n",
              "\t<tr><th></th><th scope=col>League</th><th scope=col>Name</th><th scope=col>Team</th><th scope=col>Position</th><th scope=col>GamesPlayed</th><th scope=col>TotalMinutesPlayed</th><th scope=col>FieldGoalsMade</th><th scope=col>FieldGoalsAttempted</th><th scope=col>ThreesMade</th><th scope=col>ThreesAttempted</th><th scope=col>⋯</th><th scope=col>Steals</th><th scope=col>Turnovers</th><th scope=col>Blocks</th><th scope=col>PersonalFouls</th><th scope=col>Disqualifications</th><th scope=col>TotalPoints</th><th scope=col>Technicals</th><th scope=col>Ejections</th><th scope=col>FlagrantFouls</th><th scope=col>GamesStarted</th></tr>\n",
              "\t<tr><th></th><th scope=col>&lt;fct&gt;</th><th scope=col>&lt;chr&gt;</th><th scope=col>&lt;fct&gt;</th><th scope=col>&lt;fct&gt;</th><th scope=col>&lt;int&gt;</th><th scope=col>&lt;int&gt;</th><th scope=col>&lt;int&gt;</th><th scope=col>&lt;int&gt;</th><th scope=col>&lt;int&gt;</th><th scope=col>&lt;int&gt;</th><th scope=col>⋯</th><th scope=col>&lt;int&gt;</th><th scope=col>&lt;int&gt;</th><th scope=col>&lt;int&gt;</th><th scope=col>&lt;int&gt;</th><th scope=col>&lt;int&gt;</th><th scope=col>&lt;int&gt;</th><th scope=col>&lt;int&gt;</th><th scope=col>&lt;int&gt;</th><th scope=col>&lt;int&gt;</th><th scope=col>&lt;int&gt;</th></tr>\n",
              "</thead>\n",
              "<tbody>\n",
              "\t<tr><th scope=row>1</th><td>NBA</td><td>Quincy Acy      </td><td>SAC</td><td>SF</td><td>59</td><td> 877</td><td>119</td><td> 214</td><td> 19</td><td> 49</td><td>⋯</td><td> 29</td><td> 27</td><td> 24</td><td>103</td><td>0</td><td> 307</td><td>3</td><td>0</td><td>0</td><td>29</td></tr>\n",
              "\t<tr><th scope=row>2</th><td>NBA</td><td>Jordan Adams    </td><td>MEM</td><td>SG</td><td> 2</td><td>  15</td><td>  2</td><td>   6</td><td>  0</td><td>  1</td><td>⋯</td><td>  3</td><td>  2</td><td>  0</td><td>  2</td><td>0</td><td>   7</td><td>0</td><td>0</td><td>0</td><td> 0</td></tr>\n",
              "\t<tr><th scope=row>3</th><td>NBA</td><td>Steven Adams    </td><td>OKL</td><td>C </td><td>80</td><td>2019</td><td>261</td><td> 426</td><td>  0</td><td>  0</td><td>⋯</td><td> 42</td><td> 84</td><td> 89</td><td>223</td><td>2</td><td> 636</td><td>2</td><td>0</td><td>0</td><td>80</td></tr>\n",
              "\t<tr><th scope=row>4</th><td>NBA</td><td>Arron Afflalo   </td><td>NYK</td><td>SG</td><td>71</td><td>2359</td><td>354</td><td> 799</td><td> 91</td><td>238</td><td>⋯</td><td> 25</td><td> 82</td><td> 10</td><td>142</td><td>1</td><td> 909</td><td>1</td><td>0</td><td>0</td><td>57</td></tr>\n",
              "\t<tr><th scope=row>5</th><td>NBA</td><td>Alexis Ajinca   </td><td>NOR</td><td>C </td><td>59</td><td> 863</td><td>150</td><td> 314</td><td>  0</td><td>  1</td><td>⋯</td><td> 19</td><td> 54</td><td> 36</td><td>134</td><td>0</td><td> 352</td><td>2</td><td>0</td><td>0</td><td>17</td></tr>\n",
              "\t<tr><th scope=row>6</th><td>NBA</td><td>Cole Aldrich    </td><td>LAC</td><td>C </td><td>60</td><td> 802</td><td>134</td><td> 225</td><td>  0</td><td>  0</td><td>⋯</td><td> 47</td><td> 64</td><td> 68</td><td>139</td><td>1</td><td> 328</td><td>0</td><td>0</td><td>0</td><td> 5</td></tr>\n",
              "\t<tr><th scope=row>7</th><td>NBA</td><td>Lamarcu Aldridge</td><td>SAN</td><td>PF</td><td>74</td><td>2260</td><td>536</td><td>1045</td><td>  0</td><td> 16</td><td>⋯</td><td> 38</td><td> 99</td><td> 81</td><td>151</td><td>0</td><td>1331</td><td>0</td><td>0</td><td>0</td><td>74</td></tr>\n",
              "\t<tr><th scope=row>8</th><td>NBA</td><td>Cliff Alexander </td><td>POR</td><td>PF</td><td> 9</td><td>  37</td><td>  5</td><td>  10</td><td>  0</td><td>  0</td><td>⋯</td><td>  1</td><td>  1</td><td>  2</td><td>  1</td><td>0</td><td>  10</td><td>0</td><td>0</td><td>0</td><td> 0</td></tr>\n",
              "\t<tr><th scope=row>9</th><td>NBA</td><td>Lavoy Allen     </td><td>IND</td><td>PF</td><td>79</td><td>1601</td><td>191</td><td> 370</td><td>  0</td><td>  0</td><td>⋯</td><td> 26</td><td> 69</td><td> 42</td><td>147</td><td>1</td><td> 428</td><td>0</td><td>0</td><td>0</td><td>28</td></tr>\n",
              "\t<tr><th scope=row>10</th><td>NBA</td><td>Tony Allen      </td><td>MEM</td><td>SG</td><td>64</td><td>1622</td><td>215</td><td> 469</td><td> 15</td><td> 42</td><td>⋯</td><td>109</td><td> 78</td><td> 18</td><td>175</td><td>1</td><td> 535</td><td>1</td><td>0</td><td>0</td><td>56</td></tr>\n",
              "\t<tr><th scope=row>11</th><td>NBA</td><td>Al-farouq Aminu </td><td>POR</td><td>SF</td><td>82</td><td>2342</td><td>299</td><td> 719</td><td>126</td><td>349</td><td>⋯</td><td> 72</td><td>120</td><td> 53</td><td>171</td><td>0</td><td> 839</td><td>3</td><td>0</td><td>0</td><td>82</td></tr>\n",
              "\t<tr><th scope=row>12</th><td>NBA</td><td>Lou Amundson    </td><td>NYK</td><td>PF</td><td>29</td><td> 199</td><td> 19</td><td>  52</td><td>  0</td><td>  0</td><td>⋯</td><td>  6</td><td> 15</td><td>  7</td><td> 44</td><td>1</td><td>  52</td><td>1</td><td>0</td><td>0</td><td> 0</td></tr>\n",
              "\t<tr><th scope=row>13</th><td>NBA</td><td>Chris Andersen  </td><td>MEM</td><td>PF</td><td>27</td><td> 404</td><td> 38</td><td>  72</td><td>  4</td><td> 14</td><td>⋯</td><td> 15</td><td>  9</td><td> 13</td><td> 29</td><td>0</td><td> 105</td><td>0</td><td>0</td><td>0</td><td>15</td></tr>\n",
              "\t<tr><th scope=row>14</th><td>NBA</td><td>Alan Anderson   </td><td>WAS</td><td>SG</td><td>13</td><td> 193</td><td> 21</td><td>  59</td><td> 12</td><td> 37</td><td>⋯</td><td>  4</td><td>  2</td><td>  1</td><td> 25</td><td>0</td><td>  65</td><td>0</td><td>0</td><td>0</td><td> 0</td></tr>\n",
              "\t<tr><th scope=row>15</th><td>NBA</td><td>James Anderson  </td><td>SAC</td><td>SG</td><td>51</td><td> 721</td><td> 67</td><td> 178</td><td> 23</td><td> 86</td><td>⋯</td><td> 21</td><td> 42</td><td> 14</td><td> 54</td><td>0</td><td> 179</td><td>0</td><td>0</td><td>0</td><td>15</td></tr>\n",
              "\t<tr><th scope=row>16</th><td>NBA</td><td>Justin Anderson </td><td>DAL</td><td>SG</td><td>55</td><td> 644</td><td> 71</td><td> 176</td><td> 22</td><td> 83</td><td>⋯</td><td> 19</td><td> 24</td><td> 25</td><td> 45</td><td>0</td><td> 208</td><td>0</td><td>0</td><td>0</td><td> 9</td></tr>\n",
              "\t<tr><th scope=row>17</th><td>NBA</td><td>Kyle Anderson   </td><td>SAN</td><td>SF</td><td>78</td><td>1247</td><td>138</td><td> 296</td><td> 12</td><td> 37</td><td>⋯</td><td> 60</td><td> 59</td><td> 29</td><td> 97</td><td>0</td><td> 350</td><td>0</td><td>0</td><td>0</td><td>11</td></tr>\n",
              "\t<tr><th scope=row>18</th><td>NBA</td><td>Ryan Anderson   </td><td>NOR</td><td>PF</td><td>66</td><td>2011</td><td>397</td><td> 928</td><td>131</td><td>357</td><td>⋯</td><td> 38</td><td> 90</td><td> 25</td><td>109</td><td>0</td><td>1124</td><td>3</td><td>0</td><td>0</td><td> 7</td></tr>\n",
              "\t<tr><th scope=row>19</th><td>NBA</td><td>Gi Antetokounmpo</td><td>MIL</td><td>SF</td><td>80</td><td>2825</td><td>513</td><td>1012</td><td> 28</td><td>110</td><td>⋯</td><td> 94</td><td>208</td><td>113</td><td>258</td><td>7</td><td>1350</td><td>1</td><td>0</td><td>0</td><td>79</td></tr>\n",
              "\t<tr><th scope=row>20</th><td>NBA</td><td>Th Antetokounmpo</td><td>NYK</td><td>SF</td><td> 3</td><td>   7</td><td>  3</td><td>   4</td><td>  0</td><td>  1</td><td>⋯</td><td>  0</td><td>  0</td><td>  0</td><td>  2</td><td>0</td><td>   6</td><td>0</td><td>0</td><td>0</td><td> 0</td></tr>\n",
              "\t<tr><th scope=row>21</th><td>NBA</td><td>Carmelo Anthony </td><td>NYK</td><td>SF</td><td>72</td><td>2529</td><td>567</td><td>1307</td><td>105</td><td>310</td><td>⋯</td><td> 62</td><td>176</td><td> 38</td><td>180</td><td>1</td><td>1573</td><td>4</td><td>0</td><td>0</td><td>72</td></tr>\n",
              "\t<tr><th scope=row>22</th><td>NBA</td><td>Joel Anthony    </td><td>DET</td><td>C </td><td>19</td><td>  95</td><td>  6</td><td>  10</td><td>  0</td><td>  0</td><td>⋯</td><td>  2</td><td>  2</td><td> 12</td><td> 15</td><td>0</td><td>  18</td><td>0</td><td>0</td><td>0</td><td> 0</td></tr>\n",
              "\t<tr><th scope=row>23</th><td>NBA</td><td>Keith Appling   </td><td>ORL</td><td>PG</td><td> 5</td><td>  27</td><td>  2</td><td>   8</td><td>  0</td><td>  3</td><td>⋯</td><td>  1</td><td>  3</td><td>  0</td><td>  5</td><td>0</td><td>   6</td><td>0</td><td>0</td><td>0</td><td> 0</td></tr>\n",
              "\t<tr><th scope=row>24</th><td>NBA</td><td>Trevor Ariza    </td><td>HOU</td><td>SF</td><td>81</td><td>2860</td><td>357</td><td> 858</td><td>185</td><td>497</td><td>⋯</td><td>161</td><td>113</td><td> 26</td><td>177</td><td>0</td><td>1025</td><td>2</td><td>0</td><td>0</td><td>81</td></tr>\n",
              "\t<tr><th scope=row>25</th><td>NBA</td><td>Ron Artest      </td><td>LAL</td><td>SF</td><td>35</td><td> 588</td><td> 55</td><td> 177</td><td> 26</td><td> 84</td><td>⋯</td><td> 22</td><td> 15</td><td> 11</td><td> 67</td><td>1</td><td> 176</td><td>1</td><td>0</td><td>0</td><td> 5</td></tr>\n",
              "\t<tr><th scope=row>26</th><td>NBA</td><td>Darrell Arthur  </td><td>DEN</td><td>PF</td><td>70</td><td>1517</td><td>221</td><td> 489</td><td> 45</td><td>117</td><td>⋯</td><td> 53</td><td> 66</td><td> 48</td><td>185</td><td>1</td><td> 527</td><td>2</td><td>0</td><td>0</td><td>16</td></tr>\n",
              "\t<tr><th scope=row>27</th><td>NBA</td><td>Omer Asik       </td><td>NOR</td><td>C </td><td>68</td><td>1181</td><td>104</td><td> 196</td><td>  0</td><td>  0</td><td>⋯</td><td> 21</td><td> 60</td><td> 23</td><td>124</td><td>0</td><td> 269</td><td>0</td><td>0</td><td>0</td><td>64</td></tr>\n",
              "\t<tr><th scope=row>28</th><td>NBA</td><td>D.j. Augustin   </td><td>DEN</td><td>PG</td><td>62</td><td>1182</td><td>148</td><td> 350</td><td> 68</td><td>169</td><td>⋯</td><td> 38</td><td> 84</td><td>  4</td><td> 85</td><td>0</td><td> 467</td><td>0</td><td>0</td><td>0</td><td> 0</td></tr>\n",
              "\t<tr><th scope=row>29</th><td>NBA</td><td>Jeff Ayres      </td><td>LAC</td><td>PF</td><td>16</td><td>  95</td><td> 10</td><td>  21</td><td>  0</td><td>  1</td><td>⋯</td><td>  0</td><td>  5</td><td>  0</td><td> 16</td><td>0</td><td>  24</td><td>0</td><td>0</td><td>0</td><td> 0</td></tr>\n",
              "\t<tr><th scope=row>30</th><td>NBA</td><td>Luke Babbitt    </td><td>NOR</td><td>SF</td><td>47</td><td> 847</td><td>122</td><td> 289</td><td> 44</td><td>109</td><td>⋯</td><td> 11</td><td> 23</td><td>  7</td><td> 90</td><td>0</td><td> 327</td><td>1</td><td>0</td><td>0</td><td>13</td></tr>\n",
              "\t<tr><th scope=row>⋮</th><td>⋮</td><td>⋮</td><td>⋮</td><td>⋮</td><td>⋮</td><td>⋮</td><td>⋮</td><td>⋮</td><td>⋮</td><td>⋮</td><td>⋱</td><td>⋮</td><td>⋮</td><td>⋮</td><td>⋮</td><td>⋮</td><td>⋮</td><td>⋮</td><td>⋮</td><td>⋮</td><td>⋮</td></tr>\n",
              "\t<tr><th scope=row>447</th><td>NBA</td><td>John Wall       </td><td>WAS</td><td>PG</td><td>77</td><td>2783</td><td>572</td><td>1349</td><td>115</td><td>327</td><td>⋯</td><td>145</td><td>318</td><td> 59</td><td>159</td><td>0</td><td>1531</td><td>7</td><td>0</td><td>0</td><td>77</td></tr>\n",
              "\t<tr><th scope=row>448</th><td>NBA</td><td>T.j. Warren     </td><td>PHO</td><td>SF</td><td>47</td><td>1065</td><td>221</td><td> 441</td><td> 28</td><td> 70</td><td>⋯</td><td> 37</td><td> 32</td><td> 16</td><td> 94</td><td>0</td><td> 515</td><td>0</td><td>0</td><td>0</td><td> 4</td></tr>\n",
              "\t<tr><th scope=row>449</th><td>NBA</td><td>C.j. Watson     </td><td>ORL</td><td>PG</td><td>33</td><td> 655</td><td> 47</td><td> 137</td><td> 14</td><td> 48</td><td>⋯</td><td> 19</td><td> 25</td><td>  5</td><td> 49</td><td>0</td><td> 142</td><td>0</td><td>0</td><td>0</td><td> 2</td></tr>\n",
              "\t<tr><th scope=row>450</th><td>NBA</td><td>Briante Weber   </td><td>MIA</td><td>PG</td><td> 7</td><td> 170</td><td> 14</td><td>  39</td><td>  0</td><td>  5</td><td>⋯</td><td>  9</td><td>  9</td><td>  3</td><td> 12</td><td>0</td><td>  31</td><td>0</td><td>0</td><td>0</td><td> 4</td></tr>\n",
              "\t<tr><th scope=row>451</th><td>NBA</td><td>Sonny Weems     </td><td>PHI</td><td>SG</td><td>43</td><td> 501</td><td> 42</td><td> 111</td><td> 15</td><td> 42</td><td>⋯</td><td> 10</td><td> 41</td><td>  1</td><td> 47</td><td>0</td><td> 107</td><td>0</td><td>0</td><td>0</td><td> 0</td></tr>\n",
              "\t<tr><th scope=row>452</th><td>NBA</td><td>David West      </td><td>SAN</td><td>PF</td><td>78</td><td>1408</td><td>244</td><td> 448</td><td>  3</td><td>  7</td><td>⋯</td><td> 44</td><td> 67</td><td> 55</td><td>142</td><td>1</td><td> 554</td><td>2</td><td>0</td><td>0</td><td>19</td></tr>\n",
              "\t<tr><th scope=row>453</th><td>NBA</td><td>Russel Westbrook</td><td>OKL</td><td>PG</td><td>80</td><td>2749</td><td>656</td><td>1444</td><td>101</td><td>341</td><td>⋯</td><td>163</td><td>342</td><td> 20</td><td>200</td><td>2</td><td>1878</td><td>6</td><td>0</td><td>0</td><td>80</td></tr>\n",
              "\t<tr><th scope=row>454</th><td>NBA</td><td>Hassan Whiteside</td><td>MIA</td><td>C </td><td>73</td><td>2122</td><td>412</td><td> 681</td><td>  0</td><td>  0</td><td>⋯</td><td> 44</td><td>137</td><td>269</td><td>201</td><td>2</td><td>1038</td><td>2</td><td>0</td><td>0</td><td>43</td></tr>\n",
              "\t<tr><th scope=row>455</th><td>NBA</td><td>Shay Whittington</td><td>IND</td><td>PF</td><td> 7</td><td>  41</td><td>  5</td><td>  11</td><td>  0</td><td>  2</td><td>⋯</td><td>  1</td><td>  5</td><td>  1</td><td>  7</td><td>0</td><td>  11</td><td>0</td><td>0</td><td>0</td><td> 0</td></tr>\n",
              "\t<tr><th scope=row>456</th><td>NBA</td><td>Andrew Wiggins  </td><td>MIN</td><td>SF</td><td>81</td><td>2844</td><td>594</td><td>1294</td><td> 57</td><td>190</td><td>⋯</td><td> 78</td><td>182</td><td> 46</td><td>165</td><td>1</td><td>1675</td><td>1</td><td>0</td><td>0</td><td>81</td></tr>\n",
              "\t<tr><th scope=row>457</th><td>NBA</td><td>C.j. Wilcox     </td><td>LAC</td><td>SG</td><td>23</td><td> 168</td><td> 26</td><td>  66</td><td>  9</td><td> 23</td><td>⋯</td><td> 10</td><td>  2</td><td>  2</td><td> 15</td><td>0</td><td>  70</td><td>0</td><td>0</td><td>0</td><td> 0</td></tr>\n",
              "\t<tr><th scope=row>458</th><td>NBA</td><td>Alan Williams   </td><td>PHO</td><td>C </td><td>10</td><td>  67</td><td> 10</td><td>  24</td><td>  0</td><td>  0</td><td>⋯</td><td>  4</td><td>  6</td><td>  5</td><td> 15</td><td>0</td><td>  29</td><td>0</td><td>0</td><td>0</td><td> 0</td></tr>\n",
              "\t<tr><th scope=row>459</th><td>NBA</td><td>Deron Williams  </td><td>DAL</td><td>PG</td><td>65</td><td>2107</td><td>321</td><td> 775</td><td> 97</td><td>282</td><td>⋯</td><td> 61</td><td>150</td><td> 14</td><td>155</td><td>0</td><td> 918</td><td>0</td><td>0</td><td>0</td><td>63</td></tr>\n",
              "\t<tr><th scope=row>460</th><td>NBA</td><td>Derrick Williams</td><td>NYK</td><td>PF</td><td>80</td><td>1442</td><td>254</td><td> 565</td><td> 44</td><td>150</td><td>⋯</td><td> 30</td><td> 61</td><td>  9</td><td> 69</td><td>0</td><td> 746</td><td>0</td><td>0</td><td>0</td><td> 9</td></tr>\n",
              "\t<tr><th scope=row>461</th><td>NBA</td><td>Elliot Williams </td><td>MEM</td><td>SG</td><td> 5</td><td>  46</td><td>  2</td><td>  10</td><td>  1</td><td>  4</td><td>⋯</td><td>  1</td><td>  1</td><td>  0</td><td>  2</td><td>0</td><td>   8</td><td>0</td><td>0</td><td>0</td><td> 0</td></tr>\n",
              "\t<tr><th scope=row>462</th><td>NBA</td><td>Louis Williams  </td><td>LAL</td><td>SG</td><td>67</td><td>1911</td><td>283</td><td> 695</td><td>110</td><td>321</td><td>⋯</td><td> 62</td><td>107</td><td> 19</td><td>107</td><td>1</td><td>1028</td><td>1</td><td>0</td><td>0</td><td>35</td></tr>\n",
              "\t<tr><th scope=row>463</th><td>NBA</td><td>Marvin Williams </td><td>CHA</td><td>PF</td><td>81</td><td>2339</td><td>338</td><td> 747</td><td>152</td><td>379</td><td>⋯</td><td> 58</td><td> 62</td><td> 77</td><td>133</td><td>1</td><td> 948</td><td>0</td><td>0</td><td>0</td><td>81</td></tr>\n",
              "\t<tr><th scope=row>464</th><td>NBA</td><td>Mo Williams     </td><td>CLE</td><td>PG</td><td>41</td><td> 748</td><td>132</td><td> 302</td><td> 36</td><td>102</td><td>⋯</td><td> 14</td><td> 57</td><td>  5</td><td> 60</td><td>0</td><td> 338</td><td>1</td><td>0</td><td>0</td><td>14</td></tr>\n",
              "\t<tr><th scope=row>465</th><td>NBA</td><td>Justise Winslow </td><td>MIA</td><td>SF</td><td>78</td><td>2237</td><td>196</td><td> 463</td><td> 32</td><td>116</td><td>⋯</td><td> 68</td><td> 95</td><td> 26</td><td>184</td><td>0</td><td> 504</td><td>0</td><td>0</td><td>0</td><td> 8</td></tr>\n",
              "\t<tr><th scope=row>466</th><td>NBA</td><td>Jeff Withey     </td><td>UTA</td><td>C </td><td>51</td><td> 653</td><td> 87</td><td> 161</td><td>  0</td><td>  2</td><td>⋯</td><td> 21</td><td> 28</td><td> 53</td><td> 74</td><td>1</td><td> 217</td><td>0</td><td>0</td><td>0</td><td>10</td></tr>\n",
              "\t<tr><th scope=row>467</th><td>NBA</td><td>Christian Wood  </td><td>PHI</td><td>PF</td><td>17</td><td> 146</td><td> 22</td><td>  53</td><td>  4</td><td> 11</td><td>⋯</td><td>  5</td><td>  2</td><td>  7</td><td> 11</td><td>0</td><td>  61</td><td>0</td><td>0</td><td>0</td><td> 0</td></tr>\n",
              "\t<tr><th scope=row>468</th><td>NBA</td><td>Brandan Wright  </td><td>MEM</td><td>PF</td><td>12</td><td> 213</td><td> 35</td><td>  52</td><td>  0</td><td>  0</td><td>⋯</td><td>  5</td><td> 10</td><td> 15</td><td> 21</td><td>0</td><td>  83</td><td>0</td><td>0</td><td>0</td><td> 2</td></tr>\n",
              "\t<tr><th scope=row>469</th><td>NBA</td><td>Delon Wright    </td><td>TOR</td><td>PG</td><td>27</td><td> 231</td><td> 36</td><td>  81</td><td>  5</td><td> 13</td><td>⋯</td><td>  8</td><td> 16</td><td>  3</td><td>  7</td><td>0</td><td> 103</td><td>0</td><td>0</td><td>0</td><td> 1</td></tr>\n",
              "\t<tr><th scope=row>470</th><td>NBA</td><td>Tony Wroten     </td><td>PHI</td><td>SG</td><td> 8</td><td> 145</td><td> 22</td><td>  65</td><td>  3</td><td> 17</td><td>⋯</td><td>  3</td><td> 29</td><td>  0</td><td> 11</td><td>0</td><td>  67</td><td>0</td><td>0</td><td>0</td><td> 3</td></tr>\n",
              "\t<tr><th scope=row>471</th><td>NBA</td><td>James Young     </td><td>BOS</td><td>SG</td><td>29</td><td> 200</td><td> 11</td><td>  36</td><td>  6</td><td> 26</td><td>⋯</td><td>  6</td><td>  5</td><td>  1</td><td> 17</td><td>0</td><td>  29</td><td>0</td><td>0</td><td>0</td><td> 0</td></tr>\n",
              "\t<tr><th scope=row>472</th><td>NBA</td><td>Joseph Young    </td><td>IND</td><td>PG</td><td>41</td><td> 384</td><td> 62</td><td> 170</td><td> 10</td><td> 46</td><td>⋯</td><td> 15</td><td> 33</td><td>  0</td><td> 30</td><td>0</td><td> 154</td><td>0</td><td>0</td><td>0</td><td> 0</td></tr>\n",
              "\t<tr><th scope=row>473</th><td>NBA</td><td>Nick Young      </td><td>LAL</td><td>SF</td><td>54</td><td>1036</td><td>126</td><td> 372</td><td> 77</td><td>237</td><td>⋯</td><td> 23</td><td> 30</td><td>  7</td><td> 50</td><td>0</td><td> 392</td><td>1</td><td>0</td><td>0</td><td> 2</td></tr>\n",
              "\t<tr><th scope=row>474</th><td>NBA</td><td>Thaddeus Young  </td><td>BRO</td><td>SF</td><td>73</td><td>2413</td><td>495</td><td> 963</td><td>  7</td><td> 30</td><td>⋯</td><td>112</td><td>136</td><td> 37</td><td>182</td><td>3</td><td>1102</td><td>1</td><td>0</td><td>0</td><td>73</td></tr>\n",
              "\t<tr><th scope=row>475</th><td>NBA</td><td>Cody Zeller     </td><td>CHA</td><td>PF</td><td>73</td><td>1773</td><td>231</td><td> 437</td><td>  1</td><td> 10</td><td>⋯</td><td> 57</td><td> 68</td><td> 63</td><td>204</td><td>4</td><td> 638</td><td>0</td><td>0</td><td>0</td><td>60</td></tr>\n",
              "\t<tr><th scope=row>476</th><td>NBA</td><td>Tyler Zeller    </td><td>BOS</td><td>C </td><td>60</td><td> 714</td><td>138</td><td> 290</td><td>  0</td><td>  0</td><td>⋯</td><td> 10</td><td> 46</td><td> 22</td><td> 97</td><td>1</td><td> 364</td><td>0</td><td>0</td><td>0</td><td> 3</td></tr>\n",
              "</tbody>\n",
              "</table>\n"
            ]
          },
          "metadata": {
            "tags": []
          }
        }
      ]
    },
    {
      "cell_type": "code",
      "metadata": {
        "id": "u5irtZjqmZ47",
        "outputId": "002d0e66-6dd1-4f4c-d7ee-77e405077a24",
        "colab": {
          "base_uri": "https://localhost:8080/",
          "height": 1000
        }
      },
      "source": [
        "subset(NBA1516,TEAM=CLE)\n"
      ],
      "execution_count": 33,
      "outputs": [
        {
          "output_type": "display_data",
          "data": {
            "text/plain": [
              "    League Name             Team Position GamesPlayed TotalMinutesPlayed\n",
              "1   NBA    Quincy Acy       SAC  SF       59           877              \n",
              "2   NBA    Jordan Adams     MEM  SG        2            15              \n",
              "3   NBA    Steven Adams     OKL  C        80          2019              \n",
              "4   NBA    Arron Afflalo    NYK  SG       71          2359              \n",
              "5   NBA    Alexis Ajinca    NOR  C        59           863              \n",
              "6   NBA    Cole Aldrich     LAC  C        60           802              \n",
              "7   NBA    Lamarcu Aldridge SAN  PF       74          2260              \n",
              "8   NBA    Cliff Alexander  POR  PF        9            37              \n",
              "9   NBA    Lavoy Allen      IND  PF       79          1601              \n",
              "10  NBA    Tony Allen       MEM  SG       64          1622              \n",
              "11  NBA    Al-farouq Aminu  POR  SF       82          2342              \n",
              "12  NBA    Lou Amundson     NYK  PF       29           199              \n",
              "13  NBA    Chris Andersen   MEM  PF       27           404              \n",
              "14  NBA    Alan Anderson    WAS  SG       13           193              \n",
              "15  NBA    James Anderson   SAC  SG       51           721              \n",
              "16  NBA    Justin Anderson  DAL  SG       55           644              \n",
              "17  NBA    Kyle Anderson    SAN  SF       78          1247              \n",
              "18  NBA    Ryan Anderson    NOR  PF       66          2011              \n",
              "19  NBA    Gi Antetokounmpo MIL  SF       80          2825              \n",
              "20  NBA    Th Antetokounmpo NYK  SF        3             7              \n",
              "21  NBA    Carmelo Anthony  NYK  SF       72          2529              \n",
              "22  NBA    Joel Anthony     DET  C        19            95              \n",
              "23  NBA    Keith Appling    ORL  PG        5            27              \n",
              "24  NBA    Trevor Ariza     HOU  SF       81          2860              \n",
              "25  NBA    Ron Artest       LAL  SF       35           588              \n",
              "26  NBA    Darrell Arthur   DEN  PF       70          1517              \n",
              "27  NBA    Omer Asik        NOR  C        68          1181              \n",
              "28  NBA    D.j. Augustin    DEN  PG       62          1182              \n",
              "29  NBA    Jeff Ayres       LAC  PF       16            95              \n",
              "30  NBA    Luke Babbitt     NOR  SF       47           847              \n",
              "⋮   ⋮      ⋮                ⋮    ⋮        ⋮           ⋮                 \n",
              "447 NBA    John Wall        WAS  PG       77          2783              \n",
              "448 NBA    T.j. Warren      PHO  SF       47          1065              \n",
              "449 NBA    C.j. Watson      ORL  PG       33           655              \n",
              "450 NBA    Briante Weber    MIA  PG        7           170              \n",
              "451 NBA    Sonny Weems      PHI  SG       43           501              \n",
              "452 NBA    David West       SAN  PF       78          1408              \n",
              "453 NBA    Russel Westbrook OKL  PG       80          2749              \n",
              "454 NBA    Hassan Whiteside MIA  C        73          2122              \n",
              "455 NBA    Shay Whittington IND  PF        7            41              \n",
              "456 NBA    Andrew Wiggins   MIN  SF       81          2844              \n",
              "457 NBA    C.j. Wilcox      LAC  SG       23           168              \n",
              "458 NBA    Alan Williams    PHO  C        10            67              \n",
              "459 NBA    Deron Williams   DAL  PG       65          2107              \n",
              "460 NBA    Derrick Williams NYK  PF       80          1442              \n",
              "461 NBA    Elliot Williams  MEM  SG        5            46              \n",
              "462 NBA    Louis Williams   LAL  SG       67          1911              \n",
              "463 NBA    Marvin Williams  CHA  PF       81          2339              \n",
              "464 NBA    Mo Williams      CLE  PG       41           748              \n",
              "465 NBA    Justise Winslow  MIA  SF       78          2237              \n",
              "466 NBA    Jeff Withey      UTA  C        51           653              \n",
              "467 NBA    Christian Wood   PHI  PF       17           146              \n",
              "468 NBA    Brandan Wright   MEM  PF       12           213              \n",
              "469 NBA    Delon Wright     TOR  PG       27           231              \n",
              "470 NBA    Tony Wroten      PHI  SG        8           145              \n",
              "471 NBA    James Young      BOS  SG       29           200              \n",
              "472 NBA    Joseph Young     IND  PG       41           384              \n",
              "473 NBA    Nick Young       LAL  SF       54          1036              \n",
              "474 NBA    Thaddeus Young   BRO  SF       73          2413              \n",
              "475 NBA    Cody Zeller      CHA  PF       73          1773              \n",
              "476 NBA    Tyler Zeller     BOS  C        60           714              \n",
              "    FieldGoalsMade FieldGoalsAttempted ThreesMade ThreesAttempted ⋯ Steals\n",
              "1   119             214                 19         49             ⋯  29   \n",
              "2     2               6                  0          1             ⋯   3   \n",
              "3   261             426                  0          0             ⋯  42   \n",
              "4   354             799                 91        238             ⋯  25   \n",
              "5   150             314                  0          1             ⋯  19   \n",
              "6   134             225                  0          0             ⋯  47   \n",
              "7   536            1045                  0         16             ⋯  38   \n",
              "8     5              10                  0          0             ⋯   1   \n",
              "9   191             370                  0          0             ⋯  26   \n",
              "10  215             469                 15         42             ⋯ 109   \n",
              "11  299             719                126        349             ⋯  72   \n",
              "12   19              52                  0          0             ⋯   6   \n",
              "13   38              72                  4         14             ⋯  15   \n",
              "14   21              59                 12         37             ⋯   4   \n",
              "15   67             178                 23         86             ⋯  21   \n",
              "16   71             176                 22         83             ⋯  19   \n",
              "17  138             296                 12         37             ⋯  60   \n",
              "18  397             928                131        357             ⋯  38   \n",
              "19  513            1012                 28        110             ⋯  94   \n",
              "20    3               4                  0          1             ⋯   0   \n",
              "21  567            1307                105        310             ⋯  62   \n",
              "22    6              10                  0          0             ⋯   2   \n",
              "23    2               8                  0          3             ⋯   1   \n",
              "24  357             858                185        497             ⋯ 161   \n",
              "25   55             177                 26         84             ⋯  22   \n",
              "26  221             489                 45        117             ⋯  53   \n",
              "27  104             196                  0          0             ⋯  21   \n",
              "28  148             350                 68        169             ⋯  38   \n",
              "29   10              21                  0          1             ⋯   0   \n",
              "30  122             289                 44        109             ⋯  11   \n",
              "⋮   ⋮              ⋮                   ⋮          ⋮               ⋱ ⋮     \n",
              "447 572            1349                115        327             ⋯ 145   \n",
              "448 221             441                 28         70             ⋯  37   \n",
              "449  47             137                 14         48             ⋯  19   \n",
              "450  14              39                  0          5             ⋯   9   \n",
              "451  42             111                 15         42             ⋯  10   \n",
              "452 244             448                  3          7             ⋯  44   \n",
              "453 656            1444                101        341             ⋯ 163   \n",
              "454 412             681                  0          0             ⋯  44   \n",
              "455   5              11                  0          2             ⋯   1   \n",
              "456 594            1294                 57        190             ⋯  78   \n",
              "457  26              66                  9         23             ⋯  10   \n",
              "458  10              24                  0          0             ⋯   4   \n",
              "459 321             775                 97        282             ⋯  61   \n",
              "460 254             565                 44        150             ⋯  30   \n",
              "461   2              10                  1          4             ⋯   1   \n",
              "462 283             695                110        321             ⋯  62   \n",
              "463 338             747                152        379             ⋯  58   \n",
              "464 132             302                 36        102             ⋯  14   \n",
              "465 196             463                 32        116             ⋯  68   \n",
              "466  87             161                  0          2             ⋯  21   \n",
              "467  22              53                  4         11             ⋯   5   \n",
              "468  35              52                  0          0             ⋯   5   \n",
              "469  36              81                  5         13             ⋯   8   \n",
              "470  22              65                  3         17             ⋯   3   \n",
              "471  11              36                  6         26             ⋯   6   \n",
              "472  62             170                 10         46             ⋯  15   \n",
              "473 126             372                 77        237             ⋯  23   \n",
              "474 495             963                  7         30             ⋯ 112   \n",
              "475 231             437                  1         10             ⋯  57   \n",
              "476 138             290                  0          0             ⋯  10   \n",
              "    Turnovers Blocks PersonalFouls Disqualifications TotalPoints Technicals\n",
              "1    27        24    103           0                  307        3         \n",
              "2     2         0      2           0                    7        0         \n",
              "3    84        89    223           2                  636        2         \n",
              "4    82        10    142           1                  909        1         \n",
              "5    54        36    134           0                  352        2         \n",
              "6    64        68    139           1                  328        0         \n",
              "7    99        81    151           0                 1331        0         \n",
              "8     1         2      1           0                   10        0         \n",
              "9    69        42    147           1                  428        0         \n",
              "10   78        18    175           1                  535        1         \n",
              "11  120        53    171           0                  839        3         \n",
              "12   15         7     44           1                   52        1         \n",
              "13    9        13     29           0                  105        0         \n",
              "14    2         1     25           0                   65        0         \n",
              "15   42        14     54           0                  179        0         \n",
              "16   24        25     45           0                  208        0         \n",
              "17   59        29     97           0                  350        0         \n",
              "18   90        25    109           0                 1124        3         \n",
              "19  208       113    258           7                 1350        1         \n",
              "20    0         0      2           0                    6        0         \n",
              "21  176        38    180           1                 1573        4         \n",
              "22    2        12     15           0                   18        0         \n",
              "23    3         0      5           0                    6        0         \n",
              "24  113        26    177           0                 1025        2         \n",
              "25   15        11     67           1                  176        1         \n",
              "26   66        48    185           1                  527        2         \n",
              "27   60        23    124           0                  269        0         \n",
              "28   84         4     85           0                  467        0         \n",
              "29    5         0     16           0                   24        0         \n",
              "30   23         7     90           0                  327        1         \n",
              "⋮   ⋮         ⋮      ⋮             ⋮                 ⋮           ⋮         \n",
              "447 318        59    159           0                 1531        7         \n",
              "448  32        16     94           0                  515        0         \n",
              "449  25         5     49           0                  142        0         \n",
              "450   9         3     12           0                   31        0         \n",
              "451  41         1     47           0                  107        0         \n",
              "452  67        55    142           1                  554        2         \n",
              "453 342        20    200           2                 1878        6         \n",
              "454 137       269    201           2                 1038        2         \n",
              "455   5         1      7           0                   11        0         \n",
              "456 182        46    165           1                 1675        1         \n",
              "457   2         2     15           0                   70        0         \n",
              "458   6         5     15           0                   29        0         \n",
              "459 150        14    155           0                  918        0         \n",
              "460  61         9     69           0                  746        0         \n",
              "461   1         0      2           0                    8        0         \n",
              "462 107        19    107           1                 1028        1         \n",
              "463  62        77    133           1                  948        0         \n",
              "464  57         5     60           0                  338        1         \n",
              "465  95        26    184           0                  504        0         \n",
              "466  28        53     74           1                  217        0         \n",
              "467   2         7     11           0                   61        0         \n",
              "468  10        15     21           0                   83        0         \n",
              "469  16         3      7           0                  103        0         \n",
              "470  29         0     11           0                   67        0         \n",
              "471   5         1     17           0                   29        0         \n",
              "472  33         0     30           0                  154        0         \n",
              "473  30         7     50           0                  392        1         \n",
              "474 136        37    182           3                 1102        1         \n",
              "475  68        63    204           4                  638        0         \n",
              "476  46        22     97           1                  364        0         \n",
              "    Ejections FlagrantFouls GamesStarted\n",
              "1   0         0             29          \n",
              "2   0         0              0          \n",
              "3   0         0             80          \n",
              "4   0         0             57          \n",
              "5   0         0             17          \n",
              "6   0         0              5          \n",
              "7   0         0             74          \n",
              "8   0         0              0          \n",
              "9   0         0             28          \n",
              "10  0         0             56          \n",
              "11  0         0             82          \n",
              "12  0         0              0          \n",
              "13  0         0             15          \n",
              "14  0         0              0          \n",
              "15  0         0             15          \n",
              "16  0         0              9          \n",
              "17  0         0             11          \n",
              "18  0         0              7          \n",
              "19  0         0             79          \n",
              "20  0         0              0          \n",
              "21  0         0             72          \n",
              "22  0         0              0          \n",
              "23  0         0              0          \n",
              "24  0         0             81          \n",
              "25  0         0              5          \n",
              "26  0         0             16          \n",
              "27  0         0             64          \n",
              "28  0         0              0          \n",
              "29  0         0              0          \n",
              "30  0         0             13          \n",
              "⋮   ⋮         ⋮             ⋮           \n",
              "447 0         0             77          \n",
              "448 0         0              4          \n",
              "449 0         0              2          \n",
              "450 0         0              4          \n",
              "451 0         0              0          \n",
              "452 0         0             19          \n",
              "453 0         0             80          \n",
              "454 0         0             43          \n",
              "455 0         0              0          \n",
              "456 0         0             81          \n",
              "457 0         0              0          \n",
              "458 0         0              0          \n",
              "459 0         0             63          \n",
              "460 0         0              9          \n",
              "461 0         0              0          \n",
              "462 0         0             35          \n",
              "463 0         0             81          \n",
              "464 0         0             14          \n",
              "465 0         0              8          \n",
              "466 0         0             10          \n",
              "467 0         0              0          \n",
              "468 0         0              2          \n",
              "469 0         0              1          \n",
              "470 0         0              3          \n",
              "471 0         0              0          \n",
              "472 0         0              0          \n",
              "473 0         0              2          \n",
              "474 0         0             73          \n",
              "475 0         0             60          \n",
              "476 0         0              3          "
            ],
            "text/latex": "A data.frame: 476 × 25\n\\begin{tabular}{r|lllllllllllllllllllll}\n  & League & Name & Team & Position & GamesPlayed & TotalMinutesPlayed & FieldGoalsMade & FieldGoalsAttempted & ThreesMade & ThreesAttempted & ⋯ & Steals & Turnovers & Blocks & PersonalFouls & Disqualifications & TotalPoints & Technicals & Ejections & FlagrantFouls & GamesStarted\\\\\n  & <fct> & <chr> & <fct> & <fct> & <int> & <int> & <int> & <int> & <int> & <int> & ⋯ & <int> & <int> & <int> & <int> & <int> & <int> & <int> & <int> & <int> & <int>\\\\\n\\hline\n\t1 & NBA & Quincy Acy       & SAC & SF & 59 &  877 & 119 &  214 &  19 &  49 & ⋯ &  29 &  27 &  24 & 103 & 0 &  307 & 3 & 0 & 0 & 29\\\\\n\t2 & NBA & Jordan Adams     & MEM & SG &  2 &   15 &   2 &    6 &   0 &   1 & ⋯ &   3 &   2 &   0 &   2 & 0 &    7 & 0 & 0 & 0 &  0\\\\\n\t3 & NBA & Steven Adams     & OKL & C  & 80 & 2019 & 261 &  426 &   0 &   0 & ⋯ &  42 &  84 &  89 & 223 & 2 &  636 & 2 & 0 & 0 & 80\\\\\n\t4 & NBA & Arron Afflalo    & NYK & SG & 71 & 2359 & 354 &  799 &  91 & 238 & ⋯ &  25 &  82 &  10 & 142 & 1 &  909 & 1 & 0 & 0 & 57\\\\\n\t5 & NBA & Alexis Ajinca    & NOR & C  & 59 &  863 & 150 &  314 &   0 &   1 & ⋯ &  19 &  54 &  36 & 134 & 0 &  352 & 2 & 0 & 0 & 17\\\\\n\t6 & NBA & Cole Aldrich     & LAC & C  & 60 &  802 & 134 &  225 &   0 &   0 & ⋯ &  47 &  64 &  68 & 139 & 1 &  328 & 0 & 0 & 0 &  5\\\\\n\t7 & NBA & Lamarcu Aldridge & SAN & PF & 74 & 2260 & 536 & 1045 &   0 &  16 & ⋯ &  38 &  99 &  81 & 151 & 0 & 1331 & 0 & 0 & 0 & 74\\\\\n\t8 & NBA & Cliff Alexander  & POR & PF &  9 &   37 &   5 &   10 &   0 &   0 & ⋯ &   1 &   1 &   2 &   1 & 0 &   10 & 0 & 0 & 0 &  0\\\\\n\t9 & NBA & Lavoy Allen      & IND & PF & 79 & 1601 & 191 &  370 &   0 &   0 & ⋯ &  26 &  69 &  42 & 147 & 1 &  428 & 0 & 0 & 0 & 28\\\\\n\t10 & NBA & Tony Allen       & MEM & SG & 64 & 1622 & 215 &  469 &  15 &  42 & ⋯ & 109 &  78 &  18 & 175 & 1 &  535 & 1 & 0 & 0 & 56\\\\\n\t11 & NBA & Al-farouq Aminu  & POR & SF & 82 & 2342 & 299 &  719 & 126 & 349 & ⋯ &  72 & 120 &  53 & 171 & 0 &  839 & 3 & 0 & 0 & 82\\\\\n\t12 & NBA & Lou Amundson     & NYK & PF & 29 &  199 &  19 &   52 &   0 &   0 & ⋯ &   6 &  15 &   7 &  44 & 1 &   52 & 1 & 0 & 0 &  0\\\\\n\t13 & NBA & Chris Andersen   & MEM & PF & 27 &  404 &  38 &   72 &   4 &  14 & ⋯ &  15 &   9 &  13 &  29 & 0 &  105 & 0 & 0 & 0 & 15\\\\\n\t14 & NBA & Alan Anderson    & WAS & SG & 13 &  193 &  21 &   59 &  12 &  37 & ⋯ &   4 &   2 &   1 &  25 & 0 &   65 & 0 & 0 & 0 &  0\\\\\n\t15 & NBA & James Anderson   & SAC & SG & 51 &  721 &  67 &  178 &  23 &  86 & ⋯ &  21 &  42 &  14 &  54 & 0 &  179 & 0 & 0 & 0 & 15\\\\\n\t16 & NBA & Justin Anderson  & DAL & SG & 55 &  644 &  71 &  176 &  22 &  83 & ⋯ &  19 &  24 &  25 &  45 & 0 &  208 & 0 & 0 & 0 &  9\\\\\n\t17 & NBA & Kyle Anderson    & SAN & SF & 78 & 1247 & 138 &  296 &  12 &  37 & ⋯ &  60 &  59 &  29 &  97 & 0 &  350 & 0 & 0 & 0 & 11\\\\\n\t18 & NBA & Ryan Anderson    & NOR & PF & 66 & 2011 & 397 &  928 & 131 & 357 & ⋯ &  38 &  90 &  25 & 109 & 0 & 1124 & 3 & 0 & 0 &  7\\\\\n\t19 & NBA & Gi Antetokounmpo & MIL & SF & 80 & 2825 & 513 & 1012 &  28 & 110 & ⋯ &  94 & 208 & 113 & 258 & 7 & 1350 & 1 & 0 & 0 & 79\\\\\n\t20 & NBA & Th Antetokounmpo & NYK & SF &  3 &    7 &   3 &    4 &   0 &   1 & ⋯ &   0 &   0 &   0 &   2 & 0 &    6 & 0 & 0 & 0 &  0\\\\\n\t21 & NBA & Carmelo Anthony  & NYK & SF & 72 & 2529 & 567 & 1307 & 105 & 310 & ⋯ &  62 & 176 &  38 & 180 & 1 & 1573 & 4 & 0 & 0 & 72\\\\\n\t22 & NBA & Joel Anthony     & DET & C  & 19 &   95 &   6 &   10 &   0 &   0 & ⋯ &   2 &   2 &  12 &  15 & 0 &   18 & 0 & 0 & 0 &  0\\\\\n\t23 & NBA & Keith Appling    & ORL & PG &  5 &   27 &   2 &    8 &   0 &   3 & ⋯ &   1 &   3 &   0 &   5 & 0 &    6 & 0 & 0 & 0 &  0\\\\\n\t24 & NBA & Trevor Ariza     & HOU & SF & 81 & 2860 & 357 &  858 & 185 & 497 & ⋯ & 161 & 113 &  26 & 177 & 0 & 1025 & 2 & 0 & 0 & 81\\\\\n\t25 & NBA & Ron Artest       & LAL & SF & 35 &  588 &  55 &  177 &  26 &  84 & ⋯ &  22 &  15 &  11 &  67 & 1 &  176 & 1 & 0 & 0 &  5\\\\\n\t26 & NBA & Darrell Arthur   & DEN & PF & 70 & 1517 & 221 &  489 &  45 & 117 & ⋯ &  53 &  66 &  48 & 185 & 1 &  527 & 2 & 0 & 0 & 16\\\\\n\t27 & NBA & Omer Asik        & NOR & C  & 68 & 1181 & 104 &  196 &   0 &   0 & ⋯ &  21 &  60 &  23 & 124 & 0 &  269 & 0 & 0 & 0 & 64\\\\\n\t28 & NBA & D.j. Augustin    & DEN & PG & 62 & 1182 & 148 &  350 &  68 & 169 & ⋯ &  38 &  84 &   4 &  85 & 0 &  467 & 0 & 0 & 0 &  0\\\\\n\t29 & NBA & Jeff Ayres       & LAC & PF & 16 &   95 &  10 &   21 &   0 &   1 & ⋯ &   0 &   5 &   0 &  16 & 0 &   24 & 0 & 0 & 0 &  0\\\\\n\t30 & NBA & Luke Babbitt     & NOR & SF & 47 &  847 & 122 &  289 &  44 & 109 & ⋯ &  11 &  23 &   7 &  90 & 0 &  327 & 1 & 0 & 0 & 13\\\\\n\t⋮ & ⋮ & ⋮ & ⋮ & ⋮ & ⋮ & ⋮ & ⋮ & ⋮ & ⋮ & ⋮ & ⋱ & ⋮ & ⋮ & ⋮ & ⋮ & ⋮ & ⋮ & ⋮ & ⋮ & ⋮ & ⋮\\\\\n\t447 & NBA & John Wall        & WAS & PG & 77 & 2783 & 572 & 1349 & 115 & 327 & ⋯ & 145 & 318 &  59 & 159 & 0 & 1531 & 7 & 0 & 0 & 77\\\\\n\t448 & NBA & T.j. Warren      & PHO & SF & 47 & 1065 & 221 &  441 &  28 &  70 & ⋯ &  37 &  32 &  16 &  94 & 0 &  515 & 0 & 0 & 0 &  4\\\\\n\t449 & NBA & C.j. Watson      & ORL & PG & 33 &  655 &  47 &  137 &  14 &  48 & ⋯ &  19 &  25 &   5 &  49 & 0 &  142 & 0 & 0 & 0 &  2\\\\\n\t450 & NBA & Briante Weber    & MIA & PG &  7 &  170 &  14 &   39 &   0 &   5 & ⋯ &   9 &   9 &   3 &  12 & 0 &   31 & 0 & 0 & 0 &  4\\\\\n\t451 & NBA & Sonny Weems      & PHI & SG & 43 &  501 &  42 &  111 &  15 &  42 & ⋯ &  10 &  41 &   1 &  47 & 0 &  107 & 0 & 0 & 0 &  0\\\\\n\t452 & NBA & David West       & SAN & PF & 78 & 1408 & 244 &  448 &   3 &   7 & ⋯ &  44 &  67 &  55 & 142 & 1 &  554 & 2 & 0 & 0 & 19\\\\\n\t453 & NBA & Russel Westbrook & OKL & PG & 80 & 2749 & 656 & 1444 & 101 & 341 & ⋯ & 163 & 342 &  20 & 200 & 2 & 1878 & 6 & 0 & 0 & 80\\\\\n\t454 & NBA & Hassan Whiteside & MIA & C  & 73 & 2122 & 412 &  681 &   0 &   0 & ⋯ &  44 & 137 & 269 & 201 & 2 & 1038 & 2 & 0 & 0 & 43\\\\\n\t455 & NBA & Shay Whittington & IND & PF &  7 &   41 &   5 &   11 &   0 &   2 & ⋯ &   1 &   5 &   1 &   7 & 0 &   11 & 0 & 0 & 0 &  0\\\\\n\t456 & NBA & Andrew Wiggins   & MIN & SF & 81 & 2844 & 594 & 1294 &  57 & 190 & ⋯ &  78 & 182 &  46 & 165 & 1 & 1675 & 1 & 0 & 0 & 81\\\\\n\t457 & NBA & C.j. Wilcox      & LAC & SG & 23 &  168 &  26 &   66 &   9 &  23 & ⋯ &  10 &   2 &   2 &  15 & 0 &   70 & 0 & 0 & 0 &  0\\\\\n\t458 & NBA & Alan Williams    & PHO & C  & 10 &   67 &  10 &   24 &   0 &   0 & ⋯ &   4 &   6 &   5 &  15 & 0 &   29 & 0 & 0 & 0 &  0\\\\\n\t459 & NBA & Deron Williams   & DAL & PG & 65 & 2107 & 321 &  775 &  97 & 282 & ⋯ &  61 & 150 &  14 & 155 & 0 &  918 & 0 & 0 & 0 & 63\\\\\n\t460 & NBA & Derrick Williams & NYK & PF & 80 & 1442 & 254 &  565 &  44 & 150 & ⋯ &  30 &  61 &   9 &  69 & 0 &  746 & 0 & 0 & 0 &  9\\\\\n\t461 & NBA & Elliot Williams  & MEM & SG &  5 &   46 &   2 &   10 &   1 &   4 & ⋯ &   1 &   1 &   0 &   2 & 0 &    8 & 0 & 0 & 0 &  0\\\\\n\t462 & NBA & Louis Williams   & LAL & SG & 67 & 1911 & 283 &  695 & 110 & 321 & ⋯ &  62 & 107 &  19 & 107 & 1 & 1028 & 1 & 0 & 0 & 35\\\\\n\t463 & NBA & Marvin Williams  & CHA & PF & 81 & 2339 & 338 &  747 & 152 & 379 & ⋯ &  58 &  62 &  77 & 133 & 1 &  948 & 0 & 0 & 0 & 81\\\\\n\t464 & NBA & Mo Williams      & CLE & PG & 41 &  748 & 132 &  302 &  36 & 102 & ⋯ &  14 &  57 &   5 &  60 & 0 &  338 & 1 & 0 & 0 & 14\\\\\n\t465 & NBA & Justise Winslow  & MIA & SF & 78 & 2237 & 196 &  463 &  32 & 116 & ⋯ &  68 &  95 &  26 & 184 & 0 &  504 & 0 & 0 & 0 &  8\\\\\n\t466 & NBA & Jeff Withey      & UTA & C  & 51 &  653 &  87 &  161 &   0 &   2 & ⋯ &  21 &  28 &  53 &  74 & 1 &  217 & 0 & 0 & 0 & 10\\\\\n\t467 & NBA & Christian Wood   & PHI & PF & 17 &  146 &  22 &   53 &   4 &  11 & ⋯ &   5 &   2 &   7 &  11 & 0 &   61 & 0 & 0 & 0 &  0\\\\\n\t468 & NBA & Brandan Wright   & MEM & PF & 12 &  213 &  35 &   52 &   0 &   0 & ⋯ &   5 &  10 &  15 &  21 & 0 &   83 & 0 & 0 & 0 &  2\\\\\n\t469 & NBA & Delon Wright     & TOR & PG & 27 &  231 &  36 &   81 &   5 &  13 & ⋯ &   8 &  16 &   3 &   7 & 0 &  103 & 0 & 0 & 0 &  1\\\\\n\t470 & NBA & Tony Wroten      & PHI & SG &  8 &  145 &  22 &   65 &   3 &  17 & ⋯ &   3 &  29 &   0 &  11 & 0 &   67 & 0 & 0 & 0 &  3\\\\\n\t471 & NBA & James Young      & BOS & SG & 29 &  200 &  11 &   36 &   6 &  26 & ⋯ &   6 &   5 &   1 &  17 & 0 &   29 & 0 & 0 & 0 &  0\\\\\n\t472 & NBA & Joseph Young     & IND & PG & 41 &  384 &  62 &  170 &  10 &  46 & ⋯ &  15 &  33 &   0 &  30 & 0 &  154 & 0 & 0 & 0 &  0\\\\\n\t473 & NBA & Nick Young       & LAL & SF & 54 & 1036 & 126 &  372 &  77 & 237 & ⋯ &  23 &  30 &   7 &  50 & 0 &  392 & 1 & 0 & 0 &  2\\\\\n\t474 & NBA & Thaddeus Young   & BRO & SF & 73 & 2413 & 495 &  963 &   7 &  30 & ⋯ & 112 & 136 &  37 & 182 & 3 & 1102 & 1 & 0 & 0 & 73\\\\\n\t475 & NBA & Cody Zeller      & CHA & PF & 73 & 1773 & 231 &  437 &   1 &  10 & ⋯ &  57 &  68 &  63 & 204 & 4 &  638 & 0 & 0 & 0 & 60\\\\\n\t476 & NBA & Tyler Zeller     & BOS & C  & 60 &  714 & 138 &  290 &   0 &   0 & ⋯ &  10 &  46 &  22 &  97 & 1 &  364 & 0 & 0 & 0 &  3\\\\\n\\end{tabular}\n",
            "text/markdown": "\nA data.frame: 476 × 25\n\n| <!--/--> | League &lt;fct&gt; | Name &lt;chr&gt; | Team &lt;fct&gt; | Position &lt;fct&gt; | GamesPlayed &lt;int&gt; | TotalMinutesPlayed &lt;int&gt; | FieldGoalsMade &lt;int&gt; | FieldGoalsAttempted &lt;int&gt; | ThreesMade &lt;int&gt; | ThreesAttempted &lt;int&gt; | ⋯ ⋯ | Steals &lt;int&gt; | Turnovers &lt;int&gt; | Blocks &lt;int&gt; | PersonalFouls &lt;int&gt; | Disqualifications &lt;int&gt; | TotalPoints &lt;int&gt; | Technicals &lt;int&gt; | Ejections &lt;int&gt; | FlagrantFouls &lt;int&gt; | GamesStarted &lt;int&gt; |\n|---|---|---|---|---|---|---|---|---|---|---|---|---|---|---|---|---|---|---|---|---|---|\n| 1 | NBA | Quincy Acy       | SAC | SF | 59 |  877 | 119 |  214 |  19 |  49 | ⋯ |  29 |  27 |  24 | 103 | 0 |  307 | 3 | 0 | 0 | 29 |\n| 2 | NBA | Jordan Adams     | MEM | SG |  2 |   15 |   2 |    6 |   0 |   1 | ⋯ |   3 |   2 |   0 |   2 | 0 |    7 | 0 | 0 | 0 |  0 |\n| 3 | NBA | Steven Adams     | OKL | C  | 80 | 2019 | 261 |  426 |   0 |   0 | ⋯ |  42 |  84 |  89 | 223 | 2 |  636 | 2 | 0 | 0 | 80 |\n| 4 | NBA | Arron Afflalo    | NYK | SG | 71 | 2359 | 354 |  799 |  91 | 238 | ⋯ |  25 |  82 |  10 | 142 | 1 |  909 | 1 | 0 | 0 | 57 |\n| 5 | NBA | Alexis Ajinca    | NOR | C  | 59 |  863 | 150 |  314 |   0 |   1 | ⋯ |  19 |  54 |  36 | 134 | 0 |  352 | 2 | 0 | 0 | 17 |\n| 6 | NBA | Cole Aldrich     | LAC | C  | 60 |  802 | 134 |  225 |   0 |   0 | ⋯ |  47 |  64 |  68 | 139 | 1 |  328 | 0 | 0 | 0 |  5 |\n| 7 | NBA | Lamarcu Aldridge | SAN | PF | 74 | 2260 | 536 | 1045 |   0 |  16 | ⋯ |  38 |  99 |  81 | 151 | 0 | 1331 | 0 | 0 | 0 | 74 |\n| 8 | NBA | Cliff Alexander  | POR | PF |  9 |   37 |   5 |   10 |   0 |   0 | ⋯ |   1 |   1 |   2 |   1 | 0 |   10 | 0 | 0 | 0 |  0 |\n| 9 | NBA | Lavoy Allen      | IND | PF | 79 | 1601 | 191 |  370 |   0 |   0 | ⋯ |  26 |  69 |  42 | 147 | 1 |  428 | 0 | 0 | 0 | 28 |\n| 10 | NBA | Tony Allen       | MEM | SG | 64 | 1622 | 215 |  469 |  15 |  42 | ⋯ | 109 |  78 |  18 | 175 | 1 |  535 | 1 | 0 | 0 | 56 |\n| 11 | NBA | Al-farouq Aminu  | POR | SF | 82 | 2342 | 299 |  719 | 126 | 349 | ⋯ |  72 | 120 |  53 | 171 | 0 |  839 | 3 | 0 | 0 | 82 |\n| 12 | NBA | Lou Amundson     | NYK | PF | 29 |  199 |  19 |   52 |   0 |   0 | ⋯ |   6 |  15 |   7 |  44 | 1 |   52 | 1 | 0 | 0 |  0 |\n| 13 | NBA | Chris Andersen   | MEM | PF | 27 |  404 |  38 |   72 |   4 |  14 | ⋯ |  15 |   9 |  13 |  29 | 0 |  105 | 0 | 0 | 0 | 15 |\n| 14 | NBA | Alan Anderson    | WAS | SG | 13 |  193 |  21 |   59 |  12 |  37 | ⋯ |   4 |   2 |   1 |  25 | 0 |   65 | 0 | 0 | 0 |  0 |\n| 15 | NBA | James Anderson   | SAC | SG | 51 |  721 |  67 |  178 |  23 |  86 | ⋯ |  21 |  42 |  14 |  54 | 0 |  179 | 0 | 0 | 0 | 15 |\n| 16 | NBA | Justin Anderson  | DAL | SG | 55 |  644 |  71 |  176 |  22 |  83 | ⋯ |  19 |  24 |  25 |  45 | 0 |  208 | 0 | 0 | 0 |  9 |\n| 17 | NBA | Kyle Anderson    | SAN | SF | 78 | 1247 | 138 |  296 |  12 |  37 | ⋯ |  60 |  59 |  29 |  97 | 0 |  350 | 0 | 0 | 0 | 11 |\n| 18 | NBA | Ryan Anderson    | NOR | PF | 66 | 2011 | 397 |  928 | 131 | 357 | ⋯ |  38 |  90 |  25 | 109 | 0 | 1124 | 3 | 0 | 0 |  7 |\n| 19 | NBA | Gi Antetokounmpo | MIL | SF | 80 | 2825 | 513 | 1012 |  28 | 110 | ⋯ |  94 | 208 | 113 | 258 | 7 | 1350 | 1 | 0 | 0 | 79 |\n| 20 | NBA | Th Antetokounmpo | NYK | SF |  3 |    7 |   3 |    4 |   0 |   1 | ⋯ |   0 |   0 |   0 |   2 | 0 |    6 | 0 | 0 | 0 |  0 |\n| 21 | NBA | Carmelo Anthony  | NYK | SF | 72 | 2529 | 567 | 1307 | 105 | 310 | ⋯ |  62 | 176 |  38 | 180 | 1 | 1573 | 4 | 0 | 0 | 72 |\n| 22 | NBA | Joel Anthony     | DET | C  | 19 |   95 |   6 |   10 |   0 |   0 | ⋯ |   2 |   2 |  12 |  15 | 0 |   18 | 0 | 0 | 0 |  0 |\n| 23 | NBA | Keith Appling    | ORL | PG |  5 |   27 |   2 |    8 |   0 |   3 | ⋯ |   1 |   3 |   0 |   5 | 0 |    6 | 0 | 0 | 0 |  0 |\n| 24 | NBA | Trevor Ariza     | HOU | SF | 81 | 2860 | 357 |  858 | 185 | 497 | ⋯ | 161 | 113 |  26 | 177 | 0 | 1025 | 2 | 0 | 0 | 81 |\n| 25 | NBA | Ron Artest       | LAL | SF | 35 |  588 |  55 |  177 |  26 |  84 | ⋯ |  22 |  15 |  11 |  67 | 1 |  176 | 1 | 0 | 0 |  5 |\n| 26 | NBA | Darrell Arthur   | DEN | PF | 70 | 1517 | 221 |  489 |  45 | 117 | ⋯ |  53 |  66 |  48 | 185 | 1 |  527 | 2 | 0 | 0 | 16 |\n| 27 | NBA | Omer Asik        | NOR | C  | 68 | 1181 | 104 |  196 |   0 |   0 | ⋯ |  21 |  60 |  23 | 124 | 0 |  269 | 0 | 0 | 0 | 64 |\n| 28 | NBA | D.j. Augustin    | DEN | PG | 62 | 1182 | 148 |  350 |  68 | 169 | ⋯ |  38 |  84 |   4 |  85 | 0 |  467 | 0 | 0 | 0 |  0 |\n| 29 | NBA | Jeff Ayres       | LAC | PF | 16 |   95 |  10 |   21 |   0 |   1 | ⋯ |   0 |   5 |   0 |  16 | 0 |   24 | 0 | 0 | 0 |  0 |\n| 30 | NBA | Luke Babbitt     | NOR | SF | 47 |  847 | 122 |  289 |  44 | 109 | ⋯ |  11 |  23 |   7 |  90 | 0 |  327 | 1 | 0 | 0 | 13 |\n| ⋮ | ⋮ | ⋮ | ⋮ | ⋮ | ⋮ | ⋮ | ⋮ | ⋮ | ⋮ | ⋮ | ⋱ | ⋮ | ⋮ | ⋮ | ⋮ | ⋮ | ⋮ | ⋮ | ⋮ | ⋮ | ⋮ |\n| 447 | NBA | John Wall        | WAS | PG | 77 | 2783 | 572 | 1349 | 115 | 327 | ⋯ | 145 | 318 |  59 | 159 | 0 | 1531 | 7 | 0 | 0 | 77 |\n| 448 | NBA | T.j. Warren      | PHO | SF | 47 | 1065 | 221 |  441 |  28 |  70 | ⋯ |  37 |  32 |  16 |  94 | 0 |  515 | 0 | 0 | 0 |  4 |\n| 449 | NBA | C.j. Watson      | ORL | PG | 33 |  655 |  47 |  137 |  14 |  48 | ⋯ |  19 |  25 |   5 |  49 | 0 |  142 | 0 | 0 | 0 |  2 |\n| 450 | NBA | Briante Weber    | MIA | PG |  7 |  170 |  14 |   39 |   0 |   5 | ⋯ |   9 |   9 |   3 |  12 | 0 |   31 | 0 | 0 | 0 |  4 |\n| 451 | NBA | Sonny Weems      | PHI | SG | 43 |  501 |  42 |  111 |  15 |  42 | ⋯ |  10 |  41 |   1 |  47 | 0 |  107 | 0 | 0 | 0 |  0 |\n| 452 | NBA | David West       | SAN | PF | 78 | 1408 | 244 |  448 |   3 |   7 | ⋯ |  44 |  67 |  55 | 142 | 1 |  554 | 2 | 0 | 0 | 19 |\n| 453 | NBA | Russel Westbrook | OKL | PG | 80 | 2749 | 656 | 1444 | 101 | 341 | ⋯ | 163 | 342 |  20 | 200 | 2 | 1878 | 6 | 0 | 0 | 80 |\n| 454 | NBA | Hassan Whiteside | MIA | C  | 73 | 2122 | 412 |  681 |   0 |   0 | ⋯ |  44 | 137 | 269 | 201 | 2 | 1038 | 2 | 0 | 0 | 43 |\n| 455 | NBA | Shay Whittington | IND | PF |  7 |   41 |   5 |   11 |   0 |   2 | ⋯ |   1 |   5 |   1 |   7 | 0 |   11 | 0 | 0 | 0 |  0 |\n| 456 | NBA | Andrew Wiggins   | MIN | SF | 81 | 2844 | 594 | 1294 |  57 | 190 | ⋯ |  78 | 182 |  46 | 165 | 1 | 1675 | 1 | 0 | 0 | 81 |\n| 457 | NBA | C.j. Wilcox      | LAC | SG | 23 |  168 |  26 |   66 |   9 |  23 | ⋯ |  10 |   2 |   2 |  15 | 0 |   70 | 0 | 0 | 0 |  0 |\n| 458 | NBA | Alan Williams    | PHO | C  | 10 |   67 |  10 |   24 |   0 |   0 | ⋯ |   4 |   6 |   5 |  15 | 0 |   29 | 0 | 0 | 0 |  0 |\n| 459 | NBA | Deron Williams   | DAL | PG | 65 | 2107 | 321 |  775 |  97 | 282 | ⋯ |  61 | 150 |  14 | 155 | 0 |  918 | 0 | 0 | 0 | 63 |\n| 460 | NBA | Derrick Williams | NYK | PF | 80 | 1442 | 254 |  565 |  44 | 150 | ⋯ |  30 |  61 |   9 |  69 | 0 |  746 | 0 | 0 | 0 |  9 |\n| 461 | NBA | Elliot Williams  | MEM | SG |  5 |   46 |   2 |   10 |   1 |   4 | ⋯ |   1 |   1 |   0 |   2 | 0 |    8 | 0 | 0 | 0 |  0 |\n| 462 | NBA | Louis Williams   | LAL | SG | 67 | 1911 | 283 |  695 | 110 | 321 | ⋯ |  62 | 107 |  19 | 107 | 1 | 1028 | 1 | 0 | 0 | 35 |\n| 463 | NBA | Marvin Williams  | CHA | PF | 81 | 2339 | 338 |  747 | 152 | 379 | ⋯ |  58 |  62 |  77 | 133 | 1 |  948 | 0 | 0 | 0 | 81 |\n| 464 | NBA | Mo Williams      | CLE | PG | 41 |  748 | 132 |  302 |  36 | 102 | ⋯ |  14 |  57 |   5 |  60 | 0 |  338 | 1 | 0 | 0 | 14 |\n| 465 | NBA | Justise Winslow  | MIA | SF | 78 | 2237 | 196 |  463 |  32 | 116 | ⋯ |  68 |  95 |  26 | 184 | 0 |  504 | 0 | 0 | 0 |  8 |\n| 466 | NBA | Jeff Withey      | UTA | C  | 51 |  653 |  87 |  161 |   0 |   2 | ⋯ |  21 |  28 |  53 |  74 | 1 |  217 | 0 | 0 | 0 | 10 |\n| 467 | NBA | Christian Wood   | PHI | PF | 17 |  146 |  22 |   53 |   4 |  11 | ⋯ |   5 |   2 |   7 |  11 | 0 |   61 | 0 | 0 | 0 |  0 |\n| 468 | NBA | Brandan Wright   | MEM | PF | 12 |  213 |  35 |   52 |   0 |   0 | ⋯ |   5 |  10 |  15 |  21 | 0 |   83 | 0 | 0 | 0 |  2 |\n| 469 | NBA | Delon Wright     | TOR | PG | 27 |  231 |  36 |   81 |   5 |  13 | ⋯ |   8 |  16 |   3 |   7 | 0 |  103 | 0 | 0 | 0 |  1 |\n| 470 | NBA | Tony Wroten      | PHI | SG |  8 |  145 |  22 |   65 |   3 |  17 | ⋯ |   3 |  29 |   0 |  11 | 0 |   67 | 0 | 0 | 0 |  3 |\n| 471 | NBA | James Young      | BOS | SG | 29 |  200 |  11 |   36 |   6 |  26 | ⋯ |   6 |   5 |   1 |  17 | 0 |   29 | 0 | 0 | 0 |  0 |\n| 472 | NBA | Joseph Young     | IND | PG | 41 |  384 |  62 |  170 |  10 |  46 | ⋯ |  15 |  33 |   0 |  30 | 0 |  154 | 0 | 0 | 0 |  0 |\n| 473 | NBA | Nick Young       | LAL | SF | 54 | 1036 | 126 |  372 |  77 | 237 | ⋯ |  23 |  30 |   7 |  50 | 0 |  392 | 1 | 0 | 0 |  2 |\n| 474 | NBA | Thaddeus Young   | BRO | SF | 73 | 2413 | 495 |  963 |   7 |  30 | ⋯ | 112 | 136 |  37 | 182 | 3 | 1102 | 1 | 0 | 0 | 73 |\n| 475 | NBA | Cody Zeller      | CHA | PF | 73 | 1773 | 231 |  437 |   1 |  10 | ⋯ |  57 |  68 |  63 | 204 | 4 |  638 | 0 | 0 | 0 | 60 |\n| 476 | NBA | Tyler Zeller     | BOS | C  | 60 |  714 | 138 |  290 |   0 |   0 | ⋯ |  10 |  46 |  22 |  97 | 1 |  364 | 0 | 0 | 0 |  3 |\n\n",
            "text/html": [
              "<table>\n",
              "<caption>A data.frame: 476 × 25</caption>\n",
              "<thead>\n",
              "\t<tr><th></th><th scope=col>League</th><th scope=col>Name</th><th scope=col>Team</th><th scope=col>Position</th><th scope=col>GamesPlayed</th><th scope=col>TotalMinutesPlayed</th><th scope=col>FieldGoalsMade</th><th scope=col>FieldGoalsAttempted</th><th scope=col>ThreesMade</th><th scope=col>ThreesAttempted</th><th scope=col>⋯</th><th scope=col>Steals</th><th scope=col>Turnovers</th><th scope=col>Blocks</th><th scope=col>PersonalFouls</th><th scope=col>Disqualifications</th><th scope=col>TotalPoints</th><th scope=col>Technicals</th><th scope=col>Ejections</th><th scope=col>FlagrantFouls</th><th scope=col>GamesStarted</th></tr>\n",
              "\t<tr><th></th><th scope=col>&lt;fct&gt;</th><th scope=col>&lt;chr&gt;</th><th scope=col>&lt;fct&gt;</th><th scope=col>&lt;fct&gt;</th><th scope=col>&lt;int&gt;</th><th scope=col>&lt;int&gt;</th><th scope=col>&lt;int&gt;</th><th scope=col>&lt;int&gt;</th><th scope=col>&lt;int&gt;</th><th scope=col>&lt;int&gt;</th><th scope=col>⋯</th><th scope=col>&lt;int&gt;</th><th scope=col>&lt;int&gt;</th><th scope=col>&lt;int&gt;</th><th scope=col>&lt;int&gt;</th><th scope=col>&lt;int&gt;</th><th scope=col>&lt;int&gt;</th><th scope=col>&lt;int&gt;</th><th scope=col>&lt;int&gt;</th><th scope=col>&lt;int&gt;</th><th scope=col>&lt;int&gt;</th></tr>\n",
              "</thead>\n",
              "<tbody>\n",
              "\t<tr><th scope=row>1</th><td>NBA</td><td>Quincy Acy      </td><td>SAC</td><td>SF</td><td>59</td><td> 877</td><td>119</td><td> 214</td><td> 19</td><td> 49</td><td>⋯</td><td> 29</td><td> 27</td><td> 24</td><td>103</td><td>0</td><td> 307</td><td>3</td><td>0</td><td>0</td><td>29</td></tr>\n",
              "\t<tr><th scope=row>2</th><td>NBA</td><td>Jordan Adams    </td><td>MEM</td><td>SG</td><td> 2</td><td>  15</td><td>  2</td><td>   6</td><td>  0</td><td>  1</td><td>⋯</td><td>  3</td><td>  2</td><td>  0</td><td>  2</td><td>0</td><td>   7</td><td>0</td><td>0</td><td>0</td><td> 0</td></tr>\n",
              "\t<tr><th scope=row>3</th><td>NBA</td><td>Steven Adams    </td><td>OKL</td><td>C </td><td>80</td><td>2019</td><td>261</td><td> 426</td><td>  0</td><td>  0</td><td>⋯</td><td> 42</td><td> 84</td><td> 89</td><td>223</td><td>2</td><td> 636</td><td>2</td><td>0</td><td>0</td><td>80</td></tr>\n",
              "\t<tr><th scope=row>4</th><td>NBA</td><td>Arron Afflalo   </td><td>NYK</td><td>SG</td><td>71</td><td>2359</td><td>354</td><td> 799</td><td> 91</td><td>238</td><td>⋯</td><td> 25</td><td> 82</td><td> 10</td><td>142</td><td>1</td><td> 909</td><td>1</td><td>0</td><td>0</td><td>57</td></tr>\n",
              "\t<tr><th scope=row>5</th><td>NBA</td><td>Alexis Ajinca   </td><td>NOR</td><td>C </td><td>59</td><td> 863</td><td>150</td><td> 314</td><td>  0</td><td>  1</td><td>⋯</td><td> 19</td><td> 54</td><td> 36</td><td>134</td><td>0</td><td> 352</td><td>2</td><td>0</td><td>0</td><td>17</td></tr>\n",
              "\t<tr><th scope=row>6</th><td>NBA</td><td>Cole Aldrich    </td><td>LAC</td><td>C </td><td>60</td><td> 802</td><td>134</td><td> 225</td><td>  0</td><td>  0</td><td>⋯</td><td> 47</td><td> 64</td><td> 68</td><td>139</td><td>1</td><td> 328</td><td>0</td><td>0</td><td>0</td><td> 5</td></tr>\n",
              "\t<tr><th scope=row>7</th><td>NBA</td><td>Lamarcu Aldridge</td><td>SAN</td><td>PF</td><td>74</td><td>2260</td><td>536</td><td>1045</td><td>  0</td><td> 16</td><td>⋯</td><td> 38</td><td> 99</td><td> 81</td><td>151</td><td>0</td><td>1331</td><td>0</td><td>0</td><td>0</td><td>74</td></tr>\n",
              "\t<tr><th scope=row>8</th><td>NBA</td><td>Cliff Alexander </td><td>POR</td><td>PF</td><td> 9</td><td>  37</td><td>  5</td><td>  10</td><td>  0</td><td>  0</td><td>⋯</td><td>  1</td><td>  1</td><td>  2</td><td>  1</td><td>0</td><td>  10</td><td>0</td><td>0</td><td>0</td><td> 0</td></tr>\n",
              "\t<tr><th scope=row>9</th><td>NBA</td><td>Lavoy Allen     </td><td>IND</td><td>PF</td><td>79</td><td>1601</td><td>191</td><td> 370</td><td>  0</td><td>  0</td><td>⋯</td><td> 26</td><td> 69</td><td> 42</td><td>147</td><td>1</td><td> 428</td><td>0</td><td>0</td><td>0</td><td>28</td></tr>\n",
              "\t<tr><th scope=row>10</th><td>NBA</td><td>Tony Allen      </td><td>MEM</td><td>SG</td><td>64</td><td>1622</td><td>215</td><td> 469</td><td> 15</td><td> 42</td><td>⋯</td><td>109</td><td> 78</td><td> 18</td><td>175</td><td>1</td><td> 535</td><td>1</td><td>0</td><td>0</td><td>56</td></tr>\n",
              "\t<tr><th scope=row>11</th><td>NBA</td><td>Al-farouq Aminu </td><td>POR</td><td>SF</td><td>82</td><td>2342</td><td>299</td><td> 719</td><td>126</td><td>349</td><td>⋯</td><td> 72</td><td>120</td><td> 53</td><td>171</td><td>0</td><td> 839</td><td>3</td><td>0</td><td>0</td><td>82</td></tr>\n",
              "\t<tr><th scope=row>12</th><td>NBA</td><td>Lou Amundson    </td><td>NYK</td><td>PF</td><td>29</td><td> 199</td><td> 19</td><td>  52</td><td>  0</td><td>  0</td><td>⋯</td><td>  6</td><td> 15</td><td>  7</td><td> 44</td><td>1</td><td>  52</td><td>1</td><td>0</td><td>0</td><td> 0</td></tr>\n",
              "\t<tr><th scope=row>13</th><td>NBA</td><td>Chris Andersen  </td><td>MEM</td><td>PF</td><td>27</td><td> 404</td><td> 38</td><td>  72</td><td>  4</td><td> 14</td><td>⋯</td><td> 15</td><td>  9</td><td> 13</td><td> 29</td><td>0</td><td> 105</td><td>0</td><td>0</td><td>0</td><td>15</td></tr>\n",
              "\t<tr><th scope=row>14</th><td>NBA</td><td>Alan Anderson   </td><td>WAS</td><td>SG</td><td>13</td><td> 193</td><td> 21</td><td>  59</td><td> 12</td><td> 37</td><td>⋯</td><td>  4</td><td>  2</td><td>  1</td><td> 25</td><td>0</td><td>  65</td><td>0</td><td>0</td><td>0</td><td> 0</td></tr>\n",
              "\t<tr><th scope=row>15</th><td>NBA</td><td>James Anderson  </td><td>SAC</td><td>SG</td><td>51</td><td> 721</td><td> 67</td><td> 178</td><td> 23</td><td> 86</td><td>⋯</td><td> 21</td><td> 42</td><td> 14</td><td> 54</td><td>0</td><td> 179</td><td>0</td><td>0</td><td>0</td><td>15</td></tr>\n",
              "\t<tr><th scope=row>16</th><td>NBA</td><td>Justin Anderson </td><td>DAL</td><td>SG</td><td>55</td><td> 644</td><td> 71</td><td> 176</td><td> 22</td><td> 83</td><td>⋯</td><td> 19</td><td> 24</td><td> 25</td><td> 45</td><td>0</td><td> 208</td><td>0</td><td>0</td><td>0</td><td> 9</td></tr>\n",
              "\t<tr><th scope=row>17</th><td>NBA</td><td>Kyle Anderson   </td><td>SAN</td><td>SF</td><td>78</td><td>1247</td><td>138</td><td> 296</td><td> 12</td><td> 37</td><td>⋯</td><td> 60</td><td> 59</td><td> 29</td><td> 97</td><td>0</td><td> 350</td><td>0</td><td>0</td><td>0</td><td>11</td></tr>\n",
              "\t<tr><th scope=row>18</th><td>NBA</td><td>Ryan Anderson   </td><td>NOR</td><td>PF</td><td>66</td><td>2011</td><td>397</td><td> 928</td><td>131</td><td>357</td><td>⋯</td><td> 38</td><td> 90</td><td> 25</td><td>109</td><td>0</td><td>1124</td><td>3</td><td>0</td><td>0</td><td> 7</td></tr>\n",
              "\t<tr><th scope=row>19</th><td>NBA</td><td>Gi Antetokounmpo</td><td>MIL</td><td>SF</td><td>80</td><td>2825</td><td>513</td><td>1012</td><td> 28</td><td>110</td><td>⋯</td><td> 94</td><td>208</td><td>113</td><td>258</td><td>7</td><td>1350</td><td>1</td><td>0</td><td>0</td><td>79</td></tr>\n",
              "\t<tr><th scope=row>20</th><td>NBA</td><td>Th Antetokounmpo</td><td>NYK</td><td>SF</td><td> 3</td><td>   7</td><td>  3</td><td>   4</td><td>  0</td><td>  1</td><td>⋯</td><td>  0</td><td>  0</td><td>  0</td><td>  2</td><td>0</td><td>   6</td><td>0</td><td>0</td><td>0</td><td> 0</td></tr>\n",
              "\t<tr><th scope=row>21</th><td>NBA</td><td>Carmelo Anthony </td><td>NYK</td><td>SF</td><td>72</td><td>2529</td><td>567</td><td>1307</td><td>105</td><td>310</td><td>⋯</td><td> 62</td><td>176</td><td> 38</td><td>180</td><td>1</td><td>1573</td><td>4</td><td>0</td><td>0</td><td>72</td></tr>\n",
              "\t<tr><th scope=row>22</th><td>NBA</td><td>Joel Anthony    </td><td>DET</td><td>C </td><td>19</td><td>  95</td><td>  6</td><td>  10</td><td>  0</td><td>  0</td><td>⋯</td><td>  2</td><td>  2</td><td> 12</td><td> 15</td><td>0</td><td>  18</td><td>0</td><td>0</td><td>0</td><td> 0</td></tr>\n",
              "\t<tr><th scope=row>23</th><td>NBA</td><td>Keith Appling   </td><td>ORL</td><td>PG</td><td> 5</td><td>  27</td><td>  2</td><td>   8</td><td>  0</td><td>  3</td><td>⋯</td><td>  1</td><td>  3</td><td>  0</td><td>  5</td><td>0</td><td>   6</td><td>0</td><td>0</td><td>0</td><td> 0</td></tr>\n",
              "\t<tr><th scope=row>24</th><td>NBA</td><td>Trevor Ariza    </td><td>HOU</td><td>SF</td><td>81</td><td>2860</td><td>357</td><td> 858</td><td>185</td><td>497</td><td>⋯</td><td>161</td><td>113</td><td> 26</td><td>177</td><td>0</td><td>1025</td><td>2</td><td>0</td><td>0</td><td>81</td></tr>\n",
              "\t<tr><th scope=row>25</th><td>NBA</td><td>Ron Artest      </td><td>LAL</td><td>SF</td><td>35</td><td> 588</td><td> 55</td><td> 177</td><td> 26</td><td> 84</td><td>⋯</td><td> 22</td><td> 15</td><td> 11</td><td> 67</td><td>1</td><td> 176</td><td>1</td><td>0</td><td>0</td><td> 5</td></tr>\n",
              "\t<tr><th scope=row>26</th><td>NBA</td><td>Darrell Arthur  </td><td>DEN</td><td>PF</td><td>70</td><td>1517</td><td>221</td><td> 489</td><td> 45</td><td>117</td><td>⋯</td><td> 53</td><td> 66</td><td> 48</td><td>185</td><td>1</td><td> 527</td><td>2</td><td>0</td><td>0</td><td>16</td></tr>\n",
              "\t<tr><th scope=row>27</th><td>NBA</td><td>Omer Asik       </td><td>NOR</td><td>C </td><td>68</td><td>1181</td><td>104</td><td> 196</td><td>  0</td><td>  0</td><td>⋯</td><td> 21</td><td> 60</td><td> 23</td><td>124</td><td>0</td><td> 269</td><td>0</td><td>0</td><td>0</td><td>64</td></tr>\n",
              "\t<tr><th scope=row>28</th><td>NBA</td><td>D.j. Augustin   </td><td>DEN</td><td>PG</td><td>62</td><td>1182</td><td>148</td><td> 350</td><td> 68</td><td>169</td><td>⋯</td><td> 38</td><td> 84</td><td>  4</td><td> 85</td><td>0</td><td> 467</td><td>0</td><td>0</td><td>0</td><td> 0</td></tr>\n",
              "\t<tr><th scope=row>29</th><td>NBA</td><td>Jeff Ayres      </td><td>LAC</td><td>PF</td><td>16</td><td>  95</td><td> 10</td><td>  21</td><td>  0</td><td>  1</td><td>⋯</td><td>  0</td><td>  5</td><td>  0</td><td> 16</td><td>0</td><td>  24</td><td>0</td><td>0</td><td>0</td><td> 0</td></tr>\n",
              "\t<tr><th scope=row>30</th><td>NBA</td><td>Luke Babbitt    </td><td>NOR</td><td>SF</td><td>47</td><td> 847</td><td>122</td><td> 289</td><td> 44</td><td>109</td><td>⋯</td><td> 11</td><td> 23</td><td>  7</td><td> 90</td><td>0</td><td> 327</td><td>1</td><td>0</td><td>0</td><td>13</td></tr>\n",
              "\t<tr><th scope=row>⋮</th><td>⋮</td><td>⋮</td><td>⋮</td><td>⋮</td><td>⋮</td><td>⋮</td><td>⋮</td><td>⋮</td><td>⋮</td><td>⋮</td><td>⋱</td><td>⋮</td><td>⋮</td><td>⋮</td><td>⋮</td><td>⋮</td><td>⋮</td><td>⋮</td><td>⋮</td><td>⋮</td><td>⋮</td></tr>\n",
              "\t<tr><th scope=row>447</th><td>NBA</td><td>John Wall       </td><td>WAS</td><td>PG</td><td>77</td><td>2783</td><td>572</td><td>1349</td><td>115</td><td>327</td><td>⋯</td><td>145</td><td>318</td><td> 59</td><td>159</td><td>0</td><td>1531</td><td>7</td><td>0</td><td>0</td><td>77</td></tr>\n",
              "\t<tr><th scope=row>448</th><td>NBA</td><td>T.j. Warren     </td><td>PHO</td><td>SF</td><td>47</td><td>1065</td><td>221</td><td> 441</td><td> 28</td><td> 70</td><td>⋯</td><td> 37</td><td> 32</td><td> 16</td><td> 94</td><td>0</td><td> 515</td><td>0</td><td>0</td><td>0</td><td> 4</td></tr>\n",
              "\t<tr><th scope=row>449</th><td>NBA</td><td>C.j. Watson     </td><td>ORL</td><td>PG</td><td>33</td><td> 655</td><td> 47</td><td> 137</td><td> 14</td><td> 48</td><td>⋯</td><td> 19</td><td> 25</td><td>  5</td><td> 49</td><td>0</td><td> 142</td><td>0</td><td>0</td><td>0</td><td> 2</td></tr>\n",
              "\t<tr><th scope=row>450</th><td>NBA</td><td>Briante Weber   </td><td>MIA</td><td>PG</td><td> 7</td><td> 170</td><td> 14</td><td>  39</td><td>  0</td><td>  5</td><td>⋯</td><td>  9</td><td>  9</td><td>  3</td><td> 12</td><td>0</td><td>  31</td><td>0</td><td>0</td><td>0</td><td> 4</td></tr>\n",
              "\t<tr><th scope=row>451</th><td>NBA</td><td>Sonny Weems     </td><td>PHI</td><td>SG</td><td>43</td><td> 501</td><td> 42</td><td> 111</td><td> 15</td><td> 42</td><td>⋯</td><td> 10</td><td> 41</td><td>  1</td><td> 47</td><td>0</td><td> 107</td><td>0</td><td>0</td><td>0</td><td> 0</td></tr>\n",
              "\t<tr><th scope=row>452</th><td>NBA</td><td>David West      </td><td>SAN</td><td>PF</td><td>78</td><td>1408</td><td>244</td><td> 448</td><td>  3</td><td>  7</td><td>⋯</td><td> 44</td><td> 67</td><td> 55</td><td>142</td><td>1</td><td> 554</td><td>2</td><td>0</td><td>0</td><td>19</td></tr>\n",
              "\t<tr><th scope=row>453</th><td>NBA</td><td>Russel Westbrook</td><td>OKL</td><td>PG</td><td>80</td><td>2749</td><td>656</td><td>1444</td><td>101</td><td>341</td><td>⋯</td><td>163</td><td>342</td><td> 20</td><td>200</td><td>2</td><td>1878</td><td>6</td><td>0</td><td>0</td><td>80</td></tr>\n",
              "\t<tr><th scope=row>454</th><td>NBA</td><td>Hassan Whiteside</td><td>MIA</td><td>C </td><td>73</td><td>2122</td><td>412</td><td> 681</td><td>  0</td><td>  0</td><td>⋯</td><td> 44</td><td>137</td><td>269</td><td>201</td><td>2</td><td>1038</td><td>2</td><td>0</td><td>0</td><td>43</td></tr>\n",
              "\t<tr><th scope=row>455</th><td>NBA</td><td>Shay Whittington</td><td>IND</td><td>PF</td><td> 7</td><td>  41</td><td>  5</td><td>  11</td><td>  0</td><td>  2</td><td>⋯</td><td>  1</td><td>  5</td><td>  1</td><td>  7</td><td>0</td><td>  11</td><td>0</td><td>0</td><td>0</td><td> 0</td></tr>\n",
              "\t<tr><th scope=row>456</th><td>NBA</td><td>Andrew Wiggins  </td><td>MIN</td><td>SF</td><td>81</td><td>2844</td><td>594</td><td>1294</td><td> 57</td><td>190</td><td>⋯</td><td> 78</td><td>182</td><td> 46</td><td>165</td><td>1</td><td>1675</td><td>1</td><td>0</td><td>0</td><td>81</td></tr>\n",
              "\t<tr><th scope=row>457</th><td>NBA</td><td>C.j. Wilcox     </td><td>LAC</td><td>SG</td><td>23</td><td> 168</td><td> 26</td><td>  66</td><td>  9</td><td> 23</td><td>⋯</td><td> 10</td><td>  2</td><td>  2</td><td> 15</td><td>0</td><td>  70</td><td>0</td><td>0</td><td>0</td><td> 0</td></tr>\n",
              "\t<tr><th scope=row>458</th><td>NBA</td><td>Alan Williams   </td><td>PHO</td><td>C </td><td>10</td><td>  67</td><td> 10</td><td>  24</td><td>  0</td><td>  0</td><td>⋯</td><td>  4</td><td>  6</td><td>  5</td><td> 15</td><td>0</td><td>  29</td><td>0</td><td>0</td><td>0</td><td> 0</td></tr>\n",
              "\t<tr><th scope=row>459</th><td>NBA</td><td>Deron Williams  </td><td>DAL</td><td>PG</td><td>65</td><td>2107</td><td>321</td><td> 775</td><td> 97</td><td>282</td><td>⋯</td><td> 61</td><td>150</td><td> 14</td><td>155</td><td>0</td><td> 918</td><td>0</td><td>0</td><td>0</td><td>63</td></tr>\n",
              "\t<tr><th scope=row>460</th><td>NBA</td><td>Derrick Williams</td><td>NYK</td><td>PF</td><td>80</td><td>1442</td><td>254</td><td> 565</td><td> 44</td><td>150</td><td>⋯</td><td> 30</td><td> 61</td><td>  9</td><td> 69</td><td>0</td><td> 746</td><td>0</td><td>0</td><td>0</td><td> 9</td></tr>\n",
              "\t<tr><th scope=row>461</th><td>NBA</td><td>Elliot Williams </td><td>MEM</td><td>SG</td><td> 5</td><td>  46</td><td>  2</td><td>  10</td><td>  1</td><td>  4</td><td>⋯</td><td>  1</td><td>  1</td><td>  0</td><td>  2</td><td>0</td><td>   8</td><td>0</td><td>0</td><td>0</td><td> 0</td></tr>\n",
              "\t<tr><th scope=row>462</th><td>NBA</td><td>Louis Williams  </td><td>LAL</td><td>SG</td><td>67</td><td>1911</td><td>283</td><td> 695</td><td>110</td><td>321</td><td>⋯</td><td> 62</td><td>107</td><td> 19</td><td>107</td><td>1</td><td>1028</td><td>1</td><td>0</td><td>0</td><td>35</td></tr>\n",
              "\t<tr><th scope=row>463</th><td>NBA</td><td>Marvin Williams </td><td>CHA</td><td>PF</td><td>81</td><td>2339</td><td>338</td><td> 747</td><td>152</td><td>379</td><td>⋯</td><td> 58</td><td> 62</td><td> 77</td><td>133</td><td>1</td><td> 948</td><td>0</td><td>0</td><td>0</td><td>81</td></tr>\n",
              "\t<tr><th scope=row>464</th><td>NBA</td><td>Mo Williams     </td><td>CLE</td><td>PG</td><td>41</td><td> 748</td><td>132</td><td> 302</td><td> 36</td><td>102</td><td>⋯</td><td> 14</td><td> 57</td><td>  5</td><td> 60</td><td>0</td><td> 338</td><td>1</td><td>0</td><td>0</td><td>14</td></tr>\n",
              "\t<tr><th scope=row>465</th><td>NBA</td><td>Justise Winslow </td><td>MIA</td><td>SF</td><td>78</td><td>2237</td><td>196</td><td> 463</td><td> 32</td><td>116</td><td>⋯</td><td> 68</td><td> 95</td><td> 26</td><td>184</td><td>0</td><td> 504</td><td>0</td><td>0</td><td>0</td><td> 8</td></tr>\n",
              "\t<tr><th scope=row>466</th><td>NBA</td><td>Jeff Withey     </td><td>UTA</td><td>C </td><td>51</td><td> 653</td><td> 87</td><td> 161</td><td>  0</td><td>  2</td><td>⋯</td><td> 21</td><td> 28</td><td> 53</td><td> 74</td><td>1</td><td> 217</td><td>0</td><td>0</td><td>0</td><td>10</td></tr>\n",
              "\t<tr><th scope=row>467</th><td>NBA</td><td>Christian Wood  </td><td>PHI</td><td>PF</td><td>17</td><td> 146</td><td> 22</td><td>  53</td><td>  4</td><td> 11</td><td>⋯</td><td>  5</td><td>  2</td><td>  7</td><td> 11</td><td>0</td><td>  61</td><td>0</td><td>0</td><td>0</td><td> 0</td></tr>\n",
              "\t<tr><th scope=row>468</th><td>NBA</td><td>Brandan Wright  </td><td>MEM</td><td>PF</td><td>12</td><td> 213</td><td> 35</td><td>  52</td><td>  0</td><td>  0</td><td>⋯</td><td>  5</td><td> 10</td><td> 15</td><td> 21</td><td>0</td><td>  83</td><td>0</td><td>0</td><td>0</td><td> 2</td></tr>\n",
              "\t<tr><th scope=row>469</th><td>NBA</td><td>Delon Wright    </td><td>TOR</td><td>PG</td><td>27</td><td> 231</td><td> 36</td><td>  81</td><td>  5</td><td> 13</td><td>⋯</td><td>  8</td><td> 16</td><td>  3</td><td>  7</td><td>0</td><td> 103</td><td>0</td><td>0</td><td>0</td><td> 1</td></tr>\n",
              "\t<tr><th scope=row>470</th><td>NBA</td><td>Tony Wroten     </td><td>PHI</td><td>SG</td><td> 8</td><td> 145</td><td> 22</td><td>  65</td><td>  3</td><td> 17</td><td>⋯</td><td>  3</td><td> 29</td><td>  0</td><td> 11</td><td>0</td><td>  67</td><td>0</td><td>0</td><td>0</td><td> 3</td></tr>\n",
              "\t<tr><th scope=row>471</th><td>NBA</td><td>James Young     </td><td>BOS</td><td>SG</td><td>29</td><td> 200</td><td> 11</td><td>  36</td><td>  6</td><td> 26</td><td>⋯</td><td>  6</td><td>  5</td><td>  1</td><td> 17</td><td>0</td><td>  29</td><td>0</td><td>0</td><td>0</td><td> 0</td></tr>\n",
              "\t<tr><th scope=row>472</th><td>NBA</td><td>Joseph Young    </td><td>IND</td><td>PG</td><td>41</td><td> 384</td><td> 62</td><td> 170</td><td> 10</td><td> 46</td><td>⋯</td><td> 15</td><td> 33</td><td>  0</td><td> 30</td><td>0</td><td> 154</td><td>0</td><td>0</td><td>0</td><td> 0</td></tr>\n",
              "\t<tr><th scope=row>473</th><td>NBA</td><td>Nick Young      </td><td>LAL</td><td>SF</td><td>54</td><td>1036</td><td>126</td><td> 372</td><td> 77</td><td>237</td><td>⋯</td><td> 23</td><td> 30</td><td>  7</td><td> 50</td><td>0</td><td> 392</td><td>1</td><td>0</td><td>0</td><td> 2</td></tr>\n",
              "\t<tr><th scope=row>474</th><td>NBA</td><td>Thaddeus Young  </td><td>BRO</td><td>SF</td><td>73</td><td>2413</td><td>495</td><td> 963</td><td>  7</td><td> 30</td><td>⋯</td><td>112</td><td>136</td><td> 37</td><td>182</td><td>3</td><td>1102</td><td>1</td><td>0</td><td>0</td><td>73</td></tr>\n",
              "\t<tr><th scope=row>475</th><td>NBA</td><td>Cody Zeller     </td><td>CHA</td><td>PF</td><td>73</td><td>1773</td><td>231</td><td> 437</td><td>  1</td><td> 10</td><td>⋯</td><td> 57</td><td> 68</td><td> 63</td><td>204</td><td>4</td><td> 638</td><td>0</td><td>0</td><td>0</td><td>60</td></tr>\n",
              "\t<tr><th scope=row>476</th><td>NBA</td><td>Tyler Zeller    </td><td>BOS</td><td>C </td><td>60</td><td> 714</td><td>138</td><td> 290</td><td>  0</td><td>  0</td><td>⋯</td><td> 10</td><td> 46</td><td> 22</td><td> 97</td><td>1</td><td> 364</td><td>0</td><td>0</td><td>0</td><td> 3</td></tr>\n",
              "</tbody>\n",
              "</table>\n"
            ]
          },
          "metadata": {
            "tags": []
          }
        }
      ]
    },
    {
      "cell_type": "code",
      "metadata": {
        "id": "zVTwlLLQm-dK",
        "outputId": "cf92fe94-9506-4012-acdf-96d2ce2c7972",
        "colab": {
          "base_uri": "https://localhost:8080/",
          "height": 174
        }
      },
      "source": [
        "NBA1516[grep(\"Curry\",NBA1516$Name),]"
      ],
      "execution_count": 30,
      "outputs": [
        {
          "output_type": "display_data",
          "data": {
            "text/plain": [
              "    League Name          Team Position GamesPlayed TotalMinutesPlayed\n",
              "105 NBA    Seth Curry    SAC  SG       44           694              \n",
              "106 NBA    Stephen Curry GSW  PG       79          2705              \n",
              "    FieldGoalsMade FieldGoalsAttempted ThreesMade ThreesAttempted ⋯ Steals\n",
              "105 102             224                 50        111             ⋯  22   \n",
              "106 805            1597                402        887             ⋯ 169   \n",
              "    Turnovers Blocks PersonalFouls Disqualifications TotalPoints Technicals\n",
              "105  36        3      41           0                  299        0         \n",
              "106 261       16     161           0                 2375        1         \n",
              "    Ejections FlagrantFouls GamesStarted\n",
              "105 0         0              9          \n",
              "106 0         0             79          "
            ],
            "text/latex": "A data.frame: 2 × 25\n\\begin{tabular}{r|lllllllllllllllllllll}\n  & League & Name & Team & Position & GamesPlayed & TotalMinutesPlayed & FieldGoalsMade & FieldGoalsAttempted & ThreesMade & ThreesAttempted & ⋯ & Steals & Turnovers & Blocks & PersonalFouls & Disqualifications & TotalPoints & Technicals & Ejections & FlagrantFouls & GamesStarted\\\\\n  & <fct> & <chr> & <fct> & <fct> & <int> & <int> & <int> & <int> & <int> & <int> & ⋯ & <int> & <int> & <int> & <int> & <int> & <int> & <int> & <int> & <int> & <int>\\\\\n\\hline\n\t105 & NBA & Seth Curry    & SAC & SG & 44 &  694 & 102 &  224 &  50 & 111 & ⋯ &  22 &  36 &  3 &  41 & 0 &  299 & 0 & 0 & 0 &  9\\\\\n\t106 & NBA & Stephen Curry & GSW & PG & 79 & 2705 & 805 & 1597 & 402 & 887 & ⋯ & 169 & 261 & 16 & 161 & 0 & 2375 & 1 & 0 & 0 & 79\\\\\n\\end{tabular}\n",
            "text/markdown": "\nA data.frame: 2 × 25\n\n| <!--/--> | League &lt;fct&gt; | Name &lt;chr&gt; | Team &lt;fct&gt; | Position &lt;fct&gt; | GamesPlayed &lt;int&gt; | TotalMinutesPlayed &lt;int&gt; | FieldGoalsMade &lt;int&gt; | FieldGoalsAttempted &lt;int&gt; | ThreesMade &lt;int&gt; | ThreesAttempted &lt;int&gt; | ⋯ ⋯ | Steals &lt;int&gt; | Turnovers &lt;int&gt; | Blocks &lt;int&gt; | PersonalFouls &lt;int&gt; | Disqualifications &lt;int&gt; | TotalPoints &lt;int&gt; | Technicals &lt;int&gt; | Ejections &lt;int&gt; | FlagrantFouls &lt;int&gt; | GamesStarted &lt;int&gt; |\n|---|---|---|---|---|---|---|---|---|---|---|---|---|---|---|---|---|---|---|---|---|---|\n| 105 | NBA | Seth Curry    | SAC | SG | 44 |  694 | 102 |  224 |  50 | 111 | ⋯ |  22 |  36 |  3 |  41 | 0 |  299 | 0 | 0 | 0 |  9 |\n| 106 | NBA | Stephen Curry | GSW | PG | 79 | 2705 | 805 | 1597 | 402 | 887 | ⋯ | 169 | 261 | 16 | 161 | 0 | 2375 | 1 | 0 | 0 | 79 |\n\n",
            "text/html": [
              "<table>\n",
              "<caption>A data.frame: 2 × 25</caption>\n",
              "<thead>\n",
              "\t<tr><th></th><th scope=col>League</th><th scope=col>Name</th><th scope=col>Team</th><th scope=col>Position</th><th scope=col>GamesPlayed</th><th scope=col>TotalMinutesPlayed</th><th scope=col>FieldGoalsMade</th><th scope=col>FieldGoalsAttempted</th><th scope=col>ThreesMade</th><th scope=col>ThreesAttempted</th><th scope=col>⋯</th><th scope=col>Steals</th><th scope=col>Turnovers</th><th scope=col>Blocks</th><th scope=col>PersonalFouls</th><th scope=col>Disqualifications</th><th scope=col>TotalPoints</th><th scope=col>Technicals</th><th scope=col>Ejections</th><th scope=col>FlagrantFouls</th><th scope=col>GamesStarted</th></tr>\n",
              "\t<tr><th></th><th scope=col>&lt;fct&gt;</th><th scope=col>&lt;chr&gt;</th><th scope=col>&lt;fct&gt;</th><th scope=col>&lt;fct&gt;</th><th scope=col>&lt;int&gt;</th><th scope=col>&lt;int&gt;</th><th scope=col>&lt;int&gt;</th><th scope=col>&lt;int&gt;</th><th scope=col>&lt;int&gt;</th><th scope=col>&lt;int&gt;</th><th scope=col>⋯</th><th scope=col>&lt;int&gt;</th><th scope=col>&lt;int&gt;</th><th scope=col>&lt;int&gt;</th><th scope=col>&lt;int&gt;</th><th scope=col>&lt;int&gt;</th><th scope=col>&lt;int&gt;</th><th scope=col>&lt;int&gt;</th><th scope=col>&lt;int&gt;</th><th scope=col>&lt;int&gt;</th><th scope=col>&lt;int&gt;</th></tr>\n",
              "</thead>\n",
              "<tbody>\n",
              "\t<tr><th scope=row>105</th><td>NBA</td><td>Seth Curry   </td><td>SAC</td><td>SG</td><td>44</td><td> 694</td><td>102</td><td> 224</td><td> 50</td><td>111</td><td>⋯</td><td> 22</td><td> 36</td><td> 3</td><td> 41</td><td>0</td><td> 299</td><td>0</td><td>0</td><td>0</td><td> 9</td></tr>\n",
              "\t<tr><th scope=row>106</th><td>NBA</td><td>Stephen Curry</td><td>GSW</td><td>PG</td><td>79</td><td>2705</td><td>805</td><td>1597</td><td>402</td><td>887</td><td>⋯</td><td>169</td><td>261</td><td>16</td><td>161</td><td>0</td><td>2375</td><td>1</td><td>0</td><td>0</td><td>79</td></tr>\n",
              "</tbody>\n",
              "</table>\n"
            ]
          },
          "metadata": {
            "tags": []
          }
        }
      ]
    },
    {
      "cell_type": "code",
      "metadata": {
        "id": "9uRKxq4In1AZ",
        "outputId": "bfe05024-29c7-48e8-bbe7-3914ccdbabbd",
        "colab": {
          "base_uri": "https://localhost:8080/",
          "height": 136
        }
      },
      "source": [
        "NBA1516[grepl(\"Lebron James\",NBA1516$Name),]"
      ],
      "execution_count": 42,
      "outputs": [
        {
          "output_type": "display_data",
          "data": {
            "text/plain": [
              "    League Name         Team Position GamesPlayed TotalMinutesPlayed\n",
              "222 NBA    Lebron James CLE  SF       76          2710              \n",
              "    FieldGoalsMade FieldGoalsAttempted ThreesMade ThreesAttempted ⋯ Steals\n",
              "222 737            1416                87         282             ⋯ 104   \n",
              "    Turnovers Blocks PersonalFouls Disqualifications TotalPoints Technicals\n",
              "222 249       49     143           0                 1920        3         \n",
              "    Ejections FlagrantFouls GamesStarted\n",
              "222 0         0             76          "
            ],
            "text/latex": "A data.frame: 1 × 25\n\\begin{tabular}{r|lllllllllllllllllllll}\n  & League & Name & Team & Position & GamesPlayed & TotalMinutesPlayed & FieldGoalsMade & FieldGoalsAttempted & ThreesMade & ThreesAttempted & ⋯ & Steals & Turnovers & Blocks & PersonalFouls & Disqualifications & TotalPoints & Technicals & Ejections & FlagrantFouls & GamesStarted\\\\\n  & <fct> & <chr> & <fct> & <fct> & <int> & <int> & <int> & <int> & <int> & <int> & ⋯ & <int> & <int> & <int> & <int> & <int> & <int> & <int> & <int> & <int> & <int>\\\\\n\\hline\n\t222 & NBA & Lebron James & CLE & SF & 76 & 2710 & 737 & 1416 & 87 & 282 & ⋯ & 104 & 249 & 49 & 143 & 0 & 1920 & 3 & 0 & 0 & 76\\\\\n\\end{tabular}\n",
            "text/markdown": "\nA data.frame: 1 × 25\n\n| <!--/--> | League &lt;fct&gt; | Name &lt;chr&gt; | Team &lt;fct&gt; | Position &lt;fct&gt; | GamesPlayed &lt;int&gt; | TotalMinutesPlayed &lt;int&gt; | FieldGoalsMade &lt;int&gt; | FieldGoalsAttempted &lt;int&gt; | ThreesMade &lt;int&gt; | ThreesAttempted &lt;int&gt; | ⋯ ⋯ | Steals &lt;int&gt; | Turnovers &lt;int&gt; | Blocks &lt;int&gt; | PersonalFouls &lt;int&gt; | Disqualifications &lt;int&gt; | TotalPoints &lt;int&gt; | Technicals &lt;int&gt; | Ejections &lt;int&gt; | FlagrantFouls &lt;int&gt; | GamesStarted &lt;int&gt; |\n|---|---|---|---|---|---|---|---|---|---|---|---|---|---|---|---|---|---|---|---|---|---|\n| 222 | NBA | Lebron James | CLE | SF | 76 | 2710 | 737 | 1416 | 87 | 282 | ⋯ | 104 | 249 | 49 | 143 | 0 | 1920 | 3 | 0 | 0 | 76 |\n\n",
            "text/html": [
              "<table>\n",
              "<caption>A data.frame: 1 × 25</caption>\n",
              "<thead>\n",
              "\t<tr><th></th><th scope=col>League</th><th scope=col>Name</th><th scope=col>Team</th><th scope=col>Position</th><th scope=col>GamesPlayed</th><th scope=col>TotalMinutesPlayed</th><th scope=col>FieldGoalsMade</th><th scope=col>FieldGoalsAttempted</th><th scope=col>ThreesMade</th><th scope=col>ThreesAttempted</th><th scope=col>⋯</th><th scope=col>Steals</th><th scope=col>Turnovers</th><th scope=col>Blocks</th><th scope=col>PersonalFouls</th><th scope=col>Disqualifications</th><th scope=col>TotalPoints</th><th scope=col>Technicals</th><th scope=col>Ejections</th><th scope=col>FlagrantFouls</th><th scope=col>GamesStarted</th></tr>\n",
              "\t<tr><th></th><th scope=col>&lt;fct&gt;</th><th scope=col>&lt;chr&gt;</th><th scope=col>&lt;fct&gt;</th><th scope=col>&lt;fct&gt;</th><th scope=col>&lt;int&gt;</th><th scope=col>&lt;int&gt;</th><th scope=col>&lt;int&gt;</th><th scope=col>&lt;int&gt;</th><th scope=col>&lt;int&gt;</th><th scope=col>&lt;int&gt;</th><th scope=col>⋯</th><th scope=col>&lt;int&gt;</th><th scope=col>&lt;int&gt;</th><th scope=col>&lt;int&gt;</th><th scope=col>&lt;int&gt;</th><th scope=col>&lt;int&gt;</th><th scope=col>&lt;int&gt;</th><th scope=col>&lt;int&gt;</th><th scope=col>&lt;int&gt;</th><th scope=col>&lt;int&gt;</th><th scope=col>&lt;int&gt;</th></tr>\n",
              "</thead>\n",
              "<tbody>\n",
              "\t<tr><th scope=row>222</th><td>NBA</td><td>Lebron James</td><td>CLE</td><td>SF</td><td>76</td><td>2710</td><td>737</td><td>1416</td><td>87</td><td>282</td><td>⋯</td><td>104</td><td>249</td><td>49</td><td>143</td><td>0</td><td>1920</td><td>3</td><td>0</td><td>0</td><td>76</td></tr>\n",
              "</tbody>\n",
              "</table>\n"
            ]
          },
          "metadata": {
            "tags": []
          }
        }
      ]
    },
    {
      "cell_type": "code",
      "metadata": {
        "id": "S83uD-C3oMeS",
        "outputId": "4ccbcb43-bebb-4657-fa66-824962f51929",
        "colab": {
          "base_uri": "https://localhost:8080/",
          "height": 68
        }
      },
      "source": [
        "install.packages(\"data.table\")\n",
        "library(\"data.table\")\n"
      ],
      "execution_count": 45,
      "outputs": [
        {
          "output_type": "stream",
          "text": [
            "Installing package into ‘/usr/local/lib/R/site-library’\n",
            "(as ‘lib’ is unspecified)\n",
            "\n"
          ],
          "name": "stderr"
        }
      ]
    },
    {
      "cell_type": "code",
      "metadata": {
        "id": "8SUeGnRyol8F",
        "outputId": "35f9d1fa-9cce-4952-c9a8-f50537376344",
        "colab": {
          "base_uri": "https://localhost:8080/",
          "height": 805
        }
      },
      "source": [
        "NBA1516DT<-data.table(NBA1516)\n",
        "NBA1516DT[grepl('James',Name)]\n",
        "NBA1516DT[GamePlayed>80]\n",
        "NBA1516DT[grepl('c',Name)&Position==\"PG\"]"
      ],
      "execution_count": 54,
      "outputs": [
        {
          "output_type": "display_data",
          "data": {
            "text/plain": [
              "  League Name           Team Position GamesPlayed TotalMinutesPlayed\n",
              "1 NBA    James Anderson SAC  SG       51           721              \n",
              "2 NBA    James Ennis    NOR  SF       22           329              \n",
              "3 NBA    James Harden   HOU  SG       82          3121              \n",
              "4 NBA    Lebron James   CLE  SF       76          2710              \n",
              "5 NBA    James Johnson  TOR  PF       57           924              \n",
              "6 NBA    James Jones    CLE  SG       48           466              \n",
              "7 NBA    James Mcadoo   GSW  SG       41           265              \n",
              "8 NBA    James Young    BOS  SG       29           200              \n",
              "  FieldGoalsMade FieldGoalsAttempted ThreesMade ThreesAttempted ⋯ Steals\n",
              "1  67             178                 23         86             ⋯  21   \n",
              "2  54             113                 26         58             ⋯  16   \n",
              "3 710            1617                236        656             ⋯ 138   \n",
              "4 737            1416                 87        282             ⋯ 104   \n",
              "5 114             240                 20         66             ⋯  29   \n",
              "6  59             143                 41        104             ⋯  11   \n",
              "7  45              84                  1          2             ⋯  10   \n",
              "8  11              36                  6         26             ⋯   6   \n",
              "  Turnovers Blocks PersonalFouls Disqualifications TotalPoints Technicals\n",
              "1  42       14      54           0                  179        0         \n",
              "2  19        5      28           1                  159        0         \n",
              "3 374       51     229           1                 2376        2         \n",
              "4 249       49     143           0                 1920        3         \n",
              "5  54       33      84           0                  287        0         \n",
              "6  13       10      50           0                  180        1         \n",
              "7  16        8      39           0                  117        0         \n",
              "8   5        1      17           0                   29        0         \n",
              "  Ejections FlagrantFouls GamesStarted\n",
              "1 0         0             15          \n",
              "2 0         0              5          \n",
              "3 0         0             82          \n",
              "4 0         0             76          \n",
              "5 0         0             32          \n",
              "6 0         0              0          \n",
              "7 0         0              1          \n",
              "8 0         0              0          "
            ],
            "text/latex": "A data.table: 8 × 25\n\\begin{tabular}{lllllllllllllllllllll}\n League & Name & Team & Position & GamesPlayed & TotalMinutesPlayed & FieldGoalsMade & FieldGoalsAttempted & ThreesMade & ThreesAttempted & ⋯ & Steals & Turnovers & Blocks & PersonalFouls & Disqualifications & TotalPoints & Technicals & Ejections & FlagrantFouls & GamesStarted\\\\\n <fct> & <chr> & <fct> & <fct> & <int> & <int> & <int> & <int> & <int> & <int> & ⋯ & <int> & <int> & <int> & <int> & <int> & <int> & <int> & <int> & <int> & <int>\\\\\n\\hline\n\t NBA & James Anderson & SAC & SG & 51 &  721 &  67 &  178 &  23 &  86 & ⋯ &  21 &  42 & 14 &  54 & 0 &  179 & 0 & 0 & 0 & 15\\\\\n\t NBA & James Ennis    & NOR & SF & 22 &  329 &  54 &  113 &  26 &  58 & ⋯ &  16 &  19 &  5 &  28 & 1 &  159 & 0 & 0 & 0 &  5\\\\\n\t NBA & James Harden   & HOU & SG & 82 & 3121 & 710 & 1617 & 236 & 656 & ⋯ & 138 & 374 & 51 & 229 & 1 & 2376 & 2 & 0 & 0 & 82\\\\\n\t NBA & Lebron James   & CLE & SF & 76 & 2710 & 737 & 1416 &  87 & 282 & ⋯ & 104 & 249 & 49 & 143 & 0 & 1920 & 3 & 0 & 0 & 76\\\\\n\t NBA & James Johnson  & TOR & PF & 57 &  924 & 114 &  240 &  20 &  66 & ⋯ &  29 &  54 & 33 &  84 & 0 &  287 & 0 & 0 & 0 & 32\\\\\n\t NBA & James Jones    & CLE & SG & 48 &  466 &  59 &  143 &  41 & 104 & ⋯ &  11 &  13 & 10 &  50 & 0 &  180 & 1 & 0 & 0 &  0\\\\\n\t NBA & James Mcadoo   & GSW & SG & 41 &  265 &  45 &   84 &   1 &   2 & ⋯ &  10 &  16 &  8 &  39 & 0 &  117 & 0 & 0 & 0 &  1\\\\\n\t NBA & James Young    & BOS & SG & 29 &  200 &  11 &   36 &   6 &  26 & ⋯ &   6 &   5 &  1 &  17 & 0 &   29 & 0 & 0 & 0 &  0\\\\\n\\end{tabular}\n",
            "text/markdown": "\nA data.table: 8 × 25\n\n| League &lt;fct&gt; | Name &lt;chr&gt; | Team &lt;fct&gt; | Position &lt;fct&gt; | GamesPlayed &lt;int&gt; | TotalMinutesPlayed &lt;int&gt; | FieldGoalsMade &lt;int&gt; | FieldGoalsAttempted &lt;int&gt; | ThreesMade &lt;int&gt; | ThreesAttempted &lt;int&gt; | ⋯ ⋯ | Steals &lt;int&gt; | Turnovers &lt;int&gt; | Blocks &lt;int&gt; | PersonalFouls &lt;int&gt; | Disqualifications &lt;int&gt; | TotalPoints &lt;int&gt; | Technicals &lt;int&gt; | Ejections &lt;int&gt; | FlagrantFouls &lt;int&gt; | GamesStarted &lt;int&gt; |\n|---|---|---|---|---|---|---|---|---|---|---|---|---|---|---|---|---|---|---|---|---|\n| NBA | James Anderson | SAC | SG | 51 |  721 |  67 |  178 |  23 |  86 | ⋯ |  21 |  42 | 14 |  54 | 0 |  179 | 0 | 0 | 0 | 15 |\n| NBA | James Ennis    | NOR | SF | 22 |  329 |  54 |  113 |  26 |  58 | ⋯ |  16 |  19 |  5 |  28 | 1 |  159 | 0 | 0 | 0 |  5 |\n| NBA | James Harden   | HOU | SG | 82 | 3121 | 710 | 1617 | 236 | 656 | ⋯ | 138 | 374 | 51 | 229 | 1 | 2376 | 2 | 0 | 0 | 82 |\n| NBA | Lebron James   | CLE | SF | 76 | 2710 | 737 | 1416 |  87 | 282 | ⋯ | 104 | 249 | 49 | 143 | 0 | 1920 | 3 | 0 | 0 | 76 |\n| NBA | James Johnson  | TOR | PF | 57 |  924 | 114 |  240 |  20 |  66 | ⋯ |  29 |  54 | 33 |  84 | 0 |  287 | 0 | 0 | 0 | 32 |\n| NBA | James Jones    | CLE | SG | 48 |  466 |  59 |  143 |  41 | 104 | ⋯ |  11 |  13 | 10 |  50 | 0 |  180 | 1 | 0 | 0 |  0 |\n| NBA | James Mcadoo   | GSW | SG | 41 |  265 |  45 |   84 |   1 |   2 | ⋯ |  10 |  16 |  8 |  39 | 0 |  117 | 0 | 0 | 0 |  1 |\n| NBA | James Young    | BOS | SG | 29 |  200 |  11 |   36 |   6 |  26 | ⋯ |   6 |   5 |  1 |  17 | 0 |   29 | 0 | 0 | 0 |  0 |\n\n",
            "text/html": [
              "<table>\n",
              "<caption>A data.table: 8 × 25</caption>\n",
              "<thead>\n",
              "\t<tr><th scope=col>League</th><th scope=col>Name</th><th scope=col>Team</th><th scope=col>Position</th><th scope=col>GamesPlayed</th><th scope=col>TotalMinutesPlayed</th><th scope=col>FieldGoalsMade</th><th scope=col>FieldGoalsAttempted</th><th scope=col>ThreesMade</th><th scope=col>ThreesAttempted</th><th scope=col>⋯</th><th scope=col>Steals</th><th scope=col>Turnovers</th><th scope=col>Blocks</th><th scope=col>PersonalFouls</th><th scope=col>Disqualifications</th><th scope=col>TotalPoints</th><th scope=col>Technicals</th><th scope=col>Ejections</th><th scope=col>FlagrantFouls</th><th scope=col>GamesStarted</th></tr>\n",
              "\t<tr><th scope=col>&lt;fct&gt;</th><th scope=col>&lt;chr&gt;</th><th scope=col>&lt;fct&gt;</th><th scope=col>&lt;fct&gt;</th><th scope=col>&lt;int&gt;</th><th scope=col>&lt;int&gt;</th><th scope=col>&lt;int&gt;</th><th scope=col>&lt;int&gt;</th><th scope=col>&lt;int&gt;</th><th scope=col>&lt;int&gt;</th><th scope=col>⋯</th><th scope=col>&lt;int&gt;</th><th scope=col>&lt;int&gt;</th><th scope=col>&lt;int&gt;</th><th scope=col>&lt;int&gt;</th><th scope=col>&lt;int&gt;</th><th scope=col>&lt;int&gt;</th><th scope=col>&lt;int&gt;</th><th scope=col>&lt;int&gt;</th><th scope=col>&lt;int&gt;</th><th scope=col>&lt;int&gt;</th></tr>\n",
              "</thead>\n",
              "<tbody>\n",
              "\t<tr><td>NBA</td><td>James Anderson</td><td>SAC</td><td>SG</td><td>51</td><td> 721</td><td> 67</td><td> 178</td><td> 23</td><td> 86</td><td>⋯</td><td> 21</td><td> 42</td><td>14</td><td> 54</td><td>0</td><td> 179</td><td>0</td><td>0</td><td>0</td><td>15</td></tr>\n",
              "\t<tr><td>NBA</td><td>James Ennis   </td><td>NOR</td><td>SF</td><td>22</td><td> 329</td><td> 54</td><td> 113</td><td> 26</td><td> 58</td><td>⋯</td><td> 16</td><td> 19</td><td> 5</td><td> 28</td><td>1</td><td> 159</td><td>0</td><td>0</td><td>0</td><td> 5</td></tr>\n",
              "\t<tr><td>NBA</td><td>James Harden  </td><td>HOU</td><td>SG</td><td>82</td><td>3121</td><td>710</td><td>1617</td><td>236</td><td>656</td><td>⋯</td><td>138</td><td>374</td><td>51</td><td>229</td><td>1</td><td>2376</td><td>2</td><td>0</td><td>0</td><td>82</td></tr>\n",
              "\t<tr><td>NBA</td><td>Lebron James  </td><td>CLE</td><td>SF</td><td>76</td><td>2710</td><td>737</td><td>1416</td><td> 87</td><td>282</td><td>⋯</td><td>104</td><td>249</td><td>49</td><td>143</td><td>0</td><td>1920</td><td>3</td><td>0</td><td>0</td><td>76</td></tr>\n",
              "\t<tr><td>NBA</td><td>James Johnson </td><td>TOR</td><td>PF</td><td>57</td><td> 924</td><td>114</td><td> 240</td><td> 20</td><td> 66</td><td>⋯</td><td> 29</td><td> 54</td><td>33</td><td> 84</td><td>0</td><td> 287</td><td>0</td><td>0</td><td>0</td><td>32</td></tr>\n",
              "\t<tr><td>NBA</td><td>James Jones   </td><td>CLE</td><td>SG</td><td>48</td><td> 466</td><td> 59</td><td> 143</td><td> 41</td><td>104</td><td>⋯</td><td> 11</td><td> 13</td><td>10</td><td> 50</td><td>0</td><td> 180</td><td>1</td><td>0</td><td>0</td><td> 0</td></tr>\n",
              "\t<tr><td>NBA</td><td>James Mcadoo  </td><td>GSW</td><td>SG</td><td>41</td><td> 265</td><td> 45</td><td>  84</td><td>  1</td><td>  2</td><td>⋯</td><td> 10</td><td> 16</td><td> 8</td><td> 39</td><td>0</td><td> 117</td><td>0</td><td>0</td><td>0</td><td> 1</td></tr>\n",
              "\t<tr><td>NBA</td><td>James Young   </td><td>BOS</td><td>SG</td><td>29</td><td> 200</td><td> 11</td><td>  36</td><td>  6</td><td> 26</td><td>⋯</td><td>  6</td><td>  5</td><td> 1</td><td> 17</td><td>0</td><td>  29</td><td>0</td><td>0</td><td>0</td><td> 0</td></tr>\n",
              "</tbody>\n",
              "</table>\n"
            ]
          },
          "metadata": {
            "tags": []
          }
        },
        {
          "output_type": "error",
          "ename": "ERROR",
          "evalue": "ignored",
          "traceback": [
            "Error in .checkTypos(e, names_x): Object 'GamePlayed' not found. Perhaps you intended GamesPlayed\nTraceback:\n",
            "1. NBA1516DT[GamePlayed > 80]",
            "2. `[.data.table`(NBA1516DT, GamePlayed > 80)",
            "3. tryCatch(eval(.massagei(isub), x, ienv), error = function(e) {\n .     if (grepl(\":=.*defined for use in j.*only\", e$message)) \n .         stop(\"Operator := detected in i, the first argument inside DT[...], but is only valid in the second argument, j. Most often, this happens when forgetting the first comma (e.g. DT[newvar := 5] instead of DT[ , new_var := 5]). Please double-check the syntax. Run traceback(), and debugger() to get a line number.\")\n .     else .checkTypos(e, names_x)\n . })",
            "4. tryCatchList(expr, classes, parentenv, handlers)",
            "5. tryCatchOne(expr, names, parentenv, handlers[[1L]])",
            "6. value[[3L]](cond)",
            "7. .checkTypos(e, names_x)",
            "8. stop(\"Object '\", used, \"' not found. Perhaps you intended \", \n .     paste(head(found, 5L), collapse = \", \"), if (length(found) <= \n .         5L) \"\" else paste(\" or\", length(found) - 5L, \"more\"))"
          ]
        }
      ]
    },
    {
      "cell_type": "code",
      "metadata": {
        "id": "rT97upa_q5MW"
      },
      "source": [
        "NBA1516DT<-data.table(NBA1516)"
      ],
      "execution_count": 56,
      "outputs": []
    },
    {
      "cell_type": "code",
      "metadata": {
        "id": "1qk3Imm7qJ__",
        "outputId": "0b74e6c6-9d58-44ef-c435-5442ea53b440",
        "colab": {
          "base_uri": "https://localhost:8080/",
          "height": 402
        }
      },
      "source": [
        "NBA1516DT[grepl('James',Name)]"
      ],
      "execution_count": 47,
      "outputs": [
        {
          "output_type": "display_data",
          "data": {
            "text/plain": [
              "  League Name           Team Position GamesPlayed TotalMinutesPlayed\n",
              "1 NBA    James Anderson SAC  SG       51           721              \n",
              "2 NBA    James Ennis    NOR  SF       22           329              \n",
              "3 NBA    James Harden   HOU  SG       82          3121              \n",
              "4 NBA    Lebron James   CLE  SF       76          2710              \n",
              "5 NBA    James Johnson  TOR  PF       57           924              \n",
              "6 NBA    James Jones    CLE  SG       48           466              \n",
              "7 NBA    James Mcadoo   GSW  SG       41           265              \n",
              "8 NBA    James Young    BOS  SG       29           200              \n",
              "  FieldGoalsMade FieldGoalsAttempted ThreesMade ThreesAttempted ⋯ Steals\n",
              "1  67             178                 23         86             ⋯  21   \n",
              "2  54             113                 26         58             ⋯  16   \n",
              "3 710            1617                236        656             ⋯ 138   \n",
              "4 737            1416                 87        282             ⋯ 104   \n",
              "5 114             240                 20         66             ⋯  29   \n",
              "6  59             143                 41        104             ⋯  11   \n",
              "7  45              84                  1          2             ⋯  10   \n",
              "8  11              36                  6         26             ⋯   6   \n",
              "  Turnovers Blocks PersonalFouls Disqualifications TotalPoints Technicals\n",
              "1  42       14      54           0                  179        0         \n",
              "2  19        5      28           1                  159        0         \n",
              "3 374       51     229           1                 2376        2         \n",
              "4 249       49     143           0                 1920        3         \n",
              "5  54       33      84           0                  287        0         \n",
              "6  13       10      50           0                  180        1         \n",
              "7  16        8      39           0                  117        0         \n",
              "8   5        1      17           0                   29        0         \n",
              "  Ejections FlagrantFouls GamesStarted\n",
              "1 0         0             15          \n",
              "2 0         0              5          \n",
              "3 0         0             82          \n",
              "4 0         0             76          \n",
              "5 0         0             32          \n",
              "6 0         0              0          \n",
              "7 0         0              1          \n",
              "8 0         0              0          "
            ],
            "text/latex": "A data.table: 8 × 25\n\\begin{tabular}{lllllllllllllllllllll}\n League & Name & Team & Position & GamesPlayed & TotalMinutesPlayed & FieldGoalsMade & FieldGoalsAttempted & ThreesMade & ThreesAttempted & ⋯ & Steals & Turnovers & Blocks & PersonalFouls & Disqualifications & TotalPoints & Technicals & Ejections & FlagrantFouls & GamesStarted\\\\\n <fct> & <chr> & <fct> & <fct> & <int> & <int> & <int> & <int> & <int> & <int> & ⋯ & <int> & <int> & <int> & <int> & <int> & <int> & <int> & <int> & <int> & <int>\\\\\n\\hline\n\t NBA & James Anderson & SAC & SG & 51 &  721 &  67 &  178 &  23 &  86 & ⋯ &  21 &  42 & 14 &  54 & 0 &  179 & 0 & 0 & 0 & 15\\\\\n\t NBA & James Ennis    & NOR & SF & 22 &  329 &  54 &  113 &  26 &  58 & ⋯ &  16 &  19 &  5 &  28 & 1 &  159 & 0 & 0 & 0 &  5\\\\\n\t NBA & James Harden   & HOU & SG & 82 & 3121 & 710 & 1617 & 236 & 656 & ⋯ & 138 & 374 & 51 & 229 & 1 & 2376 & 2 & 0 & 0 & 82\\\\\n\t NBA & Lebron James   & CLE & SF & 76 & 2710 & 737 & 1416 &  87 & 282 & ⋯ & 104 & 249 & 49 & 143 & 0 & 1920 & 3 & 0 & 0 & 76\\\\\n\t NBA & James Johnson  & TOR & PF & 57 &  924 & 114 &  240 &  20 &  66 & ⋯ &  29 &  54 & 33 &  84 & 0 &  287 & 0 & 0 & 0 & 32\\\\\n\t NBA & James Jones    & CLE & SG & 48 &  466 &  59 &  143 &  41 & 104 & ⋯ &  11 &  13 & 10 &  50 & 0 &  180 & 1 & 0 & 0 &  0\\\\\n\t NBA & James Mcadoo   & GSW & SG & 41 &  265 &  45 &   84 &   1 &   2 & ⋯ &  10 &  16 &  8 &  39 & 0 &  117 & 0 & 0 & 0 &  1\\\\\n\t NBA & James Young    & BOS & SG & 29 &  200 &  11 &   36 &   6 &  26 & ⋯ &   6 &   5 &  1 &  17 & 0 &   29 & 0 & 0 & 0 &  0\\\\\n\\end{tabular}\n",
            "text/markdown": "\nA data.table: 8 × 25\n\n| League &lt;fct&gt; | Name &lt;chr&gt; | Team &lt;fct&gt; | Position &lt;fct&gt; | GamesPlayed &lt;int&gt; | TotalMinutesPlayed &lt;int&gt; | FieldGoalsMade &lt;int&gt; | FieldGoalsAttempted &lt;int&gt; | ThreesMade &lt;int&gt; | ThreesAttempted &lt;int&gt; | ⋯ ⋯ | Steals &lt;int&gt; | Turnovers &lt;int&gt; | Blocks &lt;int&gt; | PersonalFouls &lt;int&gt; | Disqualifications &lt;int&gt; | TotalPoints &lt;int&gt; | Technicals &lt;int&gt; | Ejections &lt;int&gt; | FlagrantFouls &lt;int&gt; | GamesStarted &lt;int&gt; |\n|---|---|---|---|---|---|---|---|---|---|---|---|---|---|---|---|---|---|---|---|---|\n| NBA | James Anderson | SAC | SG | 51 |  721 |  67 |  178 |  23 |  86 | ⋯ |  21 |  42 | 14 |  54 | 0 |  179 | 0 | 0 | 0 | 15 |\n| NBA | James Ennis    | NOR | SF | 22 |  329 |  54 |  113 |  26 |  58 | ⋯ |  16 |  19 |  5 |  28 | 1 |  159 | 0 | 0 | 0 |  5 |\n| NBA | James Harden   | HOU | SG | 82 | 3121 | 710 | 1617 | 236 | 656 | ⋯ | 138 | 374 | 51 | 229 | 1 | 2376 | 2 | 0 | 0 | 82 |\n| NBA | Lebron James   | CLE | SF | 76 | 2710 | 737 | 1416 |  87 | 282 | ⋯ | 104 | 249 | 49 | 143 | 0 | 1920 | 3 | 0 | 0 | 76 |\n| NBA | James Johnson  | TOR | PF | 57 |  924 | 114 |  240 |  20 |  66 | ⋯ |  29 |  54 | 33 |  84 | 0 |  287 | 0 | 0 | 0 | 32 |\n| NBA | James Jones    | CLE | SG | 48 |  466 |  59 |  143 |  41 | 104 | ⋯ |  11 |  13 | 10 |  50 | 0 |  180 | 1 | 0 | 0 |  0 |\n| NBA | James Mcadoo   | GSW | SG | 41 |  265 |  45 |   84 |   1 |   2 | ⋯ |  10 |  16 |  8 |  39 | 0 |  117 | 0 | 0 | 0 |  1 |\n| NBA | James Young    | BOS | SG | 29 |  200 |  11 |   36 |   6 |  26 | ⋯ |   6 |   5 |  1 |  17 | 0 |   29 | 0 | 0 | 0 |  0 |\n\n",
            "text/html": [
              "<table>\n",
              "<caption>A data.table: 8 × 25</caption>\n",
              "<thead>\n",
              "\t<tr><th scope=col>League</th><th scope=col>Name</th><th scope=col>Team</th><th scope=col>Position</th><th scope=col>GamesPlayed</th><th scope=col>TotalMinutesPlayed</th><th scope=col>FieldGoalsMade</th><th scope=col>FieldGoalsAttempted</th><th scope=col>ThreesMade</th><th scope=col>ThreesAttempted</th><th scope=col>⋯</th><th scope=col>Steals</th><th scope=col>Turnovers</th><th scope=col>Blocks</th><th scope=col>PersonalFouls</th><th scope=col>Disqualifications</th><th scope=col>TotalPoints</th><th scope=col>Technicals</th><th scope=col>Ejections</th><th scope=col>FlagrantFouls</th><th scope=col>GamesStarted</th></tr>\n",
              "\t<tr><th scope=col>&lt;fct&gt;</th><th scope=col>&lt;chr&gt;</th><th scope=col>&lt;fct&gt;</th><th scope=col>&lt;fct&gt;</th><th scope=col>&lt;int&gt;</th><th scope=col>&lt;int&gt;</th><th scope=col>&lt;int&gt;</th><th scope=col>&lt;int&gt;</th><th scope=col>&lt;int&gt;</th><th scope=col>&lt;int&gt;</th><th scope=col>⋯</th><th scope=col>&lt;int&gt;</th><th scope=col>&lt;int&gt;</th><th scope=col>&lt;int&gt;</th><th scope=col>&lt;int&gt;</th><th scope=col>&lt;int&gt;</th><th scope=col>&lt;int&gt;</th><th scope=col>&lt;int&gt;</th><th scope=col>&lt;int&gt;</th><th scope=col>&lt;int&gt;</th><th scope=col>&lt;int&gt;</th></tr>\n",
              "</thead>\n",
              "<tbody>\n",
              "\t<tr><td>NBA</td><td>James Anderson</td><td>SAC</td><td>SG</td><td>51</td><td> 721</td><td> 67</td><td> 178</td><td> 23</td><td> 86</td><td>⋯</td><td> 21</td><td> 42</td><td>14</td><td> 54</td><td>0</td><td> 179</td><td>0</td><td>0</td><td>0</td><td>15</td></tr>\n",
              "\t<tr><td>NBA</td><td>James Ennis   </td><td>NOR</td><td>SF</td><td>22</td><td> 329</td><td> 54</td><td> 113</td><td> 26</td><td> 58</td><td>⋯</td><td> 16</td><td> 19</td><td> 5</td><td> 28</td><td>1</td><td> 159</td><td>0</td><td>0</td><td>0</td><td> 5</td></tr>\n",
              "\t<tr><td>NBA</td><td>James Harden  </td><td>HOU</td><td>SG</td><td>82</td><td>3121</td><td>710</td><td>1617</td><td>236</td><td>656</td><td>⋯</td><td>138</td><td>374</td><td>51</td><td>229</td><td>1</td><td>2376</td><td>2</td><td>0</td><td>0</td><td>82</td></tr>\n",
              "\t<tr><td>NBA</td><td>Lebron James  </td><td>CLE</td><td>SF</td><td>76</td><td>2710</td><td>737</td><td>1416</td><td> 87</td><td>282</td><td>⋯</td><td>104</td><td>249</td><td>49</td><td>143</td><td>0</td><td>1920</td><td>3</td><td>0</td><td>0</td><td>76</td></tr>\n",
              "\t<tr><td>NBA</td><td>James Johnson </td><td>TOR</td><td>PF</td><td>57</td><td> 924</td><td>114</td><td> 240</td><td> 20</td><td> 66</td><td>⋯</td><td> 29</td><td> 54</td><td>33</td><td> 84</td><td>0</td><td> 287</td><td>0</td><td>0</td><td>0</td><td>32</td></tr>\n",
              "\t<tr><td>NBA</td><td>James Jones   </td><td>CLE</td><td>SG</td><td>48</td><td> 466</td><td> 59</td><td> 143</td><td> 41</td><td>104</td><td>⋯</td><td> 11</td><td> 13</td><td>10</td><td> 50</td><td>0</td><td> 180</td><td>1</td><td>0</td><td>0</td><td> 0</td></tr>\n",
              "\t<tr><td>NBA</td><td>James Mcadoo  </td><td>GSW</td><td>SG</td><td>41</td><td> 265</td><td> 45</td><td>  84</td><td>  1</td><td>  2</td><td>⋯</td><td> 10</td><td> 16</td><td> 8</td><td> 39</td><td>0</td><td> 117</td><td>0</td><td>0</td><td>0</td><td> 1</td></tr>\n",
              "\t<tr><td>NBA</td><td>James Young   </td><td>BOS</td><td>SG</td><td>29</td><td> 200</td><td> 11</td><td>  36</td><td>  6</td><td> 26</td><td>⋯</td><td>  6</td><td>  5</td><td> 1</td><td> 17</td><td>0</td><td>  29</td><td>0</td><td>0</td><td>0</td><td> 0</td></tr>\n",
              "</tbody>\n",
              "</table>\n"
            ]
          },
          "metadata": {
            "tags": []
          }
        }
      ]
    },
    {
      "cell_type": "code",
      "metadata": {
        "id": "9Nw0p1knrBmy",
        "outputId": "d0ad090b-77c1-45bc-9a6b-2242d09ba809",
        "colab": {
          "base_uri": "https://localhost:8080/",
          "height": 1000
        }
      },
      "source": [
        "NBA1516DT[GamesPlayed>80]"
      ],
      "execution_count": 52,
      "outputs": [
        {
          "output_type": "display_data",
          "data": {
            "text/plain": [
              "   League Name             Team Position GamesPlayed TotalMinutesPlayed\n",
              "1  NBA    Al-farouq Aminu  POR  SF       82          2342              \n",
              "2  NBA    Trevor Ariza     HOU  SF       81          2860              \n",
              "3  NBA    Will Barton      DEN  SG       82          2355              \n",
              "4  NBA    Aron Baynes      DET  PF       81          1241              \n",
              "5  NBA    Bismack Biyombo  TOR  PF       82          1810              \n",
              "6  NBA    Corey Brewer     HOU  SG       82          1670              \n",
              "7  NBA    Allen Crabbe     POR  SF       81          2111              \n",
              "8  NBA    Ed Davis         POR  PF       81          1684              \n",
              "9  NBA    Gorgui Dieng     MIN  C        82          2222              \n",
              "10 NBA    Andre Drummond   DET  C        81          2664              \n",
              "11 NBA    Jared Dudley     WAS  SG       81          2098              \n",
              "12 NBA    Monta Ellis      IND  PG       81          2733              \n",
              "13 NBA    Randy Foye       OKC  SG       81          1640              \n",
              "14 NBA    Langsto Galloway NYK  PG       82          2032              \n",
              "15 NBA    Paul George      IND  SF       81          2828              \n",
              "16 NBA    Draymond Green   GSW  SF       81          2807              \n",
              "17 NBA    James Harden     HOU  SG       82          3121              \n",
              "18 NBA    Roy Hibbert      LAL  C        81          1881              \n",
              "19 NBA    Al Horford       ATL  PF       82          2638              \n",
              "20 NBA    Joe Ingles       UTA  SF       81          1241              \n",
              "21 NBA    Joe Johnson      MIA  SF       81          2703              \n",
              "22 NBA    Frank Kaminsky   CHA  PF       81          1713              \n",
              "23 NBA    Enes Kanter      OKL  C        82          1721              \n",
              "24 NBA    Zach Lavine      MIN  PG       82          2295              \n",
              "25 NBA    Robin Lopez      NYK  C        82          2213              \n",
              "26 NBA    T.j. Mcconnell   PHI  PG       81          1609              \n",
              "27 NBA    Doug Mcdermott   CHI  SF       81          1860              \n",
              "28 NBA    Patty Mills      SAN  PG       81          1659              \n",
              "29 NBA    Paul Millsap     ATL  PF       81          2640              \n",
              "30 NBA    Shabazz Muhammad MIN  SF       82          1678              \n",
              "31 NBA    Raul Neto        UTA  PG       81          1501              \n",
              "32 NBA    Mason Plumlee    POR  PF       82          2087              \n",
              "33 NBA    Julius Randle    LAL  PF       81          2287              \n",
              "34 NBA    Ramon Sessions   WAS  PG       82          1667              \n",
              "35 NBA    Jared Sullinger  BOS  PF       81          1917              \n",
              "36 NBA    Isaiah Thomas    BOS  PG       82          2647              \n",
              "37 NBA    Tristan Thompson CLE  C        82          2269              \n",
              "38 NBA    Karl-antho Towns MIN  C        82          2621              \n",
              "39 NBA    P.j. Tucker      PHO  SF       82          2540              \n",
              "40 NBA    Evan Turner      BOS  SG       81          2270              \n",
              "41 NBA    Kemba Walker     CHA  PG       81          2885              \n",
              "42 NBA    Andrew Wiggins   MIN  SF       81          2844              \n",
              "43 NBA    Marvin Williams  CHA  PF       81          2339              \n",
              "   FieldGoalsMade FieldGoalsAttempted ThreesMade ThreesAttempted ⋯ Steals\n",
              "1  299             719                126        349             ⋯  72   \n",
              "2  357             858                185        497             ⋯ 161   \n",
              "3  426             984                112        324             ⋯  71   \n",
              "4  194             384                  0          2             ⋯  21   \n",
              "5  156             288                  0          1             ⋯  19   \n",
              "6  212             552                 61        225             ⋯  84   \n",
              "7  312             678                112        284             ⋯  63   \n",
              "8  206             337                  0          0             ⋯  57   \n",
              "9  308             578                  6         20             ⋯  94   \n",
              "10 552            1061                  2          6             ⋯ 119   \n",
              "11 233             487                100        239             ⋯  75   \n",
              "12 436            1021                 87        281             ⋯ 149   \n",
              "13 168             481                 75        250             ⋯  39   \n",
              "14 231             588                 77        224             ⋯  77   \n",
              "15 605            1448                210        565             ⋯ 152   \n",
              "16 401             819                100        258             ⋯ 118   \n",
              "17 710            1617                236        656             ⋯ 138   \n",
              "18 182             411                  0          2             ⋯  32   \n",
              "19 529            1049                 88        257             ⋯  67   \n",
              "20 124             291                 81        210             ⋯  55   \n",
              "21 377             859                120        313             ⋯  61   \n",
              "22 215             525                 68        202             ⋯  37   \n",
              "23 415             720                 10         21             ⋯  26   \n",
              "24 433             960                123        316             ⋯  69   \n",
              "25 357             662                  0          1             ⋯  16   \n",
              "26 218             464                 31         89             ⋯  95   \n",
              "27 291             644                110        259             ⋯  14   \n",
              "28 260             612                123        320             ⋯  59   \n",
              "29 501            1067                 74        232             ⋯ 148   \n",
              "30 317             681                 44        152             ⋯  24   \n",
              "31 180             418                 64        162             ⋯  62   \n",
              "32 267             517                  0          4             ⋯  68   \n",
              "33 358             835                 10         36             ⋯  53   \n",
              "34 280             592                 36        111             ⋯  47   \n",
              "35 351             807                 29        104             ⋯  75   \n",
              "36 591            1382                167        465             ⋯  91   \n",
              "37 247             420                  0          0             ⋯  38   \n",
              "38 625            1152                 30         88             ⋯  58   \n",
              "39 239             582                 68        206             ⋯ 106   \n",
              "40 343             753                 20         83             ⋯  80   \n",
              "41 568            1332                182        490             ⋯ 127   \n",
              "42 594            1294                 57        190             ⋯  78   \n",
              "43 338             747                152        379             ⋯  58   \n",
              "   Turnovers Blocks PersonalFouls Disqualifications TotalPoints Technicals\n",
              "1  120        53    171           0                  839         3        \n",
              "2  113        26    177           0                 1025         2        \n",
              "3  139        39    147           0                 1180         2        \n",
              "4   67        52    151           0                  514         0        \n",
              "5   71       133    225           2                  454         3        \n",
              "6   78        19    168           1                  590         0        \n",
              "7   64        16    192           2                  834         0        \n",
              "8   64        72    202           2                  526         2        \n",
              "9  140        96    219           0                  827         1        \n",
              "10 154       112    245           2                 1314         7        \n",
              "11  80        18    190           1                  638         1        \n",
              "12 203        38    174           0                 1121         1        \n",
              "13  86        29    131           0                  472         0        \n",
              "14  61        22    177           2                  625         0        \n",
              "15 265        29    230           1                 1874         6        \n",
              "16 259       111    240           2                 1131        11        \n",
              "17 374        51    229           1                 2376         2        \n",
              "18  76       110    252           3                  481         2        \n",
              "19 107       122    163           0                 1249         1        \n",
              "20  65         4     98           0                  342         1        \n",
              "21 160         4    146           0                  992         1        \n",
              "22  58        43    126           0                  606         0        \n",
              "23 115        33    166           1                 1040         2        \n",
              "24 155        17    193           1                 1150         0        \n",
              "25 133       129    182           2                  842         3        \n",
              "26 140        10    114           0                  493         0        \n",
              "27  52         6    127           0                  764         0        \n",
              "28  76         6    102           0                  690         0        \n",
              "29 191       140    237           2                 1385         4        \n",
              "30  70         7     94           0                  863         0        \n",
              "31 109         2    122           1                  476         0        \n",
              "32 154        82    253           4                  749         1        \n",
              "33 149        29    242           2                  919         0        \n",
              "34 115         5    102           0                  810         0        \n",
              "35 102        47    209           2                  834         2        \n",
              "36 220         9    167           1                 1823         9        \n",
              "37  61        51    202           0                  643         1        \n",
              "38 183       138    245           1                 1503         2        \n",
              "39 111        20    202           3                  652         4        \n",
              "40 169        28    139           0                  854         2        \n",
              "41 171        39    111           0                 1689         5        \n",
              "42 182        46    165           1                 1675         1        \n",
              "43  62        77    133           1                  948         0        \n",
              "   Ejections FlagrantFouls GamesStarted\n",
              "1  0         0             82          \n",
              "2  0         0             81          \n",
              "3  0         0              1          \n",
              "4  0         0              1          \n",
              "5  0         0             22          \n",
              "6  0         0             12          \n",
              "7  0         0              8          \n",
              "8  0         0              0          \n",
              "9  0         0             39          \n",
              "10 0         0             81          \n",
              "11 0         0             41          \n",
              "12 0         0             81          \n",
              "13 0         0              8          \n",
              "14 0         0              7          \n",
              "15 0         0             81          \n",
              "16 0         0             81          \n",
              "17 0         0             82          \n",
              "18 0         0             81          \n",
              "19 0         0             82          \n",
              "20 0         0              2          \n",
              "21 0         0             81          \n",
              "22 0         0              3          \n",
              "23 0         0              1          \n",
              "24 0         0             33          \n",
              "25 0         0             82          \n",
              "26 0         0             17          \n",
              "27 0         0              4          \n",
              "28 0         0              3          \n",
              "29 0         0             81          \n",
              "30 0         0              0          \n",
              "31 0         0             53          \n",
              "32 0         0             82          \n",
              "33 0         0             60          \n",
              "34 0         0              5          \n",
              "35 0         0             73          \n",
              "36 0         0             79          \n",
              "37 0         0             34          \n",
              "38 0         0             82          \n",
              "39 0         0             80          \n",
              "40 0         0             12          \n",
              "41 0         0             81          \n",
              "42 0         0             81          \n",
              "43 0         0             81          "
            ],
            "text/latex": "A data.table: 43 × 25\n\\begin{tabular}{lllllllllllllllllllll}\n League & Name & Team & Position & GamesPlayed & TotalMinutesPlayed & FieldGoalsMade & FieldGoalsAttempted & ThreesMade & ThreesAttempted & ⋯ & Steals & Turnovers & Blocks & PersonalFouls & Disqualifications & TotalPoints & Technicals & Ejections & FlagrantFouls & GamesStarted\\\\\n <fct> & <chr> & <fct> & <fct> & <int> & <int> & <int> & <int> & <int> & <int> & ⋯ & <int> & <int> & <int> & <int> & <int> & <int> & <int> & <int> & <int> & <int>\\\\\n\\hline\n\t NBA & Al-farouq Aminu  & POR & SF & 82 & 2342 & 299 &  719 & 126 & 349 & ⋯ &  72 & 120 &  53 & 171 & 0 &  839 &  3 & 0 & 0 & 82\\\\\n\t NBA & Trevor Ariza     & HOU & SF & 81 & 2860 & 357 &  858 & 185 & 497 & ⋯ & 161 & 113 &  26 & 177 & 0 & 1025 &  2 & 0 & 0 & 81\\\\\n\t NBA & Will Barton      & DEN & SG & 82 & 2355 & 426 &  984 & 112 & 324 & ⋯ &  71 & 139 &  39 & 147 & 0 & 1180 &  2 & 0 & 0 &  1\\\\\n\t NBA & Aron Baynes      & DET & PF & 81 & 1241 & 194 &  384 &   0 &   2 & ⋯ &  21 &  67 &  52 & 151 & 0 &  514 &  0 & 0 & 0 &  1\\\\\n\t NBA & Bismack Biyombo  & TOR & PF & 82 & 1810 & 156 &  288 &   0 &   1 & ⋯ &  19 &  71 & 133 & 225 & 2 &  454 &  3 & 0 & 0 & 22\\\\\n\t NBA & Corey Brewer     & HOU & SG & 82 & 1670 & 212 &  552 &  61 & 225 & ⋯ &  84 &  78 &  19 & 168 & 1 &  590 &  0 & 0 & 0 & 12\\\\\n\t NBA & Allen Crabbe     & POR & SF & 81 & 2111 & 312 &  678 & 112 & 284 & ⋯ &  63 &  64 &  16 & 192 & 2 &  834 &  0 & 0 & 0 &  8\\\\\n\t NBA & Ed Davis         & POR & PF & 81 & 1684 & 206 &  337 &   0 &   0 & ⋯ &  57 &  64 &  72 & 202 & 2 &  526 &  2 & 0 & 0 &  0\\\\\n\t NBA & Gorgui Dieng     & MIN & C  & 82 & 2222 & 308 &  578 &   6 &  20 & ⋯ &  94 & 140 &  96 & 219 & 0 &  827 &  1 & 0 & 0 & 39\\\\\n\t NBA & Andre Drummond   & DET & C  & 81 & 2664 & 552 & 1061 &   2 &   6 & ⋯ & 119 & 154 & 112 & 245 & 2 & 1314 &  7 & 0 & 0 & 81\\\\\n\t NBA & Jared Dudley     & WAS & SG & 81 & 2098 & 233 &  487 & 100 & 239 & ⋯ &  75 &  80 &  18 & 190 & 1 &  638 &  1 & 0 & 0 & 41\\\\\n\t NBA & Monta Ellis      & IND & PG & 81 & 2733 & 436 & 1021 &  87 & 281 & ⋯ & 149 & 203 &  38 & 174 & 0 & 1121 &  1 & 0 & 0 & 81\\\\\n\t NBA & Randy Foye       & OKC & SG & 81 & 1640 & 168 &  481 &  75 & 250 & ⋯ &  39 &  86 &  29 & 131 & 0 &  472 &  0 & 0 & 0 &  8\\\\\n\t NBA & Langsto Galloway & NYK & PG & 82 & 2032 & 231 &  588 &  77 & 224 & ⋯ &  77 &  61 &  22 & 177 & 2 &  625 &  0 & 0 & 0 &  7\\\\\n\t NBA & Paul George      & IND & SF & 81 & 2828 & 605 & 1448 & 210 & 565 & ⋯ & 152 & 265 &  29 & 230 & 1 & 1874 &  6 & 0 & 0 & 81\\\\\n\t NBA & Draymond Green   & GSW & SF & 81 & 2807 & 401 &  819 & 100 & 258 & ⋯ & 118 & 259 & 111 & 240 & 2 & 1131 & 11 & 0 & 0 & 81\\\\\n\t NBA & James Harden     & HOU & SG & 82 & 3121 & 710 & 1617 & 236 & 656 & ⋯ & 138 & 374 &  51 & 229 & 1 & 2376 &  2 & 0 & 0 & 82\\\\\n\t NBA & Roy Hibbert      & LAL & C  & 81 & 1881 & 182 &  411 &   0 &   2 & ⋯ &  32 &  76 & 110 & 252 & 3 &  481 &  2 & 0 & 0 & 81\\\\\n\t NBA & Al Horford       & ATL & PF & 82 & 2638 & 529 & 1049 &  88 & 257 & ⋯ &  67 & 107 & 122 & 163 & 0 & 1249 &  1 & 0 & 0 & 82\\\\\n\t NBA & Joe Ingles       & UTA & SF & 81 & 1241 & 124 &  291 &  81 & 210 & ⋯ &  55 &  65 &   4 &  98 & 0 &  342 &  1 & 0 & 0 &  2\\\\\n\t NBA & Joe Johnson      & MIA & SF & 81 & 2703 & 377 &  859 & 120 & 313 & ⋯ &  61 & 160 &   4 & 146 & 0 &  992 &  1 & 0 & 0 & 81\\\\\n\t NBA & Frank Kaminsky   & CHA & PF & 81 & 1713 & 215 &  525 &  68 & 202 & ⋯ &  37 &  58 &  43 & 126 & 0 &  606 &  0 & 0 & 0 &  3\\\\\n\t NBA & Enes Kanter      & OKL & C  & 82 & 1721 & 415 &  720 &  10 &  21 & ⋯ &  26 & 115 &  33 & 166 & 1 & 1040 &  2 & 0 & 0 &  1\\\\\n\t NBA & Zach Lavine      & MIN & PG & 82 & 2295 & 433 &  960 & 123 & 316 & ⋯ &  69 & 155 &  17 & 193 & 1 & 1150 &  0 & 0 & 0 & 33\\\\\n\t NBA & Robin Lopez      & NYK & C  & 82 & 2213 & 357 &  662 &   0 &   1 & ⋯ &  16 & 133 & 129 & 182 & 2 &  842 &  3 & 0 & 0 & 82\\\\\n\t NBA & T.j. Mcconnell   & PHI & PG & 81 & 1609 & 218 &  464 &  31 &  89 & ⋯ &  95 & 140 &  10 & 114 & 0 &  493 &  0 & 0 & 0 & 17\\\\\n\t NBA & Doug Mcdermott   & CHI & SF & 81 & 1860 & 291 &  644 & 110 & 259 & ⋯ &  14 &  52 &   6 & 127 & 0 &  764 &  0 & 0 & 0 &  4\\\\\n\t NBA & Patty Mills      & SAN & PG & 81 & 1659 & 260 &  612 & 123 & 320 & ⋯ &  59 &  76 &   6 & 102 & 0 &  690 &  0 & 0 & 0 &  3\\\\\n\t NBA & Paul Millsap     & ATL & PF & 81 & 2640 & 501 & 1067 &  74 & 232 & ⋯ & 148 & 191 & 140 & 237 & 2 & 1385 &  4 & 0 & 0 & 81\\\\\n\t NBA & Shabazz Muhammad & MIN & SF & 82 & 1678 & 317 &  681 &  44 & 152 & ⋯ &  24 &  70 &   7 &  94 & 0 &  863 &  0 & 0 & 0 &  0\\\\\n\t NBA & Raul Neto        & UTA & PG & 81 & 1501 & 180 &  418 &  64 & 162 & ⋯ &  62 & 109 &   2 & 122 & 1 &  476 &  0 & 0 & 0 & 53\\\\\n\t NBA & Mason Plumlee    & POR & PF & 82 & 2087 & 267 &  517 &   0 &   4 & ⋯ &  68 & 154 &  82 & 253 & 4 &  749 &  1 & 0 & 0 & 82\\\\\n\t NBA & Julius Randle    & LAL & PF & 81 & 2287 & 358 &  835 &  10 &  36 & ⋯ &  53 & 149 &  29 & 242 & 2 &  919 &  0 & 0 & 0 & 60\\\\\n\t NBA & Ramon Sessions   & WAS & PG & 82 & 1667 & 280 &  592 &  36 & 111 & ⋯ &  47 & 115 &   5 & 102 & 0 &  810 &  0 & 0 & 0 &  5\\\\\n\t NBA & Jared Sullinger  & BOS & PF & 81 & 1917 & 351 &  807 &  29 & 104 & ⋯ &  75 & 102 &  47 & 209 & 2 &  834 &  2 & 0 & 0 & 73\\\\\n\t NBA & Isaiah Thomas    & BOS & PG & 82 & 2647 & 591 & 1382 & 167 & 465 & ⋯ &  91 & 220 &   9 & 167 & 1 & 1823 &  9 & 0 & 0 & 79\\\\\n\t NBA & Tristan Thompson & CLE & C  & 82 & 2269 & 247 &  420 &   0 &   0 & ⋯ &  38 &  61 &  51 & 202 & 0 &  643 &  1 & 0 & 0 & 34\\\\\n\t NBA & Karl-antho Towns & MIN & C  & 82 & 2621 & 625 & 1152 &  30 &  88 & ⋯ &  58 & 183 & 138 & 245 & 1 & 1503 &  2 & 0 & 0 & 82\\\\\n\t NBA & P.j. Tucker      & PHO & SF & 82 & 2540 & 239 &  582 &  68 & 206 & ⋯ & 106 & 111 &  20 & 202 & 3 &  652 &  4 & 0 & 0 & 80\\\\\n\t NBA & Evan Turner      & BOS & SG & 81 & 2270 & 343 &  753 &  20 &  83 & ⋯ &  80 & 169 &  28 & 139 & 0 &  854 &  2 & 0 & 0 & 12\\\\\n\t NBA & Kemba Walker     & CHA & PG & 81 & 2885 & 568 & 1332 & 182 & 490 & ⋯ & 127 & 171 &  39 & 111 & 0 & 1689 &  5 & 0 & 0 & 81\\\\\n\t NBA & Andrew Wiggins   & MIN & SF & 81 & 2844 & 594 & 1294 &  57 & 190 & ⋯ &  78 & 182 &  46 & 165 & 1 & 1675 &  1 & 0 & 0 & 81\\\\\n\t NBA & Marvin Williams  & CHA & PF & 81 & 2339 & 338 &  747 & 152 & 379 & ⋯ &  58 &  62 &  77 & 133 & 1 &  948 &  0 & 0 & 0 & 81\\\\\n\\end{tabular}\n",
            "text/markdown": "\nA data.table: 43 × 25\n\n| League &lt;fct&gt; | Name &lt;chr&gt; | Team &lt;fct&gt; | Position &lt;fct&gt; | GamesPlayed &lt;int&gt; | TotalMinutesPlayed &lt;int&gt; | FieldGoalsMade &lt;int&gt; | FieldGoalsAttempted &lt;int&gt; | ThreesMade &lt;int&gt; | ThreesAttempted &lt;int&gt; | ⋯ ⋯ | Steals &lt;int&gt; | Turnovers &lt;int&gt; | Blocks &lt;int&gt; | PersonalFouls &lt;int&gt; | Disqualifications &lt;int&gt; | TotalPoints &lt;int&gt; | Technicals &lt;int&gt; | Ejections &lt;int&gt; | FlagrantFouls &lt;int&gt; | GamesStarted &lt;int&gt; |\n|---|---|---|---|---|---|---|---|---|---|---|---|---|---|---|---|---|---|---|---|---|\n| NBA | Al-farouq Aminu  | POR | SF | 82 | 2342 | 299 |  719 | 126 | 349 | ⋯ |  72 | 120 |  53 | 171 | 0 |  839 |  3 | 0 | 0 | 82 |\n| NBA | Trevor Ariza     | HOU | SF | 81 | 2860 | 357 |  858 | 185 | 497 | ⋯ | 161 | 113 |  26 | 177 | 0 | 1025 |  2 | 0 | 0 | 81 |\n| NBA | Will Barton      | DEN | SG | 82 | 2355 | 426 |  984 | 112 | 324 | ⋯ |  71 | 139 |  39 | 147 | 0 | 1180 |  2 | 0 | 0 |  1 |\n| NBA | Aron Baynes      | DET | PF | 81 | 1241 | 194 |  384 |   0 |   2 | ⋯ |  21 |  67 |  52 | 151 | 0 |  514 |  0 | 0 | 0 |  1 |\n| NBA | Bismack Biyombo  | TOR | PF | 82 | 1810 | 156 |  288 |   0 |   1 | ⋯ |  19 |  71 | 133 | 225 | 2 |  454 |  3 | 0 | 0 | 22 |\n| NBA | Corey Brewer     | HOU | SG | 82 | 1670 | 212 |  552 |  61 | 225 | ⋯ |  84 |  78 |  19 | 168 | 1 |  590 |  0 | 0 | 0 | 12 |\n| NBA | Allen Crabbe     | POR | SF | 81 | 2111 | 312 |  678 | 112 | 284 | ⋯ |  63 |  64 |  16 | 192 | 2 |  834 |  0 | 0 | 0 |  8 |\n| NBA | Ed Davis         | POR | PF | 81 | 1684 | 206 |  337 |   0 |   0 | ⋯ |  57 |  64 |  72 | 202 | 2 |  526 |  2 | 0 | 0 |  0 |\n| NBA | Gorgui Dieng     | MIN | C  | 82 | 2222 | 308 |  578 |   6 |  20 | ⋯ |  94 | 140 |  96 | 219 | 0 |  827 |  1 | 0 | 0 | 39 |\n| NBA | Andre Drummond   | DET | C  | 81 | 2664 | 552 | 1061 |   2 |   6 | ⋯ | 119 | 154 | 112 | 245 | 2 | 1314 |  7 | 0 | 0 | 81 |\n| NBA | Jared Dudley     | WAS | SG | 81 | 2098 | 233 |  487 | 100 | 239 | ⋯ |  75 |  80 |  18 | 190 | 1 |  638 |  1 | 0 | 0 | 41 |\n| NBA | Monta Ellis      | IND | PG | 81 | 2733 | 436 | 1021 |  87 | 281 | ⋯ | 149 | 203 |  38 | 174 | 0 | 1121 |  1 | 0 | 0 | 81 |\n| NBA | Randy Foye       | OKC | SG | 81 | 1640 | 168 |  481 |  75 | 250 | ⋯ |  39 |  86 |  29 | 131 | 0 |  472 |  0 | 0 | 0 |  8 |\n| NBA | Langsto Galloway | NYK | PG | 82 | 2032 | 231 |  588 |  77 | 224 | ⋯ |  77 |  61 |  22 | 177 | 2 |  625 |  0 | 0 | 0 |  7 |\n| NBA | Paul George      | IND | SF | 81 | 2828 | 605 | 1448 | 210 | 565 | ⋯ | 152 | 265 |  29 | 230 | 1 | 1874 |  6 | 0 | 0 | 81 |\n| NBA | Draymond Green   | GSW | SF | 81 | 2807 | 401 |  819 | 100 | 258 | ⋯ | 118 | 259 | 111 | 240 | 2 | 1131 | 11 | 0 | 0 | 81 |\n| NBA | James Harden     | HOU | SG | 82 | 3121 | 710 | 1617 | 236 | 656 | ⋯ | 138 | 374 |  51 | 229 | 1 | 2376 |  2 | 0 | 0 | 82 |\n| NBA | Roy Hibbert      | LAL | C  | 81 | 1881 | 182 |  411 |   0 |   2 | ⋯ |  32 |  76 | 110 | 252 | 3 |  481 |  2 | 0 | 0 | 81 |\n| NBA | Al Horford       | ATL | PF | 82 | 2638 | 529 | 1049 |  88 | 257 | ⋯ |  67 | 107 | 122 | 163 | 0 | 1249 |  1 | 0 | 0 | 82 |\n| NBA | Joe Ingles       | UTA | SF | 81 | 1241 | 124 |  291 |  81 | 210 | ⋯ |  55 |  65 |   4 |  98 | 0 |  342 |  1 | 0 | 0 |  2 |\n| NBA | Joe Johnson      | MIA | SF | 81 | 2703 | 377 |  859 | 120 | 313 | ⋯ |  61 | 160 |   4 | 146 | 0 |  992 |  1 | 0 | 0 | 81 |\n| NBA | Frank Kaminsky   | CHA | PF | 81 | 1713 | 215 |  525 |  68 | 202 | ⋯ |  37 |  58 |  43 | 126 | 0 |  606 |  0 | 0 | 0 |  3 |\n| NBA | Enes Kanter      | OKL | C  | 82 | 1721 | 415 |  720 |  10 |  21 | ⋯ |  26 | 115 |  33 | 166 | 1 | 1040 |  2 | 0 | 0 |  1 |\n| NBA | Zach Lavine      | MIN | PG | 82 | 2295 | 433 |  960 | 123 | 316 | ⋯ |  69 | 155 |  17 | 193 | 1 | 1150 |  0 | 0 | 0 | 33 |\n| NBA | Robin Lopez      | NYK | C  | 82 | 2213 | 357 |  662 |   0 |   1 | ⋯ |  16 | 133 | 129 | 182 | 2 |  842 |  3 | 0 | 0 | 82 |\n| NBA | T.j. Mcconnell   | PHI | PG | 81 | 1609 | 218 |  464 |  31 |  89 | ⋯ |  95 | 140 |  10 | 114 | 0 |  493 |  0 | 0 | 0 | 17 |\n| NBA | Doug Mcdermott   | CHI | SF | 81 | 1860 | 291 |  644 | 110 | 259 | ⋯ |  14 |  52 |   6 | 127 | 0 |  764 |  0 | 0 | 0 |  4 |\n| NBA | Patty Mills      | SAN | PG | 81 | 1659 | 260 |  612 | 123 | 320 | ⋯ |  59 |  76 |   6 | 102 | 0 |  690 |  0 | 0 | 0 |  3 |\n| NBA | Paul Millsap     | ATL | PF | 81 | 2640 | 501 | 1067 |  74 | 232 | ⋯ | 148 | 191 | 140 | 237 | 2 | 1385 |  4 | 0 | 0 | 81 |\n| NBA | Shabazz Muhammad | MIN | SF | 82 | 1678 | 317 |  681 |  44 | 152 | ⋯ |  24 |  70 |   7 |  94 | 0 |  863 |  0 | 0 | 0 |  0 |\n| NBA | Raul Neto        | UTA | PG | 81 | 1501 | 180 |  418 |  64 | 162 | ⋯ |  62 | 109 |   2 | 122 | 1 |  476 |  0 | 0 | 0 | 53 |\n| NBA | Mason Plumlee    | POR | PF | 82 | 2087 | 267 |  517 |   0 |   4 | ⋯ |  68 | 154 |  82 | 253 | 4 |  749 |  1 | 0 | 0 | 82 |\n| NBA | Julius Randle    | LAL | PF | 81 | 2287 | 358 |  835 |  10 |  36 | ⋯ |  53 | 149 |  29 | 242 | 2 |  919 |  0 | 0 | 0 | 60 |\n| NBA | Ramon Sessions   | WAS | PG | 82 | 1667 | 280 |  592 |  36 | 111 | ⋯ |  47 | 115 |   5 | 102 | 0 |  810 |  0 | 0 | 0 |  5 |\n| NBA | Jared Sullinger  | BOS | PF | 81 | 1917 | 351 |  807 |  29 | 104 | ⋯ |  75 | 102 |  47 | 209 | 2 |  834 |  2 | 0 | 0 | 73 |\n| NBA | Isaiah Thomas    | BOS | PG | 82 | 2647 | 591 | 1382 | 167 | 465 | ⋯ |  91 | 220 |   9 | 167 | 1 | 1823 |  9 | 0 | 0 | 79 |\n| NBA | Tristan Thompson | CLE | C  | 82 | 2269 | 247 |  420 |   0 |   0 | ⋯ |  38 |  61 |  51 | 202 | 0 |  643 |  1 | 0 | 0 | 34 |\n| NBA | Karl-antho Towns | MIN | C  | 82 | 2621 | 625 | 1152 |  30 |  88 | ⋯ |  58 | 183 | 138 | 245 | 1 | 1503 |  2 | 0 | 0 | 82 |\n| NBA | P.j. Tucker      | PHO | SF | 82 | 2540 | 239 |  582 |  68 | 206 | ⋯ | 106 | 111 |  20 | 202 | 3 |  652 |  4 | 0 | 0 | 80 |\n| NBA | Evan Turner      | BOS | SG | 81 | 2270 | 343 |  753 |  20 |  83 | ⋯ |  80 | 169 |  28 | 139 | 0 |  854 |  2 | 0 | 0 | 12 |\n| NBA | Kemba Walker     | CHA | PG | 81 | 2885 | 568 | 1332 | 182 | 490 | ⋯ | 127 | 171 |  39 | 111 | 0 | 1689 |  5 | 0 | 0 | 81 |\n| NBA | Andrew Wiggins   | MIN | SF | 81 | 2844 | 594 | 1294 |  57 | 190 | ⋯ |  78 | 182 |  46 | 165 | 1 | 1675 |  1 | 0 | 0 | 81 |\n| NBA | Marvin Williams  | CHA | PF | 81 | 2339 | 338 |  747 | 152 | 379 | ⋯ |  58 |  62 |  77 | 133 | 1 |  948 |  0 | 0 | 0 | 81 |\n\n",
            "text/html": [
              "<table>\n",
              "<caption>A data.table: 43 × 25</caption>\n",
              "<thead>\n",
              "\t<tr><th scope=col>League</th><th scope=col>Name</th><th scope=col>Team</th><th scope=col>Position</th><th scope=col>GamesPlayed</th><th scope=col>TotalMinutesPlayed</th><th scope=col>FieldGoalsMade</th><th scope=col>FieldGoalsAttempted</th><th scope=col>ThreesMade</th><th scope=col>ThreesAttempted</th><th scope=col>⋯</th><th scope=col>Steals</th><th scope=col>Turnovers</th><th scope=col>Blocks</th><th scope=col>PersonalFouls</th><th scope=col>Disqualifications</th><th scope=col>TotalPoints</th><th scope=col>Technicals</th><th scope=col>Ejections</th><th scope=col>FlagrantFouls</th><th scope=col>GamesStarted</th></tr>\n",
              "\t<tr><th scope=col>&lt;fct&gt;</th><th scope=col>&lt;chr&gt;</th><th scope=col>&lt;fct&gt;</th><th scope=col>&lt;fct&gt;</th><th scope=col>&lt;int&gt;</th><th scope=col>&lt;int&gt;</th><th scope=col>&lt;int&gt;</th><th scope=col>&lt;int&gt;</th><th scope=col>&lt;int&gt;</th><th scope=col>&lt;int&gt;</th><th scope=col>⋯</th><th scope=col>&lt;int&gt;</th><th scope=col>&lt;int&gt;</th><th scope=col>&lt;int&gt;</th><th scope=col>&lt;int&gt;</th><th scope=col>&lt;int&gt;</th><th scope=col>&lt;int&gt;</th><th scope=col>&lt;int&gt;</th><th scope=col>&lt;int&gt;</th><th scope=col>&lt;int&gt;</th><th scope=col>&lt;int&gt;</th></tr>\n",
              "</thead>\n",
              "<tbody>\n",
              "\t<tr><td>NBA</td><td>Al-farouq Aminu </td><td>POR</td><td>SF</td><td>82</td><td>2342</td><td>299</td><td> 719</td><td>126</td><td>349</td><td>⋯</td><td> 72</td><td>120</td><td> 53</td><td>171</td><td>0</td><td> 839</td><td> 3</td><td>0</td><td>0</td><td>82</td></tr>\n",
              "\t<tr><td>NBA</td><td>Trevor Ariza    </td><td>HOU</td><td>SF</td><td>81</td><td>2860</td><td>357</td><td> 858</td><td>185</td><td>497</td><td>⋯</td><td>161</td><td>113</td><td> 26</td><td>177</td><td>0</td><td>1025</td><td> 2</td><td>0</td><td>0</td><td>81</td></tr>\n",
              "\t<tr><td>NBA</td><td>Will Barton     </td><td>DEN</td><td>SG</td><td>82</td><td>2355</td><td>426</td><td> 984</td><td>112</td><td>324</td><td>⋯</td><td> 71</td><td>139</td><td> 39</td><td>147</td><td>0</td><td>1180</td><td> 2</td><td>0</td><td>0</td><td> 1</td></tr>\n",
              "\t<tr><td>NBA</td><td>Aron Baynes     </td><td>DET</td><td>PF</td><td>81</td><td>1241</td><td>194</td><td> 384</td><td>  0</td><td>  2</td><td>⋯</td><td> 21</td><td> 67</td><td> 52</td><td>151</td><td>0</td><td> 514</td><td> 0</td><td>0</td><td>0</td><td> 1</td></tr>\n",
              "\t<tr><td>NBA</td><td>Bismack Biyombo </td><td>TOR</td><td>PF</td><td>82</td><td>1810</td><td>156</td><td> 288</td><td>  0</td><td>  1</td><td>⋯</td><td> 19</td><td> 71</td><td>133</td><td>225</td><td>2</td><td> 454</td><td> 3</td><td>0</td><td>0</td><td>22</td></tr>\n",
              "\t<tr><td>NBA</td><td>Corey Brewer    </td><td>HOU</td><td>SG</td><td>82</td><td>1670</td><td>212</td><td> 552</td><td> 61</td><td>225</td><td>⋯</td><td> 84</td><td> 78</td><td> 19</td><td>168</td><td>1</td><td> 590</td><td> 0</td><td>0</td><td>0</td><td>12</td></tr>\n",
              "\t<tr><td>NBA</td><td>Allen Crabbe    </td><td>POR</td><td>SF</td><td>81</td><td>2111</td><td>312</td><td> 678</td><td>112</td><td>284</td><td>⋯</td><td> 63</td><td> 64</td><td> 16</td><td>192</td><td>2</td><td> 834</td><td> 0</td><td>0</td><td>0</td><td> 8</td></tr>\n",
              "\t<tr><td>NBA</td><td>Ed Davis        </td><td>POR</td><td>PF</td><td>81</td><td>1684</td><td>206</td><td> 337</td><td>  0</td><td>  0</td><td>⋯</td><td> 57</td><td> 64</td><td> 72</td><td>202</td><td>2</td><td> 526</td><td> 2</td><td>0</td><td>0</td><td> 0</td></tr>\n",
              "\t<tr><td>NBA</td><td>Gorgui Dieng    </td><td>MIN</td><td>C </td><td>82</td><td>2222</td><td>308</td><td> 578</td><td>  6</td><td> 20</td><td>⋯</td><td> 94</td><td>140</td><td> 96</td><td>219</td><td>0</td><td> 827</td><td> 1</td><td>0</td><td>0</td><td>39</td></tr>\n",
              "\t<tr><td>NBA</td><td>Andre Drummond  </td><td>DET</td><td>C </td><td>81</td><td>2664</td><td>552</td><td>1061</td><td>  2</td><td>  6</td><td>⋯</td><td>119</td><td>154</td><td>112</td><td>245</td><td>2</td><td>1314</td><td> 7</td><td>0</td><td>0</td><td>81</td></tr>\n",
              "\t<tr><td>NBA</td><td>Jared Dudley    </td><td>WAS</td><td>SG</td><td>81</td><td>2098</td><td>233</td><td> 487</td><td>100</td><td>239</td><td>⋯</td><td> 75</td><td> 80</td><td> 18</td><td>190</td><td>1</td><td> 638</td><td> 1</td><td>0</td><td>0</td><td>41</td></tr>\n",
              "\t<tr><td>NBA</td><td>Monta Ellis     </td><td>IND</td><td>PG</td><td>81</td><td>2733</td><td>436</td><td>1021</td><td> 87</td><td>281</td><td>⋯</td><td>149</td><td>203</td><td> 38</td><td>174</td><td>0</td><td>1121</td><td> 1</td><td>0</td><td>0</td><td>81</td></tr>\n",
              "\t<tr><td>NBA</td><td>Randy Foye      </td><td>OKC</td><td>SG</td><td>81</td><td>1640</td><td>168</td><td> 481</td><td> 75</td><td>250</td><td>⋯</td><td> 39</td><td> 86</td><td> 29</td><td>131</td><td>0</td><td> 472</td><td> 0</td><td>0</td><td>0</td><td> 8</td></tr>\n",
              "\t<tr><td>NBA</td><td>Langsto Galloway</td><td>NYK</td><td>PG</td><td>82</td><td>2032</td><td>231</td><td> 588</td><td> 77</td><td>224</td><td>⋯</td><td> 77</td><td> 61</td><td> 22</td><td>177</td><td>2</td><td> 625</td><td> 0</td><td>0</td><td>0</td><td> 7</td></tr>\n",
              "\t<tr><td>NBA</td><td>Paul George     </td><td>IND</td><td>SF</td><td>81</td><td>2828</td><td>605</td><td>1448</td><td>210</td><td>565</td><td>⋯</td><td>152</td><td>265</td><td> 29</td><td>230</td><td>1</td><td>1874</td><td> 6</td><td>0</td><td>0</td><td>81</td></tr>\n",
              "\t<tr><td>NBA</td><td>Draymond Green  </td><td>GSW</td><td>SF</td><td>81</td><td>2807</td><td>401</td><td> 819</td><td>100</td><td>258</td><td>⋯</td><td>118</td><td>259</td><td>111</td><td>240</td><td>2</td><td>1131</td><td>11</td><td>0</td><td>0</td><td>81</td></tr>\n",
              "\t<tr><td>NBA</td><td>James Harden    </td><td>HOU</td><td>SG</td><td>82</td><td>3121</td><td>710</td><td>1617</td><td>236</td><td>656</td><td>⋯</td><td>138</td><td>374</td><td> 51</td><td>229</td><td>1</td><td>2376</td><td> 2</td><td>0</td><td>0</td><td>82</td></tr>\n",
              "\t<tr><td>NBA</td><td>Roy Hibbert     </td><td>LAL</td><td>C </td><td>81</td><td>1881</td><td>182</td><td> 411</td><td>  0</td><td>  2</td><td>⋯</td><td> 32</td><td> 76</td><td>110</td><td>252</td><td>3</td><td> 481</td><td> 2</td><td>0</td><td>0</td><td>81</td></tr>\n",
              "\t<tr><td>NBA</td><td>Al Horford      </td><td>ATL</td><td>PF</td><td>82</td><td>2638</td><td>529</td><td>1049</td><td> 88</td><td>257</td><td>⋯</td><td> 67</td><td>107</td><td>122</td><td>163</td><td>0</td><td>1249</td><td> 1</td><td>0</td><td>0</td><td>82</td></tr>\n",
              "\t<tr><td>NBA</td><td>Joe Ingles      </td><td>UTA</td><td>SF</td><td>81</td><td>1241</td><td>124</td><td> 291</td><td> 81</td><td>210</td><td>⋯</td><td> 55</td><td> 65</td><td>  4</td><td> 98</td><td>0</td><td> 342</td><td> 1</td><td>0</td><td>0</td><td> 2</td></tr>\n",
              "\t<tr><td>NBA</td><td>Joe Johnson     </td><td>MIA</td><td>SF</td><td>81</td><td>2703</td><td>377</td><td> 859</td><td>120</td><td>313</td><td>⋯</td><td> 61</td><td>160</td><td>  4</td><td>146</td><td>0</td><td> 992</td><td> 1</td><td>0</td><td>0</td><td>81</td></tr>\n",
              "\t<tr><td>NBA</td><td>Frank Kaminsky  </td><td>CHA</td><td>PF</td><td>81</td><td>1713</td><td>215</td><td> 525</td><td> 68</td><td>202</td><td>⋯</td><td> 37</td><td> 58</td><td> 43</td><td>126</td><td>0</td><td> 606</td><td> 0</td><td>0</td><td>0</td><td> 3</td></tr>\n",
              "\t<tr><td>NBA</td><td>Enes Kanter     </td><td>OKL</td><td>C </td><td>82</td><td>1721</td><td>415</td><td> 720</td><td> 10</td><td> 21</td><td>⋯</td><td> 26</td><td>115</td><td> 33</td><td>166</td><td>1</td><td>1040</td><td> 2</td><td>0</td><td>0</td><td> 1</td></tr>\n",
              "\t<tr><td>NBA</td><td>Zach Lavine     </td><td>MIN</td><td>PG</td><td>82</td><td>2295</td><td>433</td><td> 960</td><td>123</td><td>316</td><td>⋯</td><td> 69</td><td>155</td><td> 17</td><td>193</td><td>1</td><td>1150</td><td> 0</td><td>0</td><td>0</td><td>33</td></tr>\n",
              "\t<tr><td>NBA</td><td>Robin Lopez     </td><td>NYK</td><td>C </td><td>82</td><td>2213</td><td>357</td><td> 662</td><td>  0</td><td>  1</td><td>⋯</td><td> 16</td><td>133</td><td>129</td><td>182</td><td>2</td><td> 842</td><td> 3</td><td>0</td><td>0</td><td>82</td></tr>\n",
              "\t<tr><td>NBA</td><td>T.j. Mcconnell  </td><td>PHI</td><td>PG</td><td>81</td><td>1609</td><td>218</td><td> 464</td><td> 31</td><td> 89</td><td>⋯</td><td> 95</td><td>140</td><td> 10</td><td>114</td><td>0</td><td> 493</td><td> 0</td><td>0</td><td>0</td><td>17</td></tr>\n",
              "\t<tr><td>NBA</td><td>Doug Mcdermott  </td><td>CHI</td><td>SF</td><td>81</td><td>1860</td><td>291</td><td> 644</td><td>110</td><td>259</td><td>⋯</td><td> 14</td><td> 52</td><td>  6</td><td>127</td><td>0</td><td> 764</td><td> 0</td><td>0</td><td>0</td><td> 4</td></tr>\n",
              "\t<tr><td>NBA</td><td>Patty Mills     </td><td>SAN</td><td>PG</td><td>81</td><td>1659</td><td>260</td><td> 612</td><td>123</td><td>320</td><td>⋯</td><td> 59</td><td> 76</td><td>  6</td><td>102</td><td>0</td><td> 690</td><td> 0</td><td>0</td><td>0</td><td> 3</td></tr>\n",
              "\t<tr><td>NBA</td><td>Paul Millsap    </td><td>ATL</td><td>PF</td><td>81</td><td>2640</td><td>501</td><td>1067</td><td> 74</td><td>232</td><td>⋯</td><td>148</td><td>191</td><td>140</td><td>237</td><td>2</td><td>1385</td><td> 4</td><td>0</td><td>0</td><td>81</td></tr>\n",
              "\t<tr><td>NBA</td><td>Shabazz Muhammad</td><td>MIN</td><td>SF</td><td>82</td><td>1678</td><td>317</td><td> 681</td><td> 44</td><td>152</td><td>⋯</td><td> 24</td><td> 70</td><td>  7</td><td> 94</td><td>0</td><td> 863</td><td> 0</td><td>0</td><td>0</td><td> 0</td></tr>\n",
              "\t<tr><td>NBA</td><td>Raul Neto       </td><td>UTA</td><td>PG</td><td>81</td><td>1501</td><td>180</td><td> 418</td><td> 64</td><td>162</td><td>⋯</td><td> 62</td><td>109</td><td>  2</td><td>122</td><td>1</td><td> 476</td><td> 0</td><td>0</td><td>0</td><td>53</td></tr>\n",
              "\t<tr><td>NBA</td><td>Mason Plumlee   </td><td>POR</td><td>PF</td><td>82</td><td>2087</td><td>267</td><td> 517</td><td>  0</td><td>  4</td><td>⋯</td><td> 68</td><td>154</td><td> 82</td><td>253</td><td>4</td><td> 749</td><td> 1</td><td>0</td><td>0</td><td>82</td></tr>\n",
              "\t<tr><td>NBA</td><td>Julius Randle   </td><td>LAL</td><td>PF</td><td>81</td><td>2287</td><td>358</td><td> 835</td><td> 10</td><td> 36</td><td>⋯</td><td> 53</td><td>149</td><td> 29</td><td>242</td><td>2</td><td> 919</td><td> 0</td><td>0</td><td>0</td><td>60</td></tr>\n",
              "\t<tr><td>NBA</td><td>Ramon Sessions  </td><td>WAS</td><td>PG</td><td>82</td><td>1667</td><td>280</td><td> 592</td><td> 36</td><td>111</td><td>⋯</td><td> 47</td><td>115</td><td>  5</td><td>102</td><td>0</td><td> 810</td><td> 0</td><td>0</td><td>0</td><td> 5</td></tr>\n",
              "\t<tr><td>NBA</td><td>Jared Sullinger </td><td>BOS</td><td>PF</td><td>81</td><td>1917</td><td>351</td><td> 807</td><td> 29</td><td>104</td><td>⋯</td><td> 75</td><td>102</td><td> 47</td><td>209</td><td>2</td><td> 834</td><td> 2</td><td>0</td><td>0</td><td>73</td></tr>\n",
              "\t<tr><td>NBA</td><td>Isaiah Thomas   </td><td>BOS</td><td>PG</td><td>82</td><td>2647</td><td>591</td><td>1382</td><td>167</td><td>465</td><td>⋯</td><td> 91</td><td>220</td><td>  9</td><td>167</td><td>1</td><td>1823</td><td> 9</td><td>0</td><td>0</td><td>79</td></tr>\n",
              "\t<tr><td>NBA</td><td>Tristan Thompson</td><td>CLE</td><td>C </td><td>82</td><td>2269</td><td>247</td><td> 420</td><td>  0</td><td>  0</td><td>⋯</td><td> 38</td><td> 61</td><td> 51</td><td>202</td><td>0</td><td> 643</td><td> 1</td><td>0</td><td>0</td><td>34</td></tr>\n",
              "\t<tr><td>NBA</td><td>Karl-antho Towns</td><td>MIN</td><td>C </td><td>82</td><td>2621</td><td>625</td><td>1152</td><td> 30</td><td> 88</td><td>⋯</td><td> 58</td><td>183</td><td>138</td><td>245</td><td>1</td><td>1503</td><td> 2</td><td>0</td><td>0</td><td>82</td></tr>\n",
              "\t<tr><td>NBA</td><td>P.j. Tucker     </td><td>PHO</td><td>SF</td><td>82</td><td>2540</td><td>239</td><td> 582</td><td> 68</td><td>206</td><td>⋯</td><td>106</td><td>111</td><td> 20</td><td>202</td><td>3</td><td> 652</td><td> 4</td><td>0</td><td>0</td><td>80</td></tr>\n",
              "\t<tr><td>NBA</td><td>Evan Turner     </td><td>BOS</td><td>SG</td><td>81</td><td>2270</td><td>343</td><td> 753</td><td> 20</td><td> 83</td><td>⋯</td><td> 80</td><td>169</td><td> 28</td><td>139</td><td>0</td><td> 854</td><td> 2</td><td>0</td><td>0</td><td>12</td></tr>\n",
              "\t<tr><td>NBA</td><td>Kemba Walker    </td><td>CHA</td><td>PG</td><td>81</td><td>2885</td><td>568</td><td>1332</td><td>182</td><td>490</td><td>⋯</td><td>127</td><td>171</td><td> 39</td><td>111</td><td>0</td><td>1689</td><td> 5</td><td>0</td><td>0</td><td>81</td></tr>\n",
              "\t<tr><td>NBA</td><td>Andrew Wiggins  </td><td>MIN</td><td>SF</td><td>81</td><td>2844</td><td>594</td><td>1294</td><td> 57</td><td>190</td><td>⋯</td><td> 78</td><td>182</td><td> 46</td><td>165</td><td>1</td><td>1675</td><td> 1</td><td>0</td><td>0</td><td>81</td></tr>\n",
              "\t<tr><td>NBA</td><td>Marvin Williams </td><td>CHA</td><td>PF</td><td>81</td><td>2339</td><td>338</td><td> 747</td><td>152</td><td>379</td><td>⋯</td><td> 58</td><td> 62</td><td> 77</td><td>133</td><td>1</td><td> 948</td><td> 0</td><td>0</td><td>0</td><td>81</td></tr>\n",
              "</tbody>\n",
              "</table>\n"
            ]
          },
          "metadata": {
            "tags": []
          }
        }
      ]
    },
    {
      "cell_type": "code",
      "metadata": {
        "id": "qPKUKDSdrLIs",
        "outputId": "4bf31720-22f6-43b9-8155-b04da715b805",
        "colab": {
          "base_uri": "https://localhost:8080/",
          "height": 841
        }
      },
      "source": [
        "NBA1516DT[grepl('c',Name)&Position==\"PG\"]"
      ],
      "execution_count": 53,
      "outputs": [
        {
          "output_type": "display_data",
          "data": {
            "text/plain": [
              "   League Name             Team Position GamesPlayed TotalMinutesPlayed\n",
              "1  NBA    Patrick Beverley HOU  PG       71          2038              \n",
              "2  NBA    Eric Bledsoe     PHO  PG       31          1058              \n",
              "3  NBA    Alec Burks       UTA  PG       31           798              \n",
              "4  NBA    Bryce Cotton     MEM  PG        8            41              \n",
              "5  NBA    Spence Dinwiddie DET  PG       12           159              \n",
              "6  NBA    Andre Goudelock  HOU  PG        8            51              \n",
              "7  NBA    Erick Green      UTA  PG        9            42              \n",
              "8  NBA    Marcelo Huertas  LAL  PG       53           866              \n",
              "9  NBA    Jarrett Jack     BRO  PG       32          1027              \n",
              "10 NBA    Reggie Jackson   DET  PG       79          2424              \n",
              "11 NBA    Zach Lavine      MIN  PG       82          2295              \n",
              "12 NBA    Shelvin Mack     UTA  PG       52          1066              \n",
              "13 NBA    Ray Mccallum     MEM  PG       41           474              \n",
              "14 NBA    T.j. Mcconnell   PHI  PG       81          1609              \n",
              "15 NBA    Ronnie Price     PHO  PG       62          1210              \n",
              "16 NBA    Derrick Rose     CHI  PG       66          2095              \n",
              "17 NBA    Ricky Rubio      MIN  PG       76          2322              \n",
              "18 NBA    Dennis Schroder  ATL  PG       80          1614              \n",
              "19 NBA    Marcus Smart     BOS  PG       61          1666              \n",
              "20 NBA    Rodney Stuckey   IND  PG       58          1275              \n",
              "   FieldGoalsMade FieldGoalsAttempted ThreesMade ThreesAttempted ⋯ Steals\n",
              "1  258             594                124        310             ⋯  94   \n",
              "2  223             492                 48        129             ⋯  63   \n",
              "3  137             334                 32         79             ⋯  18   \n",
              "4    4              10                  0          3             ⋯   3   \n",
              "5   19              53                  1         10             ⋯   3   \n",
              "6    9              20                  1          9             ⋯   6   \n",
              "7    5              13                  1          5             ⋯   1   \n",
              "8   97             230                 16         61             ⋯  26   \n",
              "9  140             358                 31        102             ⋯  34   \n",
              "10 540            1244                118        335             ⋯  59   \n",
              "11 433             960                123        316             ⋯  69   \n",
              "12 182             415                 39        124             ⋯  34   \n",
              "13  55             146                 15         42             ⋯  12   \n",
              "14 218             464                 31         89             ⋯  95   \n",
              "15 116             302                 68        195             ⋯  74   \n",
              "16 447            1047                 44        150             ⋯  44   \n",
              "17 219             586                 62        190             ⋯ 162   \n",
              "18 329             782                 77        239             ⋯  71   \n",
              "19 184             529                 61        241             ⋯  91   \n",
              "20 183             444                 20         83             ⋯  43   \n",
              "   Turnovers Blocks PersonalFouls Disqualifications TotalPoints Technicals\n",
              "1   91       26     234           1                  700        5         \n",
              "2  111       19      75           1                  632        2         \n",
              "3   51        4      71           0                  412        0         \n",
              "4    5        0       2           0                    8        0         \n",
              "5    7        0      20           0                   58        0         \n",
              "6    7        2       4           0                   22        0         \n",
              "7    0        0       4           0                   13        0         \n",
              "8   80        7      76           0                  237        0         \n",
              "9   94        7      77           0                  411        4         \n",
              "10 223       11     187           0                 1489        4         \n",
              "11 155       17     193           1                 1150        0         \n",
              "12  95        3      72           0                  448        0         \n",
              "13  24        7      29           0                  137        0         \n",
              "14 140       10     114           0                  493        0         \n",
              "15  70       13     161           2                  331        0         \n",
              "16 175       14      84           1                 1080        4         \n",
              "17 194       10     201           1                  766        0         \n",
              "18 184        9     138           0                  879        0         \n",
              "19  80       18     183           1                  558        2         \n",
              "20  76        8      77           0                  517        1         \n",
              "   Ejections FlagrantFouls GamesStarted\n",
              "1  0         0             62          \n",
              "2  0         0             31          \n",
              "3  0         0              3          \n",
              "4  0         0              0          \n",
              "5  0         0              0          \n",
              "6  0         0              0          \n",
              "7  0         0              0          \n",
              "8  0         0              0          \n",
              "9  0         0             32          \n",
              "10 0         0             79          \n",
              "11 0         0             33          \n",
              "12 0         0             27          \n",
              "13 0         0              6          \n",
              "14 0         0             17          \n",
              "15 0         0             18          \n",
              "16 0         0             66          \n",
              "17 0         0             76          \n",
              "18 0         0              6          \n",
              "19 0         0             10          \n",
              "20 0         0              1          "
            ],
            "text/latex": "A data.table: 20 × 25\n\\begin{tabular}{lllllllllllllllllllll}\n League & Name & Team & Position & GamesPlayed & TotalMinutesPlayed & FieldGoalsMade & FieldGoalsAttempted & ThreesMade & ThreesAttempted & ⋯ & Steals & Turnovers & Blocks & PersonalFouls & Disqualifications & TotalPoints & Technicals & Ejections & FlagrantFouls & GamesStarted\\\\\n <fct> & <chr> & <fct> & <fct> & <int> & <int> & <int> & <int> & <int> & <int> & ⋯ & <int> & <int> & <int> & <int> & <int> & <int> & <int> & <int> & <int> & <int>\\\\\n\\hline\n\t NBA & Patrick Beverley & HOU & PG & 71 & 2038 & 258 &  594 & 124 & 310 & ⋯ &  94 &  91 & 26 & 234 & 1 &  700 & 5 & 0 & 0 & 62\\\\\n\t NBA & Eric Bledsoe     & PHO & PG & 31 & 1058 & 223 &  492 &  48 & 129 & ⋯ &  63 & 111 & 19 &  75 & 1 &  632 & 2 & 0 & 0 & 31\\\\\n\t NBA & Alec Burks       & UTA & PG & 31 &  798 & 137 &  334 &  32 &  79 & ⋯ &  18 &  51 &  4 &  71 & 0 &  412 & 0 & 0 & 0 &  3\\\\\n\t NBA & Bryce Cotton     & MEM & PG &  8 &   41 &   4 &   10 &   0 &   3 & ⋯ &   3 &   5 &  0 &   2 & 0 &    8 & 0 & 0 & 0 &  0\\\\\n\t NBA & Spence Dinwiddie & DET & PG & 12 &  159 &  19 &   53 &   1 &  10 & ⋯ &   3 &   7 &  0 &  20 & 0 &   58 & 0 & 0 & 0 &  0\\\\\n\t NBA & Andre Goudelock  & HOU & PG &  8 &   51 &   9 &   20 &   1 &   9 & ⋯ &   6 &   7 &  2 &   4 & 0 &   22 & 0 & 0 & 0 &  0\\\\\n\t NBA & Erick Green      & UTA & PG &  9 &   42 &   5 &   13 &   1 &   5 & ⋯ &   1 &   0 &  0 &   4 & 0 &   13 & 0 & 0 & 0 &  0\\\\\n\t NBA & Marcelo Huertas  & LAL & PG & 53 &  866 &  97 &  230 &  16 &  61 & ⋯ &  26 &  80 &  7 &  76 & 0 &  237 & 0 & 0 & 0 &  0\\\\\n\t NBA & Jarrett Jack     & BRO & PG & 32 & 1027 & 140 &  358 &  31 & 102 & ⋯ &  34 &  94 &  7 &  77 & 0 &  411 & 4 & 0 & 0 & 32\\\\\n\t NBA & Reggie Jackson   & DET & PG & 79 & 2424 & 540 & 1244 & 118 & 335 & ⋯ &  59 & 223 & 11 & 187 & 0 & 1489 & 4 & 0 & 0 & 79\\\\\n\t NBA & Zach Lavine      & MIN & PG & 82 & 2295 & 433 &  960 & 123 & 316 & ⋯ &  69 & 155 & 17 & 193 & 1 & 1150 & 0 & 0 & 0 & 33\\\\\n\t NBA & Shelvin Mack     & UTA & PG & 52 & 1066 & 182 &  415 &  39 & 124 & ⋯ &  34 &  95 &  3 &  72 & 0 &  448 & 0 & 0 & 0 & 27\\\\\n\t NBA & Ray Mccallum     & MEM & PG & 41 &  474 &  55 &  146 &  15 &  42 & ⋯ &  12 &  24 &  7 &  29 & 0 &  137 & 0 & 0 & 0 &  6\\\\\n\t NBA & T.j. Mcconnell   & PHI & PG & 81 & 1609 & 218 &  464 &  31 &  89 & ⋯ &  95 & 140 & 10 & 114 & 0 &  493 & 0 & 0 & 0 & 17\\\\\n\t NBA & Ronnie Price     & PHO & PG & 62 & 1210 & 116 &  302 &  68 & 195 & ⋯ &  74 &  70 & 13 & 161 & 2 &  331 & 0 & 0 & 0 & 18\\\\\n\t NBA & Derrick Rose     & CHI & PG & 66 & 2095 & 447 & 1047 &  44 & 150 & ⋯ &  44 & 175 & 14 &  84 & 1 & 1080 & 4 & 0 & 0 & 66\\\\\n\t NBA & Ricky Rubio      & MIN & PG & 76 & 2322 & 219 &  586 &  62 & 190 & ⋯ & 162 & 194 & 10 & 201 & 1 &  766 & 0 & 0 & 0 & 76\\\\\n\t NBA & Dennis Schroder  & ATL & PG & 80 & 1614 & 329 &  782 &  77 & 239 & ⋯ &  71 & 184 &  9 & 138 & 0 &  879 & 0 & 0 & 0 &  6\\\\\n\t NBA & Marcus Smart     & BOS & PG & 61 & 1666 & 184 &  529 &  61 & 241 & ⋯ &  91 &  80 & 18 & 183 & 1 &  558 & 2 & 0 & 0 & 10\\\\\n\t NBA & Rodney Stuckey   & IND & PG & 58 & 1275 & 183 &  444 &  20 &  83 & ⋯ &  43 &  76 &  8 &  77 & 0 &  517 & 1 & 0 & 0 &  1\\\\\n\\end{tabular}\n",
            "text/markdown": "\nA data.table: 20 × 25\n\n| League &lt;fct&gt; | Name &lt;chr&gt; | Team &lt;fct&gt; | Position &lt;fct&gt; | GamesPlayed &lt;int&gt; | TotalMinutesPlayed &lt;int&gt; | FieldGoalsMade &lt;int&gt; | FieldGoalsAttempted &lt;int&gt; | ThreesMade &lt;int&gt; | ThreesAttempted &lt;int&gt; | ⋯ ⋯ | Steals &lt;int&gt; | Turnovers &lt;int&gt; | Blocks &lt;int&gt; | PersonalFouls &lt;int&gt; | Disqualifications &lt;int&gt; | TotalPoints &lt;int&gt; | Technicals &lt;int&gt; | Ejections &lt;int&gt; | FlagrantFouls &lt;int&gt; | GamesStarted &lt;int&gt; |\n|---|---|---|---|---|---|---|---|---|---|---|---|---|---|---|---|---|---|---|---|---|\n| NBA | Patrick Beverley | HOU | PG | 71 | 2038 | 258 |  594 | 124 | 310 | ⋯ |  94 |  91 | 26 | 234 | 1 |  700 | 5 | 0 | 0 | 62 |\n| NBA | Eric Bledsoe     | PHO | PG | 31 | 1058 | 223 |  492 |  48 | 129 | ⋯ |  63 | 111 | 19 |  75 | 1 |  632 | 2 | 0 | 0 | 31 |\n| NBA | Alec Burks       | UTA | PG | 31 |  798 | 137 |  334 |  32 |  79 | ⋯ |  18 |  51 |  4 |  71 | 0 |  412 | 0 | 0 | 0 |  3 |\n| NBA | Bryce Cotton     | MEM | PG |  8 |   41 |   4 |   10 |   0 |   3 | ⋯ |   3 |   5 |  0 |   2 | 0 |    8 | 0 | 0 | 0 |  0 |\n| NBA | Spence Dinwiddie | DET | PG | 12 |  159 |  19 |   53 |   1 |  10 | ⋯ |   3 |   7 |  0 |  20 | 0 |   58 | 0 | 0 | 0 |  0 |\n| NBA | Andre Goudelock  | HOU | PG |  8 |   51 |   9 |   20 |   1 |   9 | ⋯ |   6 |   7 |  2 |   4 | 0 |   22 | 0 | 0 | 0 |  0 |\n| NBA | Erick Green      | UTA | PG |  9 |   42 |   5 |   13 |   1 |   5 | ⋯ |   1 |   0 |  0 |   4 | 0 |   13 | 0 | 0 | 0 |  0 |\n| NBA | Marcelo Huertas  | LAL | PG | 53 |  866 |  97 |  230 |  16 |  61 | ⋯ |  26 |  80 |  7 |  76 | 0 |  237 | 0 | 0 | 0 |  0 |\n| NBA | Jarrett Jack     | BRO | PG | 32 | 1027 | 140 |  358 |  31 | 102 | ⋯ |  34 |  94 |  7 |  77 | 0 |  411 | 4 | 0 | 0 | 32 |\n| NBA | Reggie Jackson   | DET | PG | 79 | 2424 | 540 | 1244 | 118 | 335 | ⋯ |  59 | 223 | 11 | 187 | 0 | 1489 | 4 | 0 | 0 | 79 |\n| NBA | Zach Lavine      | MIN | PG | 82 | 2295 | 433 |  960 | 123 | 316 | ⋯ |  69 | 155 | 17 | 193 | 1 | 1150 | 0 | 0 | 0 | 33 |\n| NBA | Shelvin Mack     | UTA | PG | 52 | 1066 | 182 |  415 |  39 | 124 | ⋯ |  34 |  95 |  3 |  72 | 0 |  448 | 0 | 0 | 0 | 27 |\n| NBA | Ray Mccallum     | MEM | PG | 41 |  474 |  55 |  146 |  15 |  42 | ⋯ |  12 |  24 |  7 |  29 | 0 |  137 | 0 | 0 | 0 |  6 |\n| NBA | T.j. Mcconnell   | PHI | PG | 81 | 1609 | 218 |  464 |  31 |  89 | ⋯ |  95 | 140 | 10 | 114 | 0 |  493 | 0 | 0 | 0 | 17 |\n| NBA | Ronnie Price     | PHO | PG | 62 | 1210 | 116 |  302 |  68 | 195 | ⋯ |  74 |  70 | 13 | 161 | 2 |  331 | 0 | 0 | 0 | 18 |\n| NBA | Derrick Rose     | CHI | PG | 66 | 2095 | 447 | 1047 |  44 | 150 | ⋯ |  44 | 175 | 14 |  84 | 1 | 1080 | 4 | 0 | 0 | 66 |\n| NBA | Ricky Rubio      | MIN | PG | 76 | 2322 | 219 |  586 |  62 | 190 | ⋯ | 162 | 194 | 10 | 201 | 1 |  766 | 0 | 0 | 0 | 76 |\n| NBA | Dennis Schroder  | ATL | PG | 80 | 1614 | 329 |  782 |  77 | 239 | ⋯ |  71 | 184 |  9 | 138 | 0 |  879 | 0 | 0 | 0 |  6 |\n| NBA | Marcus Smart     | BOS | PG | 61 | 1666 | 184 |  529 |  61 | 241 | ⋯ |  91 |  80 | 18 | 183 | 1 |  558 | 2 | 0 | 0 | 10 |\n| NBA | Rodney Stuckey   | IND | PG | 58 | 1275 | 183 |  444 |  20 |  83 | ⋯ |  43 |  76 |  8 |  77 | 0 |  517 | 1 | 0 | 0 |  1 |\n\n",
            "text/html": [
              "<table>\n",
              "<caption>A data.table: 20 × 25</caption>\n",
              "<thead>\n",
              "\t<tr><th scope=col>League</th><th scope=col>Name</th><th scope=col>Team</th><th scope=col>Position</th><th scope=col>GamesPlayed</th><th scope=col>TotalMinutesPlayed</th><th scope=col>FieldGoalsMade</th><th scope=col>FieldGoalsAttempted</th><th scope=col>ThreesMade</th><th scope=col>ThreesAttempted</th><th scope=col>⋯</th><th scope=col>Steals</th><th scope=col>Turnovers</th><th scope=col>Blocks</th><th scope=col>PersonalFouls</th><th scope=col>Disqualifications</th><th scope=col>TotalPoints</th><th scope=col>Technicals</th><th scope=col>Ejections</th><th scope=col>FlagrantFouls</th><th scope=col>GamesStarted</th></tr>\n",
              "\t<tr><th scope=col>&lt;fct&gt;</th><th scope=col>&lt;chr&gt;</th><th scope=col>&lt;fct&gt;</th><th scope=col>&lt;fct&gt;</th><th scope=col>&lt;int&gt;</th><th scope=col>&lt;int&gt;</th><th scope=col>&lt;int&gt;</th><th scope=col>&lt;int&gt;</th><th scope=col>&lt;int&gt;</th><th scope=col>&lt;int&gt;</th><th scope=col>⋯</th><th scope=col>&lt;int&gt;</th><th scope=col>&lt;int&gt;</th><th scope=col>&lt;int&gt;</th><th scope=col>&lt;int&gt;</th><th scope=col>&lt;int&gt;</th><th scope=col>&lt;int&gt;</th><th scope=col>&lt;int&gt;</th><th scope=col>&lt;int&gt;</th><th scope=col>&lt;int&gt;</th><th scope=col>&lt;int&gt;</th></tr>\n",
              "</thead>\n",
              "<tbody>\n",
              "\t<tr><td>NBA</td><td>Patrick Beverley</td><td>HOU</td><td>PG</td><td>71</td><td>2038</td><td>258</td><td> 594</td><td>124</td><td>310</td><td>⋯</td><td> 94</td><td> 91</td><td>26</td><td>234</td><td>1</td><td> 700</td><td>5</td><td>0</td><td>0</td><td>62</td></tr>\n",
              "\t<tr><td>NBA</td><td>Eric Bledsoe    </td><td>PHO</td><td>PG</td><td>31</td><td>1058</td><td>223</td><td> 492</td><td> 48</td><td>129</td><td>⋯</td><td> 63</td><td>111</td><td>19</td><td> 75</td><td>1</td><td> 632</td><td>2</td><td>0</td><td>0</td><td>31</td></tr>\n",
              "\t<tr><td>NBA</td><td>Alec Burks      </td><td>UTA</td><td>PG</td><td>31</td><td> 798</td><td>137</td><td> 334</td><td> 32</td><td> 79</td><td>⋯</td><td> 18</td><td> 51</td><td> 4</td><td> 71</td><td>0</td><td> 412</td><td>0</td><td>0</td><td>0</td><td> 3</td></tr>\n",
              "\t<tr><td>NBA</td><td>Bryce Cotton    </td><td>MEM</td><td>PG</td><td> 8</td><td>  41</td><td>  4</td><td>  10</td><td>  0</td><td>  3</td><td>⋯</td><td>  3</td><td>  5</td><td> 0</td><td>  2</td><td>0</td><td>   8</td><td>0</td><td>0</td><td>0</td><td> 0</td></tr>\n",
              "\t<tr><td>NBA</td><td>Spence Dinwiddie</td><td>DET</td><td>PG</td><td>12</td><td> 159</td><td> 19</td><td>  53</td><td>  1</td><td> 10</td><td>⋯</td><td>  3</td><td>  7</td><td> 0</td><td> 20</td><td>0</td><td>  58</td><td>0</td><td>0</td><td>0</td><td> 0</td></tr>\n",
              "\t<tr><td>NBA</td><td>Andre Goudelock </td><td>HOU</td><td>PG</td><td> 8</td><td>  51</td><td>  9</td><td>  20</td><td>  1</td><td>  9</td><td>⋯</td><td>  6</td><td>  7</td><td> 2</td><td>  4</td><td>0</td><td>  22</td><td>0</td><td>0</td><td>0</td><td> 0</td></tr>\n",
              "\t<tr><td>NBA</td><td>Erick Green     </td><td>UTA</td><td>PG</td><td> 9</td><td>  42</td><td>  5</td><td>  13</td><td>  1</td><td>  5</td><td>⋯</td><td>  1</td><td>  0</td><td> 0</td><td>  4</td><td>0</td><td>  13</td><td>0</td><td>0</td><td>0</td><td> 0</td></tr>\n",
              "\t<tr><td>NBA</td><td>Marcelo Huertas </td><td>LAL</td><td>PG</td><td>53</td><td> 866</td><td> 97</td><td> 230</td><td> 16</td><td> 61</td><td>⋯</td><td> 26</td><td> 80</td><td> 7</td><td> 76</td><td>0</td><td> 237</td><td>0</td><td>0</td><td>0</td><td> 0</td></tr>\n",
              "\t<tr><td>NBA</td><td>Jarrett Jack    </td><td>BRO</td><td>PG</td><td>32</td><td>1027</td><td>140</td><td> 358</td><td> 31</td><td>102</td><td>⋯</td><td> 34</td><td> 94</td><td> 7</td><td> 77</td><td>0</td><td> 411</td><td>4</td><td>0</td><td>0</td><td>32</td></tr>\n",
              "\t<tr><td>NBA</td><td>Reggie Jackson  </td><td>DET</td><td>PG</td><td>79</td><td>2424</td><td>540</td><td>1244</td><td>118</td><td>335</td><td>⋯</td><td> 59</td><td>223</td><td>11</td><td>187</td><td>0</td><td>1489</td><td>4</td><td>0</td><td>0</td><td>79</td></tr>\n",
              "\t<tr><td>NBA</td><td>Zach Lavine     </td><td>MIN</td><td>PG</td><td>82</td><td>2295</td><td>433</td><td> 960</td><td>123</td><td>316</td><td>⋯</td><td> 69</td><td>155</td><td>17</td><td>193</td><td>1</td><td>1150</td><td>0</td><td>0</td><td>0</td><td>33</td></tr>\n",
              "\t<tr><td>NBA</td><td>Shelvin Mack    </td><td>UTA</td><td>PG</td><td>52</td><td>1066</td><td>182</td><td> 415</td><td> 39</td><td>124</td><td>⋯</td><td> 34</td><td> 95</td><td> 3</td><td> 72</td><td>0</td><td> 448</td><td>0</td><td>0</td><td>0</td><td>27</td></tr>\n",
              "\t<tr><td>NBA</td><td>Ray Mccallum    </td><td>MEM</td><td>PG</td><td>41</td><td> 474</td><td> 55</td><td> 146</td><td> 15</td><td> 42</td><td>⋯</td><td> 12</td><td> 24</td><td> 7</td><td> 29</td><td>0</td><td> 137</td><td>0</td><td>0</td><td>0</td><td> 6</td></tr>\n",
              "\t<tr><td>NBA</td><td>T.j. Mcconnell  </td><td>PHI</td><td>PG</td><td>81</td><td>1609</td><td>218</td><td> 464</td><td> 31</td><td> 89</td><td>⋯</td><td> 95</td><td>140</td><td>10</td><td>114</td><td>0</td><td> 493</td><td>0</td><td>0</td><td>0</td><td>17</td></tr>\n",
              "\t<tr><td>NBA</td><td>Ronnie Price    </td><td>PHO</td><td>PG</td><td>62</td><td>1210</td><td>116</td><td> 302</td><td> 68</td><td>195</td><td>⋯</td><td> 74</td><td> 70</td><td>13</td><td>161</td><td>2</td><td> 331</td><td>0</td><td>0</td><td>0</td><td>18</td></tr>\n",
              "\t<tr><td>NBA</td><td>Derrick Rose    </td><td>CHI</td><td>PG</td><td>66</td><td>2095</td><td>447</td><td>1047</td><td> 44</td><td>150</td><td>⋯</td><td> 44</td><td>175</td><td>14</td><td> 84</td><td>1</td><td>1080</td><td>4</td><td>0</td><td>0</td><td>66</td></tr>\n",
              "\t<tr><td>NBA</td><td>Ricky Rubio     </td><td>MIN</td><td>PG</td><td>76</td><td>2322</td><td>219</td><td> 586</td><td> 62</td><td>190</td><td>⋯</td><td>162</td><td>194</td><td>10</td><td>201</td><td>1</td><td> 766</td><td>0</td><td>0</td><td>0</td><td>76</td></tr>\n",
              "\t<tr><td>NBA</td><td>Dennis Schroder </td><td>ATL</td><td>PG</td><td>80</td><td>1614</td><td>329</td><td> 782</td><td> 77</td><td>239</td><td>⋯</td><td> 71</td><td>184</td><td> 9</td><td>138</td><td>0</td><td> 879</td><td>0</td><td>0</td><td>0</td><td> 6</td></tr>\n",
              "\t<tr><td>NBA</td><td>Marcus Smart    </td><td>BOS</td><td>PG</td><td>61</td><td>1666</td><td>184</td><td> 529</td><td> 61</td><td>241</td><td>⋯</td><td> 91</td><td> 80</td><td>18</td><td>183</td><td>1</td><td> 558</td><td>2</td><td>0</td><td>0</td><td>10</td></tr>\n",
              "\t<tr><td>NBA</td><td>Rodney Stuckey  </td><td>IND</td><td>PG</td><td>58</td><td>1275</td><td>183</td><td> 444</td><td> 20</td><td> 83</td><td>⋯</td><td> 43</td><td> 76</td><td> 8</td><td> 77</td><td>0</td><td> 517</td><td>1</td><td>0</td><td>0</td><td> 1</td></tr>\n",
              "</tbody>\n",
              "</table>\n"
            ]
          },
          "metadata": {
            "tags": []
          }
        }
      ]
    },
    {
      "cell_type": "code",
      "metadata": {
        "id": "SMNAoZIMrWke",
        "outputId": "a8e54920-9a22-4791-b610-fbace436e271",
        "colab": {
          "base_uri": "https://localhost:8080/",
          "height": 706
        }
      },
      "source": [
        "NBA1516DT[grepl('J',Name)&Position==\"SF\"]"
      ],
      "execution_count": 55,
      "outputs": [
        {
          "output_type": "display_data",
          "data": {
            "text/plain": [
              "   League Name             Team Position GamesPlayed TotalMinutesPlayed\n",
              "1  NBA    Jae Crowder      BOS  SF       73          2310              \n",
              "2  NBA    James Ennis      NOR  SF       22           329              \n",
              "3  NBA    Jeremy Evans     DAL  SF       30           251              \n",
              "4  NBA    Jerami Grant     PHI  SF       77          2068              \n",
              "5  NBA    Jeff Green       LAC  SF       80          2258              \n",
              "6  NBA    Josh Huestis     OKL  SF        5            55              \n",
              "7  NBA    Joe Ingles       UTA  SF       81          1241              \n",
              "8  NBA    Lebron James     CLE  SF       76          2710              \n",
              "9  NBA    Richar Jefferson CLE  SF       74          1326              \n",
              "10 NBA    Chris Johnson    UTA  SF       70           858              \n",
              "11 NBA    Joe Johnson      MIA  SF       81          2703              \n",
              "12 NBA    Stanley Johnson  DET  SF       73          1685              \n",
              "13 NBA    J.j. O'brien     UTA  SF        1             2              \n",
              "14 NBA    Jabari Parker    MIL  SF       76          2407              \n",
              "15 NBA    Josh Smith       HOU  SF       55           878              \n",
              "16 NBA    Justise Winslow  MIA  SF       78          2237              \n",
              "   FieldGoalsMade FieldGoalsAttempted ThreesMade ThreesAttempted ⋯ Steals\n",
              "1  359             812                122        363             ⋯ 126   \n",
              "2   54             113                 26         58             ⋯  16   \n",
              "3   26              48                  4         16             ⋯   6   \n",
              "4  251             599                 35        146             ⋯  54   \n",
              "5  354             824                 67        213             ⋯  58   \n",
              "6    5              12                  4          6             ⋯   1   \n",
              "7  124             291                 81        210             ⋯  55   \n",
              "8  737            1416                 87        282             ⋯ 104   \n",
              "9  143             312                 66        173             ⋯  33   \n",
              "10  72             194                 27         99             ⋯  32   \n",
              "11 377             859                120        313             ⋯  61   \n",
              "12 225             600                 63        205             ⋯  55   \n",
              "13   0               1                  0          0             ⋯   0   \n",
              "14 443             899                  9         35             ⋯  69   \n",
              "15 127             349                 41        143             ⋯  34   \n",
              "16 196             463                 32        116             ⋯  68   \n",
              "   Turnovers Blocks PersonalFouls Disqualifications TotalPoints Technicals\n",
              "1   83        35    198           4                 1036        3         \n",
              "2   19         5     28           1                  159        0         \n",
              "3    7         9     19           0                   71        0         \n",
              "4  110       127    215           1                  749        2         \n",
              "5   93        40    164           0                  939        0         \n",
              "6    3         2      3           0                   14        0         \n",
              "7   65         4     98           0                  342        1         \n",
              "8  249        49    143           0                 1920        3         \n",
              "9   43        14    129           0                  410        1         \n",
              "10  40        20    100           1                  205        0         \n",
              "11 160         4    146           0                  992        1         \n",
              "12 114        12    178           2                  593        2         \n",
              "13   0         0      0           0                    0        0         \n",
              "14 116        29    154           0                 1070        0         \n",
              "15  77        47    118           1                  332        1         \n",
              "16  95        26    184           0                  504        0         \n",
              "   Ejections FlagrantFouls GamesStarted\n",
              "1  0         0             73          \n",
              "2  0         0              5          \n",
              "3  0         0              2          \n",
              "4  0         0             52          \n",
              "5  0         0             41          \n",
              "6  0         0              0          \n",
              "7  0         0              2          \n",
              "8  0         0             76          \n",
              "9  0         0              5          \n",
              "10 0         0              2          \n",
              "11 0         0             81          \n",
              "12 0         0              6          \n",
              "13 0         0              0          \n",
              "14 0         0             72          \n",
              "15 0         0              7          \n",
              "16 0         0              8          "
            ],
            "text/latex": "A data.table: 16 × 25\n\\begin{tabular}{lllllllllllllllllllll}\n League & Name & Team & Position & GamesPlayed & TotalMinutesPlayed & FieldGoalsMade & FieldGoalsAttempted & ThreesMade & ThreesAttempted & ⋯ & Steals & Turnovers & Blocks & PersonalFouls & Disqualifications & TotalPoints & Technicals & Ejections & FlagrantFouls & GamesStarted\\\\\n <fct> & <chr> & <fct> & <fct> & <int> & <int> & <int> & <int> & <int> & <int> & ⋯ & <int> & <int> & <int> & <int> & <int> & <int> & <int> & <int> & <int> & <int>\\\\\n\\hline\n\t NBA & Jae Crowder      & BOS & SF & 73 & 2310 & 359 &  812 & 122 & 363 & ⋯ & 126 &  83 &  35 & 198 & 4 & 1036 & 3 & 0 & 0 & 73\\\\\n\t NBA & James Ennis      & NOR & SF & 22 &  329 &  54 &  113 &  26 &  58 & ⋯ &  16 &  19 &   5 &  28 & 1 &  159 & 0 & 0 & 0 &  5\\\\\n\t NBA & Jeremy Evans     & DAL & SF & 30 &  251 &  26 &   48 &   4 &  16 & ⋯ &   6 &   7 &   9 &  19 & 0 &   71 & 0 & 0 & 0 &  2\\\\\n\t NBA & Jerami Grant     & PHI & SF & 77 & 2068 & 251 &  599 &  35 & 146 & ⋯ &  54 & 110 & 127 & 215 & 1 &  749 & 2 & 0 & 0 & 52\\\\\n\t NBA & Jeff Green       & LAC & SF & 80 & 2258 & 354 &  824 &  67 & 213 & ⋯ &  58 &  93 &  40 & 164 & 0 &  939 & 0 & 0 & 0 & 41\\\\\n\t NBA & Josh Huestis     & OKL & SF &  5 &   55 &   5 &   12 &   4 &   6 & ⋯ &   1 &   3 &   2 &   3 & 0 &   14 & 0 & 0 & 0 &  0\\\\\n\t NBA & Joe Ingles       & UTA & SF & 81 & 1241 & 124 &  291 &  81 & 210 & ⋯ &  55 &  65 &   4 &  98 & 0 &  342 & 1 & 0 & 0 &  2\\\\\n\t NBA & Lebron James     & CLE & SF & 76 & 2710 & 737 & 1416 &  87 & 282 & ⋯ & 104 & 249 &  49 & 143 & 0 & 1920 & 3 & 0 & 0 & 76\\\\\n\t NBA & Richar Jefferson & CLE & SF & 74 & 1326 & 143 &  312 &  66 & 173 & ⋯ &  33 &  43 &  14 & 129 & 0 &  410 & 1 & 0 & 0 &  5\\\\\n\t NBA & Chris Johnson    & UTA & SF & 70 &  858 &  72 &  194 &  27 &  99 & ⋯ &  32 &  40 &  20 & 100 & 1 &  205 & 0 & 0 & 0 &  2\\\\\n\t NBA & Joe Johnson      & MIA & SF & 81 & 2703 & 377 &  859 & 120 & 313 & ⋯ &  61 & 160 &   4 & 146 & 0 &  992 & 1 & 0 & 0 & 81\\\\\n\t NBA & Stanley Johnson  & DET & SF & 73 & 1685 & 225 &  600 &  63 & 205 & ⋯ &  55 & 114 &  12 & 178 & 2 &  593 & 2 & 0 & 0 &  6\\\\\n\t NBA & J.j. O'brien     & UTA & SF &  1 &    2 &   0 &    1 &   0 &   0 & ⋯ &   0 &   0 &   0 &   0 & 0 &    0 & 0 & 0 & 0 &  0\\\\\n\t NBA & Jabari Parker    & MIL & SF & 76 & 2407 & 443 &  899 &   9 &  35 & ⋯ &  69 & 116 &  29 & 154 & 0 & 1070 & 0 & 0 & 0 & 72\\\\\n\t NBA & Josh Smith       & HOU & SF & 55 &  878 & 127 &  349 &  41 & 143 & ⋯ &  34 &  77 &  47 & 118 & 1 &  332 & 1 & 0 & 0 &  7\\\\\n\t NBA & Justise Winslow  & MIA & SF & 78 & 2237 & 196 &  463 &  32 & 116 & ⋯ &  68 &  95 &  26 & 184 & 0 &  504 & 0 & 0 & 0 &  8\\\\\n\\end{tabular}\n",
            "text/markdown": "\nA data.table: 16 × 25\n\n| League &lt;fct&gt; | Name &lt;chr&gt; | Team &lt;fct&gt; | Position &lt;fct&gt; | GamesPlayed &lt;int&gt; | TotalMinutesPlayed &lt;int&gt; | FieldGoalsMade &lt;int&gt; | FieldGoalsAttempted &lt;int&gt; | ThreesMade &lt;int&gt; | ThreesAttempted &lt;int&gt; | ⋯ ⋯ | Steals &lt;int&gt; | Turnovers &lt;int&gt; | Blocks &lt;int&gt; | PersonalFouls &lt;int&gt; | Disqualifications &lt;int&gt; | TotalPoints &lt;int&gt; | Technicals &lt;int&gt; | Ejections &lt;int&gt; | FlagrantFouls &lt;int&gt; | GamesStarted &lt;int&gt; |\n|---|---|---|---|---|---|---|---|---|---|---|---|---|---|---|---|---|---|---|---|---|\n| NBA | Jae Crowder      | BOS | SF | 73 | 2310 | 359 |  812 | 122 | 363 | ⋯ | 126 |  83 |  35 | 198 | 4 | 1036 | 3 | 0 | 0 | 73 |\n| NBA | James Ennis      | NOR | SF | 22 |  329 |  54 |  113 |  26 |  58 | ⋯ |  16 |  19 |   5 |  28 | 1 |  159 | 0 | 0 | 0 |  5 |\n| NBA | Jeremy Evans     | DAL | SF | 30 |  251 |  26 |   48 |   4 |  16 | ⋯ |   6 |   7 |   9 |  19 | 0 |   71 | 0 | 0 | 0 |  2 |\n| NBA | Jerami Grant     | PHI | SF | 77 | 2068 | 251 |  599 |  35 | 146 | ⋯ |  54 | 110 | 127 | 215 | 1 |  749 | 2 | 0 | 0 | 52 |\n| NBA | Jeff Green       | LAC | SF | 80 | 2258 | 354 |  824 |  67 | 213 | ⋯ |  58 |  93 |  40 | 164 | 0 |  939 | 0 | 0 | 0 | 41 |\n| NBA | Josh Huestis     | OKL | SF |  5 |   55 |   5 |   12 |   4 |   6 | ⋯ |   1 |   3 |   2 |   3 | 0 |   14 | 0 | 0 | 0 |  0 |\n| NBA | Joe Ingles       | UTA | SF | 81 | 1241 | 124 |  291 |  81 | 210 | ⋯ |  55 |  65 |   4 |  98 | 0 |  342 | 1 | 0 | 0 |  2 |\n| NBA | Lebron James     | CLE | SF | 76 | 2710 | 737 | 1416 |  87 | 282 | ⋯ | 104 | 249 |  49 | 143 | 0 | 1920 | 3 | 0 | 0 | 76 |\n| NBA | Richar Jefferson | CLE | SF | 74 | 1326 | 143 |  312 |  66 | 173 | ⋯ |  33 |  43 |  14 | 129 | 0 |  410 | 1 | 0 | 0 |  5 |\n| NBA | Chris Johnson    | UTA | SF | 70 |  858 |  72 |  194 |  27 |  99 | ⋯ |  32 |  40 |  20 | 100 | 1 |  205 | 0 | 0 | 0 |  2 |\n| NBA | Joe Johnson      | MIA | SF | 81 | 2703 | 377 |  859 | 120 | 313 | ⋯ |  61 | 160 |   4 | 146 | 0 |  992 | 1 | 0 | 0 | 81 |\n| NBA | Stanley Johnson  | DET | SF | 73 | 1685 | 225 |  600 |  63 | 205 | ⋯ |  55 | 114 |  12 | 178 | 2 |  593 | 2 | 0 | 0 |  6 |\n| NBA | J.j. O'brien     | UTA | SF |  1 |    2 |   0 |    1 |   0 |   0 | ⋯ |   0 |   0 |   0 |   0 | 0 |    0 | 0 | 0 | 0 |  0 |\n| NBA | Jabari Parker    | MIL | SF | 76 | 2407 | 443 |  899 |   9 |  35 | ⋯ |  69 | 116 |  29 | 154 | 0 | 1070 | 0 | 0 | 0 | 72 |\n| NBA | Josh Smith       | HOU | SF | 55 |  878 | 127 |  349 |  41 | 143 | ⋯ |  34 |  77 |  47 | 118 | 1 |  332 | 1 | 0 | 0 |  7 |\n| NBA | Justise Winslow  | MIA | SF | 78 | 2237 | 196 |  463 |  32 | 116 | ⋯ |  68 |  95 |  26 | 184 | 0 |  504 | 0 | 0 | 0 |  8 |\n\n",
            "text/html": [
              "<table>\n",
              "<caption>A data.table: 16 × 25</caption>\n",
              "<thead>\n",
              "\t<tr><th scope=col>League</th><th scope=col>Name</th><th scope=col>Team</th><th scope=col>Position</th><th scope=col>GamesPlayed</th><th scope=col>TotalMinutesPlayed</th><th scope=col>FieldGoalsMade</th><th scope=col>FieldGoalsAttempted</th><th scope=col>ThreesMade</th><th scope=col>ThreesAttempted</th><th scope=col>⋯</th><th scope=col>Steals</th><th scope=col>Turnovers</th><th scope=col>Blocks</th><th scope=col>PersonalFouls</th><th scope=col>Disqualifications</th><th scope=col>TotalPoints</th><th scope=col>Technicals</th><th scope=col>Ejections</th><th scope=col>FlagrantFouls</th><th scope=col>GamesStarted</th></tr>\n",
              "\t<tr><th scope=col>&lt;fct&gt;</th><th scope=col>&lt;chr&gt;</th><th scope=col>&lt;fct&gt;</th><th scope=col>&lt;fct&gt;</th><th scope=col>&lt;int&gt;</th><th scope=col>&lt;int&gt;</th><th scope=col>&lt;int&gt;</th><th scope=col>&lt;int&gt;</th><th scope=col>&lt;int&gt;</th><th scope=col>&lt;int&gt;</th><th scope=col>⋯</th><th scope=col>&lt;int&gt;</th><th scope=col>&lt;int&gt;</th><th scope=col>&lt;int&gt;</th><th scope=col>&lt;int&gt;</th><th scope=col>&lt;int&gt;</th><th scope=col>&lt;int&gt;</th><th scope=col>&lt;int&gt;</th><th scope=col>&lt;int&gt;</th><th scope=col>&lt;int&gt;</th><th scope=col>&lt;int&gt;</th></tr>\n",
              "</thead>\n",
              "<tbody>\n",
              "\t<tr><td>NBA</td><td>Jae Crowder     </td><td>BOS</td><td>SF</td><td>73</td><td>2310</td><td>359</td><td> 812</td><td>122</td><td>363</td><td>⋯</td><td>126</td><td> 83</td><td> 35</td><td>198</td><td>4</td><td>1036</td><td>3</td><td>0</td><td>0</td><td>73</td></tr>\n",
              "\t<tr><td>NBA</td><td>James Ennis     </td><td>NOR</td><td>SF</td><td>22</td><td> 329</td><td> 54</td><td> 113</td><td> 26</td><td> 58</td><td>⋯</td><td> 16</td><td> 19</td><td>  5</td><td> 28</td><td>1</td><td> 159</td><td>0</td><td>0</td><td>0</td><td> 5</td></tr>\n",
              "\t<tr><td>NBA</td><td>Jeremy Evans    </td><td>DAL</td><td>SF</td><td>30</td><td> 251</td><td> 26</td><td>  48</td><td>  4</td><td> 16</td><td>⋯</td><td>  6</td><td>  7</td><td>  9</td><td> 19</td><td>0</td><td>  71</td><td>0</td><td>0</td><td>0</td><td> 2</td></tr>\n",
              "\t<tr><td>NBA</td><td>Jerami Grant    </td><td>PHI</td><td>SF</td><td>77</td><td>2068</td><td>251</td><td> 599</td><td> 35</td><td>146</td><td>⋯</td><td> 54</td><td>110</td><td>127</td><td>215</td><td>1</td><td> 749</td><td>2</td><td>0</td><td>0</td><td>52</td></tr>\n",
              "\t<tr><td>NBA</td><td>Jeff Green      </td><td>LAC</td><td>SF</td><td>80</td><td>2258</td><td>354</td><td> 824</td><td> 67</td><td>213</td><td>⋯</td><td> 58</td><td> 93</td><td> 40</td><td>164</td><td>0</td><td> 939</td><td>0</td><td>0</td><td>0</td><td>41</td></tr>\n",
              "\t<tr><td>NBA</td><td>Josh Huestis    </td><td>OKL</td><td>SF</td><td> 5</td><td>  55</td><td>  5</td><td>  12</td><td>  4</td><td>  6</td><td>⋯</td><td>  1</td><td>  3</td><td>  2</td><td>  3</td><td>0</td><td>  14</td><td>0</td><td>0</td><td>0</td><td> 0</td></tr>\n",
              "\t<tr><td>NBA</td><td>Joe Ingles      </td><td>UTA</td><td>SF</td><td>81</td><td>1241</td><td>124</td><td> 291</td><td> 81</td><td>210</td><td>⋯</td><td> 55</td><td> 65</td><td>  4</td><td> 98</td><td>0</td><td> 342</td><td>1</td><td>0</td><td>0</td><td> 2</td></tr>\n",
              "\t<tr><td>NBA</td><td>Lebron James    </td><td>CLE</td><td>SF</td><td>76</td><td>2710</td><td>737</td><td>1416</td><td> 87</td><td>282</td><td>⋯</td><td>104</td><td>249</td><td> 49</td><td>143</td><td>0</td><td>1920</td><td>3</td><td>0</td><td>0</td><td>76</td></tr>\n",
              "\t<tr><td>NBA</td><td>Richar Jefferson</td><td>CLE</td><td>SF</td><td>74</td><td>1326</td><td>143</td><td> 312</td><td> 66</td><td>173</td><td>⋯</td><td> 33</td><td> 43</td><td> 14</td><td>129</td><td>0</td><td> 410</td><td>1</td><td>0</td><td>0</td><td> 5</td></tr>\n",
              "\t<tr><td>NBA</td><td>Chris Johnson   </td><td>UTA</td><td>SF</td><td>70</td><td> 858</td><td> 72</td><td> 194</td><td> 27</td><td> 99</td><td>⋯</td><td> 32</td><td> 40</td><td> 20</td><td>100</td><td>1</td><td> 205</td><td>0</td><td>0</td><td>0</td><td> 2</td></tr>\n",
              "\t<tr><td>NBA</td><td>Joe Johnson     </td><td>MIA</td><td>SF</td><td>81</td><td>2703</td><td>377</td><td> 859</td><td>120</td><td>313</td><td>⋯</td><td> 61</td><td>160</td><td>  4</td><td>146</td><td>0</td><td> 992</td><td>1</td><td>0</td><td>0</td><td>81</td></tr>\n",
              "\t<tr><td>NBA</td><td>Stanley Johnson </td><td>DET</td><td>SF</td><td>73</td><td>1685</td><td>225</td><td> 600</td><td> 63</td><td>205</td><td>⋯</td><td> 55</td><td>114</td><td> 12</td><td>178</td><td>2</td><td> 593</td><td>2</td><td>0</td><td>0</td><td> 6</td></tr>\n",
              "\t<tr><td>NBA</td><td>J.j. O'brien    </td><td>UTA</td><td>SF</td><td> 1</td><td>   2</td><td>  0</td><td>   1</td><td>  0</td><td>  0</td><td>⋯</td><td>  0</td><td>  0</td><td>  0</td><td>  0</td><td>0</td><td>   0</td><td>0</td><td>0</td><td>0</td><td> 0</td></tr>\n",
              "\t<tr><td>NBA</td><td>Jabari Parker   </td><td>MIL</td><td>SF</td><td>76</td><td>2407</td><td>443</td><td> 899</td><td>  9</td><td> 35</td><td>⋯</td><td> 69</td><td>116</td><td> 29</td><td>154</td><td>0</td><td>1070</td><td>0</td><td>0</td><td>0</td><td>72</td></tr>\n",
              "\t<tr><td>NBA</td><td>Josh Smith      </td><td>HOU</td><td>SF</td><td>55</td><td> 878</td><td>127</td><td> 349</td><td> 41</td><td>143</td><td>⋯</td><td> 34</td><td> 77</td><td> 47</td><td>118</td><td>1</td><td> 332</td><td>1</td><td>0</td><td>0</td><td> 7</td></tr>\n",
              "\t<tr><td>NBA</td><td>Justise Winslow </td><td>MIA</td><td>SF</td><td>78</td><td>2237</td><td>196</td><td> 463</td><td> 32</td><td>116</td><td>⋯</td><td> 68</td><td> 95</td><td> 26</td><td>184</td><td>0</td><td> 504</td><td>0</td><td>0</td><td>0</td><td> 8</td></tr>\n",
              "</tbody>\n",
              "</table>\n"
            ]
          },
          "metadata": {
            "tags": []
          }
        }
      ]
    }
  ]
}